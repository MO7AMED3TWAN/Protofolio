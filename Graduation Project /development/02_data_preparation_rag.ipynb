{
 "cells": [
  {
   "cell_type": "code",
   "execution_count": 1,
   "id": "8836a253",
   "metadata": {},
   "outputs": [],
   "source": [
    "import warnings\n",
    "\n",
    "warnings.filterwarnings('ignore')"
   ]
  },
  {
   "cell_type": "code",
   "execution_count": null,
   "id": "06324d1c",
   "metadata": {
    "_cell_guid": "b1076dfc-b9ad-4769-8c92-a6c4dae69d19",
    "_uuid": "8f2839f25d086af736a60e9eeb907d3b93b6e0e5",
    "execution": {
     "iopub.execute_input": "2025-09-08T05:26:12.002339Z",
     "iopub.status.busy": "2025-09-08T05:26:12.002120Z",
     "iopub.status.idle": "2025-09-08T05:26:12.006367Z",
     "shell.execute_reply": "2025-09-08T05:26:12.005581Z",
     "shell.execute_reply.started": "2025-09-08T05:26:12.002314Z"
    },
    "papermill": {
     "duration": 1405.640289,
     "end_time": "2025-06-26T15:09:03.585206",
     "exception": false,
     "start_time": "2025-06-26T14:45:37.944917",
     "status": "completed"
    },
    "tags": [],
    "trusted": true
   },
   "outputs": [],
   "source": [
    "!pip install pandas --break-system-packages -q\n",
    "!pip install pypdf --break-system-packages -q\n",
    "!pip install langchain --break-system-packages -q\n",
    "!pip install langchain-community --break-system-packages -q\n",
    "!pip install langchain-experimental --break-system-packages -q\n",
    "!pip install langchain-huggingface --break-system-packages -q\n",
    "!pip install chromadb --break-system-packages -q"
   ]
  },
  {
   "cell_type": "markdown",
   "id": "ebb53619",
   "metadata": {
    "papermill": {
     "duration": 0.007936,
     "end_time": "2025-06-26T15:09:03.602189",
     "exception": false,
     "start_time": "2025-06-26T15:09:03.594253",
     "status": "completed"
    },
    "tags": []
   },
   "source": [
    "# Step 1 - Importing The Libraries"
   ]
  },
  {
   "cell_type": "code",
   "execution_count": 2,
   "id": "f7f9c46e",
   "metadata": {
    "papermill": {
     "duration": 39.659517,
     "end_time": "2025-06-26T15:09:43.269854",
     "exception": true,
     "start_time": "2025-06-26T15:09:03.610337",
     "status": "failed"
    },
    "tags": [],
    "trusted": true
   },
   "outputs": [],
   "source": [
    "# Basic Data Processing\n",
    "import pandas as pd\n",
    "import json\n",
    "import re\n",
    "\n",
    "# PDF Processing\n",
    "from PyPDF2 import PdfReader\n",
    "\n",
    "# LangChain Components\n",
    "from langchain.schema import Document\n",
    "from langchain_experimental.text_splitter import SemanticChunker\n",
    "from langchain_huggingface import HuggingFaceEmbeddings\n",
    "from langchain.vectorstores import Chroma"
   ]
  },
  {
   "cell_type": "markdown",
   "id": "5f8ad30b",
   "metadata": {},
   "source": [
    "# Step 1 - PDF Processing and JSON Extraction"
   ]
  },
  {
   "cell_type": "code",
   "execution_count": 3,
   "id": "31252f01",
   "metadata": {},
   "outputs": [],
   "source": [
    "def process_pdf_to_json(pdf_path, output_json_path):\n",
    "    \"\"\"\n",
    "    Process PDF file and extract content into JSON format\n",
    "    \"\"\"\n",
    "    # Read PDF\n",
    "    reader = PdfReader(pdf_path)\n",
    "    \n",
    "    # Initialize list to store all documents\n",
    "    documents = []\n",
    "    \n",
    "    # Process each page\n",
    "    for page_num, page in enumerate(reader.pages):\n",
    "        text = page.extract_text()\n",
    "        \n",
    "        # Split text into sections (you might need to adjust this based on your PDF structure)\n",
    "        sections = re.split(r'\\n\\s*\\n', text)\n",
    "        \n",
    "        for section in sections:\n",
    "            if len(section.strip()) > 50:  # Minimum content length\n",
    "                # Create document structure\n",
    "                doc = {\n",
    "                    \"Title\": f\"Page {page_num + 1} - Section\",  \n",
    "                    \"Context\": section.strip(),\n",
    "                    \"Page\": page_num + 1\n",
    "                }\n",
    "                documents.append(doc)\n",
    "    \n",
    "    # Save to JSON\n",
    "    with open(output_json_path, 'w', encoding='utf-8') as f:\n",
    "        json.dump(documents, f, ensure_ascii=False, indent=2)\n",
    "    \n",
    "    print(f\"Processed {len(reader.pages)} pages into {len(documents)} documents\")\n",
    "    return documents"
   ]
  },
  {
   "cell_type": "code",
   "execution_count": 4,
   "id": "b1734c8e",
   "metadata": {},
   "outputs": [
    {
     "name": "stdout",
     "output_type": "stream",
     "text": [
      "Processed 55 pages into 112 documents\n"
     ]
    }
   ],
   "source": [
    "# Process the PDF and save to JSON\n",
    "pdf_path = \"inputs/pdf/data.pdf\"\n",
    "json_output_path = \"outputs/data/processed/data.json\"\n",
    "\n",
    "documents = process_pdf_to_json(pdf_path, json_output_path)"
   ]
  },
  {
   "cell_type": "markdown",
   "id": "9088d265",
   "metadata": {
    "papermill": {
     "duration": null,
     "end_time": null,
     "exception": null,
     "start_time": null,
     "status": "pending"
    },
    "tags": []
   },
   "source": [
    "# Step 2 - Loading and Restructuring JSON Data"
   ]
  },
  {
   "cell_type": "code",
   "execution_count": 5,
   "id": "19f1174a",
   "metadata": {
    "papermill": {
     "duration": null,
     "end_time": null,
     "exception": null,
     "start_time": null,
     "status": "pending"
    },
    "tags": [],
    "trusted": true
   },
   "outputs": [],
   "source": [
    "def load_the_data(file_path):\n",
    "    \"\"\"Load and process the JSON file\"\"\"\n",
    "    try:\n",
    "        with open(file_path, 'r', encoding='utf-8') as file:\n",
    "            data = json.load(file)\n",
    "            \n",
    "        print(f\"Successfully loaded {len(data)} documents\")\n",
    "        return data\n",
    "        \n",
    "    except FileNotFoundError:\n",
    "        print(f\"File {file_path} not found!\")\n",
    "        return []\n",
    "    except json.JSONDecodeError as e:\n",
    "        print(f\"JSON decode error: {e}\")\n",
    "        return []\n",
    "    except Exception as e:\n",
    "        print(f\"Unexpected error: {e}\")\n",
    "        return []\n",
    "\n",
    "def analyze_the_data(data):\n",
    "    \"\"\"Analyze the loaded data\"\"\"\n",
    "    if not data:\n",
    "        return\n",
    "    \n",
    "    # Create DataFrame\n",
    "    df = pd.DataFrame(data)\n",
    "    \n",
    "    print(\"\\nData Analysis:\")\n",
    "    print(f\"Total documents: {len(df)}\")\n",
    "    print(f\"Columns: {df.columns.tolist()}\")\n",
    "    \n",
    "    # Calculate text lengths\n",
    "    df['title_length'] = df['Title'].apply(len)\n",
    "    df['context_length'] = df['Context'].apply(len)\n",
    "    \n",
    "    print(f\"\\nText Length Statistics:\")\n",
    "    print(f\"Average title length: {df['title_length'].mean():.1f} characters\")\n",
    "    print(f\"Average context length: {df['context_length'].mean():.1f} characters\")\n",
    "    print(f\"Total context characters: {df['context_length'].sum():,}\")\n",
    "    \n",
    "    return df\n",
    "\n",
    "def display_documents(data, max_display=5):\n",
    "    \"\"\"Display the documents in a readable format\"\"\"\n",
    "    print(f\"\\nDocuments (showing first {max_display}):\")\n",
    "    print(\"-\" * 50)\n",
    "    \n",
    "    for i, doc in enumerate(data[:max_display]):\n",
    "        print(f\"\\n{i+1}. {doc['Title']}\")\n",
    "        print(f\"   {doc['Context'][:100]}...\")\n",
    "        print(f\"   Length: {len(doc['Context'])} characters\")\n",
    "        print(\"-\" * 30)"
   ]
  },
  {
   "cell_type": "code",
   "execution_count": 6,
   "id": "01e8c686-c609-4927-a36a-6a8071162f89",
   "metadata": {
    "trusted": true
   },
   "outputs": [
    {
     "name": "stdout",
     "output_type": "stream",
     "text": [
      "Successfully loaded 112 documents\n"
     ]
    }
   ],
   "source": [
    "file_path = \"outputs/data/processed/data.json\"\n",
    "    \n",
    "# Load the data\n",
    "whole_data = load_the_data(file_path)"
   ]
  },
  {
   "cell_type": "code",
   "execution_count": 7,
   "id": "3b536495-54ed-4f7e-9659-cadd6c4d38aa",
   "metadata": {
    "trusted": true
   },
   "outputs": [
    {
     "name": "stdout",
     "output_type": "stream",
     "text": [
      "\n",
      "Documents (showing first 5):\n",
      "--------------------------------------------------\n",
      "\n",
      "1. Page 1 - Section\n",
      "   الوثيقة القانونية والتشريعات الصادرة لصاحل املرأة الصرية...\n",
      "   Length: 56 characters\n",
      "------------------------------\n",
      "\n",
      "2. Page 2 - Section\n",
      "   2 \n",
      "  النظام القانوينجلهموورية صصر العريية   \n",
      "السياق العام للبلد \n",
      " العاصمة: القاهرة   \n",
      "عدد السكان1 : ...\n",
      "   Length: 1898 characters\n",
      "------------------------------\n",
      "\n",
      "3. Page 2 - Section\n",
      "   1 - الجهاز المركزي للتعبئة العامة واالحصاء؛ الكتاب  االحصائي السنوي، سبتمبر 2015. \n",
      "2 - الجهاز المركز...\n",
      "   Length: 205 characters\n",
      "------------------------------\n",
      "\n",
      "4. Page 3 - Section\n",
      "   3 \n",
      "  الناتج المحلىاإلجمالي4  المصري عن عام 2013/2014  = بسعر السوق 1643,4 .مليار جنية مصري 5 \n",
      " معدل ...\n",
      "   Length: 180 characters\n",
      "------------------------------\n",
      "\n",
      "5. Page 3 - Section\n",
      "   4  الناتج المحلى االجماليبسعر السوق: ما انتجه من سلع وخدمات باألسعار الجارية مستبعد فئة المستلزمات ا...\n",
      "   Length: 428 characters\n",
      "------------------------------\n",
      "\n",
      "Data Analysis:\n",
      "Total documents: 112\n",
      "Columns: ['Title', 'Context', 'Page']\n",
      "\n",
      "Text Length Statistics:\n",
      "Average title length: 16.9 characters\n",
      "Average context length: 1179.1 characters\n",
      "Total context characters: 132,056\n"
     ]
    }
   ],
   "source": [
    "if whole_data:    \n",
    "    # Display documents\n",
    "    display_documents(whole_data)\n",
    "\n",
    "    # Show Some Analysis\n",
    "    analyze_the_data(whole_data)"
   ]
  },
  {
   "cell_type": "markdown",
   "id": "dff641a1",
   "metadata": {
    "papermill": {
     "duration": null,
     "end_time": null,
     "exception": null,
     "start_time": null,
     "status": "pending"
    },
    "tags": []
   },
   "source": [
    "# Step 3 - Document Creation"
   ]
  },
  {
   "cell_type": "code",
   "execution_count": 8,
   "id": "5db01bcb-fdf6-4e2a-b7ba-8ed51f9b20b0",
   "metadata": {
    "trusted": true
   },
   "outputs": [],
   "source": [
    "def Create_documents(whole_data):\n",
    "    \"\"\"\n",
    "    Create documents suitable for embedding models\n",
    "    Returns: List of Document objects with combined text for embedding\n",
    "    \"\"\"\n",
    "    documents = []\n",
    "    \n",
    "    for item in whole_data:\n",
    "        if isinstance(item, list):\n",
    "            item = item[0]\n",
    "\n",
    "        title = item.get(\"Title\", \"\")\n",
    "        context = item.get(\"Context\", \"\")\n",
    "\n",
    "        if title and context:\n",
    "            # Combine title and context for better embedding quality\n",
    "            combined_text = f\"{title}\\n\\n{context}\"\n",
    "            \n",
    "            documents.append(Document(\n",
    "                page_content=combined_text,  # This is what gets embedded\n",
    "                metadata={\n",
    "                    \"title\": title,\n",
    "                    \"context\": context,\n",
    "                    \"text_length\": len(combined_text)\n",
    "                }\n",
    "            ))\n",
    "    \n",
    "    return documents"
   ]
  },
  {
   "cell_type": "code",
   "execution_count": 9,
   "id": "c90f157f-3e58-4665-9210-3412fd67e0a1",
   "metadata": {
    "trusted": true
   },
   "outputs": [],
   "source": [
    "# Usage:\n",
    "documents = Create_documents(whole_data)"
   ]
  },
  {
   "cell_type": "code",
   "execution_count": 10,
   "id": "3a6a941c-2619-402e-9db6-156b4b802fdd",
   "metadata": {
    "trusted": true
   },
   "outputs": [
    {
     "name": "stdout",
     "output_type": "stream",
     "text": [
      "Documents lenght : 112\n",
      "\n",
      "Document 1:\n",
      "Title : Page 1 - Section\n",
      "\n",
      "الوثيقة القانونية والتشريعات الصادرة لصاحل املرأة الصرية...\n",
      "Meta Data : {'title': 'Page 1 - Section', 'context': 'الوثيقة القانونية والتشريعات الصادرة لصاحل املرأة الصرية', 'text_length': 74}\n",
      "--------------------------------------------------\n",
      "\n",
      "Document 2:\n",
      "Title : Page 2 - Section\n",
      "\n",
      "2 \n",
      "  النظام القانوينجلهموورية صصر العريية   \n",
      "السياق العام للبلد \n",
      " العاصمة: القاهرة...\n",
      "Meta Data : {'title': 'Page 2 - Section', 'context': '2 \\n  النظام القانوينجلهموورية صصر العريية   \\nالسياق العام للبلد \\n العاصمة: القاهرة   \\nعدد السكان1 : 96,521,618 \\nاللغة الرسمية: العربية \\nالمساحة الجغرافية: تقع جمهورية مصر العربية فى الشمال الشرقي لقار ة \\nإفريقيا، وتطل على كل من الساحل الجنوبي الشرقي للبحر المتوسط \\nوالساحل الشمالي الغربي للبحر االحمر بمساحة اجمالية تبلغ مليون كم 2 \\n تقريباً، مصر دولة إفريقية غير أن جزءا من أراضيها، وهى شبه جزيرة\\nسيناء\" يقع في قارة أسيا. \\nلمصر حدود مشتركة مع ليبيا من الغرب، مع السودان من الجنوب، ومع \\nاسرائيل وفلسطين (قطاع غزة) من الشمال الشرقي، ويمر الممر المائي (قناة \\nالسويس) الذى يربط البحر المتوسط والبحر االحمر عبر االراضي المصرية \\nفاصالً الجزء األفريقي منها وهو األكبر مساحة عن الجزء األسيوي األصغر \\nمنها\"، تشكل الصحراء غالبية مساحة مصر، ويتركز أغلب سكان الجمهورية  \\nفي وادى النيل والدلتا2. \\n كماجاء في دستورها الجديد( 2014 )،جمهورية مصر العربية دولة ذات سيادة، موحدة ال تقبل التجزئة، وال  \\nينزل عن شيء منها، نظامها جمهوري  ديمقراطي، يقوم على أساس المواطنة وسيادة القانون   و يقوم النظام \\nالسياسي على أساس التعددية السياسية والحزبية، والتداول السلمى للسلطة، والفصل بين السلطات والتوازن \\nبينها، رئيس الجمهورية هو رئيس الدولة، ورئيس السلطة التنفيذية، و يكلف رئيساً لمجلس الوزراء، بتشكيل \\nالحكومة وعرض برنامجه على مجلس النواب الذي يتولى سلطة التشريع، وا قرار السياسة العامة للدولة، والخطة \\nالعامة للتنمية االقتصادية، واالجتماعية، والموازنة العامة للدولة، ويمارس الرقابة على أعمال السلطة التنفيذية.3 البنية السياسية \\nبدأ االقتصاد المصري معتمدا على الزراعة بشهرة بعض المحاصيل كالقطن والفواكه ثم تطور الصناعات مع \\nالنظام االشتراكي وتجلت السياحة من أهم مصادر االقتصاد  زيادة على تعدد الثروات الطبيعية مثل النفط \\nوالغاز الطبيعي وعائدات قناة السويس كممر مالحي عالمي بجانب نشاطات اإلعالم و في الفترة األخيرة، اتجه \\nاالقتصاد نحو االقتصاد الحر وزيادة االستثمارات . يعتبر االقتصاد المصري  الثاني في الدول العربية بعد \\nالمملكة العربية السعودية والثاني إفريقيا بعد جنوب إفريقيا. \\nالعملة: الجنيه المصري   النظام االقتصادي', 'text_length': 1916}\n",
      "--------------------------------------------------\n"
     ]
    }
   ],
   "source": [
    "print(f\"Documents lenght : {len(documents)}\")\n",
    "\n",
    "for i, doc in enumerate(documents[:2]):\n",
    "    print(f\"\\nDocument {i+1}:\")\n",
    "    print(f\"Title : {doc.page_content[:100]}...\")\n",
    "    print(f\"Meta Data : {doc.metadata}\")\n",
    "    print(\"-\" * 50)"
   ]
  },
  {
   "cell_type": "code",
   "execution_count": 11,
   "id": "3ca63793-8d5d-4c4e-8569-d62bb7b8d9f1",
   "metadata": {
    "trusted": true
   },
   "outputs": [
    {
     "name": "stdout",
     "output_type": "stream",
     "text": [
      "Created 112 documents for embedding\n",
      "Sample text for embedding: Page 2 - Section\n",
      "\n",
      "2 \n",
      "  النظام القانوينجلهموورية صصر العريية   \n",
      "السياق العام للبلد \n",
      " العاصمة: القاهرة   \n",
      "عدد السكان1 : 96,521,618 \n",
      "اللغة الرسمية: العربية \n",
      "المساحة الجغرافية: تقع جمهورية مصر العربية فى الشمال الشرقي لقار ة \n",
      "إفريقيا، وتطل على كل من الساحل الجنوبي الشرقي للبحر المتوسط \n",
      "والساحل الشمالي الغربي للبحر االحمر بمساحة اجمالية تبلغ مليون كم 2 \n",
      " تقريباً، مصر دولة إفريقية غير أن جزءا من أراضيها، وهى شبه جزيرة\n",
      "سيناء\" يقع في قارة أسيا. \n",
      "لمصر حدود مشتركة مع ليبيا من الغرب، مع السودان من الجنوب، ومع \n",
      "اسرائيل وفلسطين (قطاع غزة) من الشمال الشرقي، ويمر الممر المائي (قناة \n",
      "السويس) الذى يربط البحر المتوسط والبحر االحمر عبر االراضي المصرية \n",
      "فاصالً الجزء األفريقي منها وهو األكبر مساحة عن الجزء األسيوي األصغر \n",
      "منها\"، تشكل الصحراء غالبية مساحة مصر، ويتركز أغلب سكان الجمهورية  \n",
      "في وادى النيل والدلتا2. \n",
      " كماجاء في دستورها الجديد( 2014 )،جمهورية مصر العربية دولة ذات سيادة، موحدة ال تقبل التجزئة، وال  \n",
      "ينزل عن شيء منها، نظامها جمهوري  ديمقراطي، يقوم على أساس المواطنة وسيادة القانون   و يقوم النظام \n",
      "السياسي على أساس التعددية السياسية والحزبية، والتداول السلمى للسلطة، والفصل بين السلطات والتوازن \n",
      "بينها، رئيس الجمهورية هو رئيس الدولة، ورئيس السلطة التنفيذية، و يكلف رئيساً لمجلس الوزراء، بتشكيل \n",
      "الحكومة وعرض برنامجه على مجلس النواب الذي يتولى سلطة التشريع، وا قرار السياسة العامة للدولة، والخطة \n",
      "العامة للتنمية االقتصادية، واالجتماعية، والموازنة العامة للدولة، ويمارس الرقابة على أعمال السلطة التنفيذية.3 البنية السياسية \n",
      "بدأ االقتصاد المصري معتمدا على الزراعة بشهرة بعض المحاصيل كالقطن والفواكه ثم تطور الصناعات مع \n",
      "النظام االشتراكي وتجلت السياحة من أهم مصادر االقتصاد  زيادة على تعدد الثروات الطبيعية مثل النفط \n",
      "والغاز الطبيعي وعائدات قناة السويس كممر مالحي عالمي بجانب نشاطات اإلعالم و في الفترة األخيرة، اتجه \n",
      "االقتصاد نحو االقتصاد الحر وزيادة االستثمارات . يعتبر االقتصاد المصري  الثاني في الدول العربية بعد \n",
      "المملكة العربية السعودية والثاني إفريقيا بعد جنوب إفريقيا. \n",
      "العملة: الجنيه المصري   النظام االقتصادي...\n"
     ]
    }
   ],
   "source": [
    "# For embeddings, you'll use:\n",
    "texts = [doc.page_content for doc in documents] \n",
    "\n",
    "print(f\"Created {len(documents)} documents for embedding\")\n",
    "print(f\"Sample text for embedding: {texts[1][:]}...\")"
   ]
  },
  {
   "cell_type": "markdown",
   "id": "f0a731ad",
   "metadata": {
    "papermill": {
     "duration": null,
     "end_time": null,
     "exception": null,
     "start_time": null,
     "status": "pending"
    },
    "tags": []
   },
   "source": [
    "# Step 4 - Create The Vector Database - ChromaDB"
   ]
  },
  {
   "cell_type": "code",
   "execution_count": 12,
   "id": "eaa3f91b",
   "metadata": {
    "papermill": {
     "duration": null,
     "end_time": null,
     "exception": null,
     "start_time": null,
     "status": "pending"
    },
    "tags": [],
    "trusted": true
   },
   "outputs": [
    {
     "name": "stderr",
     "output_type": "stream",
     "text": [
      "2025-09-14 08:03:31.173121: I tensorflow/core/platform/cpu_feature_guard.cc:210] This TensorFlow binary is optimized to use available CPU instructions in performance-critical operations.\n",
      "To enable the following instructions: AVX2 FMA, in other operations, rebuild TensorFlow with the appropriate compiler flags.\n"
     ]
    },
    {
     "data": {
      "application/vnd.jupyter.widget-view+json": {
       "model_id": "714d42b0fc3a484e93fc4083693e9e0d",
       "version_major": 2,
       "version_minor": 0
      },
      "text/plain": [
       "vocab.txt: 0.00B [00:00, ?B/s]"
      ]
     },
     "metadata": {},
     "output_type": "display_data"
    },
    {
     "data": {
      "application/vnd.jupyter.widget-view+json": {
       "model_id": "791638d54ba7466ea64181c2b22cdc89",
       "version_major": 2,
       "version_minor": 0
      },
      "text/plain": [
       "tokenizer.json: 0.00B [00:00, ?B/s]"
      ]
     },
     "metadata": {},
     "output_type": "display_data"
    },
    {
     "data": {
      "application/vnd.jupyter.widget-view+json": {
       "model_id": "3add53d004c042d78e0dd66a38720409",
       "version_major": 2,
       "version_minor": 0
      },
      "text/plain": [
       "special_tokens_map.json:   0%|          | 0.00/695 [00:00<?, ?B/s]"
      ]
     },
     "metadata": {},
     "output_type": "display_data"
    },
    {
     "data": {
      "application/vnd.jupyter.widget-view+json": {
       "model_id": "582223bcfb0a4b54b2561da032aad998",
       "version_major": 2,
       "version_minor": 0
      },
      "text/plain": [
       "config.json:   0%|          | 0.00/296 [00:00<?, ?B/s]"
      ]
     },
     "metadata": {},
     "output_type": "display_data"
    }
   ],
   "source": [
    "embeddings = HuggingFaceEmbeddings(model_name=\"Omartificial-Intelligence-Space/GATE-AraBert-v1\")\n",
    "splitter = SemanticChunker(embeddings)"
   ]
  },
  {
   "cell_type": "code",
   "execution_count": 13,
   "id": "727e0cd3",
   "metadata": {},
   "outputs": [],
   "source": [
    "chunks = splitter.split_documents(documents)"
   ]
  },
  {
   "cell_type": "code",
   "execution_count": 16,
   "id": "d654bdd4",
   "metadata": {},
   "outputs": [
    {
     "data": {
      "text/plain": [
       "Document(metadata={'title': 'Page 8 - Section', 'context': '8 \\n  الثالثة، والملكية العامة, والملكية الخاصة, والملكية التعاونية\"40 .\"للملكية العامة حرمة, ال يجوز المساس بها, \\nوحمايتها واجب وفقا للقانون\". 41 \"السجن دار إصالح وتأهيل. تخضع السجون  وأماكن االحتجاز....ويحظر \\nفيها كل ما ينافي كرامة اإلنسان, أو يعرض صحته للضرر\".42 \"الكرامة حق لكل إنسان, وال يجوز المساس \\nبها, وتلتزم الدولة باحترامها وحمايتها\".43 \"كل من يقبض عليه, أو يحبس, أو تقيد حريته تجب معاملته بما \\nيحفظ عليه كرامته, وال يجوز تعذيبه, وال ترهيبه, وال إكراهه, وال إيذاؤه بدنيا أو معنويا\"44  .\"السجن دار \\nإصالح وتأهيل... ويحظر فيها كل ما ينافي كرامة اإلنسان, أو يعرض صحته للضرر....\" 45 \"للحياة \\nالخاصة حرمة, وهي مصونة ال تمس. وللمراسالت البريدية, والبرقية, واإللكترونية, والمحادثات الهاتفية, \\nوغيرها من وسائل االتصال حرمة, وسريتها مكفولة, وال تجوز مصادرتها, أو االطالع عليها, أو رقابتها .... \\nكما تلتزم الدولة بحماية حق المواطنين في استخدام وسائل االتصال العامة بكافة أشكالها, وال يجوز تعطيلها \\nأو وقفها أو حرمان المواطنين منها, بشكل تعسفي, ...\"46. \"للمنازل حرمة, وفيما عدا حاالت الخطـر, أو \\nاالستغاثة ال يجوز دخولها, وال تفتيشها, وال مراقبتها أو التنصت عليها...\"47 . \"لجسد اإلنسان حرمة, \\nواالعتداء عليه, أو تشويهه, أو التمثيل به, جريمة يعاقب عليها القانون . ويحظر االتجار بأعضائه, وال يجوز \\nإجراء أية تجربة طبية, أو علمية عليه بغير رضاه الحر الموثق, .... \"48 .\"يحظر التهجير القسري  التعسفي \\nللمواطنين بجميع صوره وأشكاله,....\"49 . \"المعلومات والبيانات واإلحصاءات والوثائق الرسمية ملك للشعب, \\nواإلفصاح عنها من مصادرها المختلفة, حق تكفله الدولة لكل مواطن, وتلتزم الدولة بتوفيرها وا تاحتها \\nللمواطنين بشفافية, ...\"50 \"تلتزم الدولة بحماية حقوق  الملكية الفكرية بشتي أنواعها في كافة \\nالمجاالت,....\"51 \"يحظر بأي وجه فرض رقابة علي الصحف ووسائل اإلعالم المصرية أو مصادرتها أو \\nوقفها أو إغالقها.... وال  توقع عقوبة سالبة للحرية في الجرائم التي ترتكب بطريق النشر أو العالنية, ...\"52 \\n\"تلتزم الدولة بضمان استقالل المؤسسات الصحفية ووسائل اإلعالم المملوكة لها, بما يكفل حيادها, وتعبيرها', 'text_length': 1894}, page_content='\"48 .\"يحظر التهجير القسري  التعسفي \\nللمواطنين بجميع صوره وأشكاله,....\"49 . \"المعلومات والبيانات واإلحصاءات والوثائق الرسمية ملك للشعب, \\nواإلفصاح عنها من مصادرها المختلفة, حق تكفله الدولة لكل مواطن, وتلتزم الدولة بتوفيرها وا تاحتها \\nللمواطنين بشفافية, ...\"50 \"تلتزم الدولة بحماية حقوق  الملكية الفكرية بشتي أنواعها في كافة \\nالمجاالت,....\"51 \"يحظر بأي وجه فرض رقابة علي الصحف ووسائل اإلعالم المصرية أو مصادرتها أو \\nوقفها أو إغالقها.... وال  توقع عقوبة سالبة للحرية في الجرائم التي ترتكب بطريق النشر أو العالنية, ...\"52 \\n\"تلتزم الدولة بضمان استقالل المؤسسات الصحفية ووسائل اإلعالم المملوكة لها, بما يكفل حيادها, وتعبيرها')"
      ]
     },
     "execution_count": 16,
     "metadata": {},
     "output_type": "execute_result"
    }
   ],
   "source": [
    "chunks[20]"
   ]
  },
  {
   "cell_type": "markdown",
   "id": "168c5438",
   "metadata": {},
   "source": [
    "Document(metadata={'title': 'Page 8 - Section', 'context': '8 \\n  الثالثة، والملكية العامة, والملكية الخاصة, والملكية التعاونية\"40 .\"للملكية العامة حرمة, ال يجوز المساس بها, \\nوحمايتها واجب وفقا للقانون\". 41 \"السجن دار إصالح وتأهيل. تخضع السجون  وأماكن االحتجاز....ويحظر \\nفيها كل ما ينافي كرامة اإلنسان, أو يعرض صحته للضرر\".42 \"الكرامة حق لكل إنسان, وال يجوز المساس \\nبها, وتلتزم الدولة باحترامها وحمايتها\".43 \"كل من يقبض عليه, أو يحبس, أو تقيد حريته تجب معاملته بما \\nيحفظ عليه كرامته, وال يجوز تعذيبه, وال ترهيبه, وال إكراهه, وال إيذاؤه بدنيا أو معنويا\"44  .\"السجن دار \\nإصالح وتأهيل... ويحظر فيها كل ما ينافي كرامة اإلنسان, أو يعرض صحته للضرر....\" 45 \"للحياة \\nالخاصة حرمة, وهي مصونة ال تمس. وللمراسالت البريدية, والبرقية, واإللكترونية, والمحادثات الهاتفية, \\nوغيرها من وسائل االتصال حرمة, وسريتها مكفولة, وال تجوز مصادرتها, أو االطالع عليها, أو رقابتها .... \\nكما تلتزم الدولة بحماية حق المواطنين في استخدام وسائل االتصال العامة بكافة أشكالها, وال يجوز تعطيلها \\nأو وقفها أو حرمان المواطنين منها, بشكل تعسفي, ...\"46. \"للمنازل حرمة, وفيما عدا حاالت الخطـر, أو \\nاالستغاثة ال يجوز دخولها, وال تفتيشها, وال مراقبتها أو التنصت عليها...\"47 . \"لجسد اإلنسان حرمة, \\nواالعتداء عليه, أو تشويهه, أو التمثيل به, جريمة يعاقب عليها القانون . ويحظر االتجار بأعضائه, وال يجوز \\nإجراء أية تجربة طبية, أو علمية عليه بغير رضاه الحر الموثق, .... \"48 .\"يحظر التهجير القسري  التعسفي \\nللمواطنين بجميع صوره وأشكاله,....\"49 . \"المعلومات والبيانات واإلحصاءات والوثائق الرسمية ملك للشعب, \\nواإلفصاح عنها من مصادرها المختلفة, حق تكفله الدولة لكل مواطن, وتلتزم الدولة بتوفيرها وا تاحتها \\nللمواطنين بشفافية, ...\"50 \"تلتزم الدولة بحماية حقوق  الملكية الفكرية بشتي أنواعها في كافة \\nالمجاالت,....\"51 \"يحظر بأي وجه فرض رقابة علي الصحف ووسائل اإلعالم المصرية أو مصادرتها أو \\nوقفها أو إغالقها.... وال  توقع عقوبة سالبة للحرية في الجرائم التي ترتكب بطريق النشر أو العالنية, ...\"52 \\n\"تلتزم الدولة بضمان استقالل المؤسسات الصحفية ووسائل اإلعالم المملوكة لها, بما يكفل حيادها, وتعبيرها', 'text_length': 1894}, page_content='\"48 .\"يحظر التهجير القسري  التعسفي \\nللمواطنين بجميع صوره وأشكاله,....\"49 . \"المعلومات والبيانات واإلحصاءات والوثائق الرسمية ملك للشعب, \\nواإلفصاح عنها من مصادرها المختلفة, حق تكفله الدولة لكل مواطن, وتلتزم الدولة بتوفيرها وا تاحتها \\nللمواطنين بشفافية, ...\"50 \"تلتزم الدولة بحماية حقوق  الملكية الفكرية بشتي أنواعها في كافة \\nالمجاالت,....\"51 \"يحظر بأي وجه فرض رقابة علي الصحف ووسائل اإلعالم المصرية أو مصادرتها أو \\nوقفها أو إغالقها.... وال  توقع عقوبة سالبة للحرية في الجرائم التي ترتكب بطريق النشر أو العالنية, ...\"52 \\n\"تلتزم الدولة بضمان استقالل المؤسسات الصحفية ووسائل اإلعالم المملوكة لها, بما يكفل حيادها, وتعبيرها')\n"
   ]
  },
  {
   "cell_type": "code",
   "execution_count": 17,
   "id": "19783fa2",
   "metadata": {},
   "outputs": [
    {
     "name": "stderr",
     "output_type": "stream",
     "text": [
      "/tmp/ipykernel_16913/2220787854.py:9: LangChainDeprecationWarning: Since Chroma 0.4.x the manual persistence method is no longer supported as docs are automatically persisted.\n",
      "  vectorstore.persist()\n"
     ]
    }
   ],
   "source": [
    "Data_Dir = \"./outputs/data/vector_database\" \n",
    "\n",
    "vectorstore = Chroma.from_documents(\n",
    "    documents=chunks,          \n",
    "    embedding=embeddings,      \n",
    "    persist_directory=Data_Dir  \n",
    ")\n",
    "\n",
    "vectorstore.persist()"
   ]
  },
  {
   "cell_type": "code",
   "execution_count": 17,
   "id": "a8fe5ced",
   "metadata": {},
   "outputs": [
    {
     "name": "stderr",
     "output_type": "stream",
     "text": [
      "/tmp/ipykernel_603719/2776979415.py:1: LangChainDeprecationWarning: The class `Chroma` was deprecated in LangChain 0.2.9 and will be removed in 1.0. An updated version of the class exists in the :class:`~langchain-chroma package and should be used instead. To use it run `pip install -U :class:`~langchain-chroma` and import as `from :class:`~langchain_chroma import Chroma``.\n",
      "  vectorstore1 = Chroma(\n"
     ]
    }
   ],
   "source": [
    "vectorstore1 = Chroma(\n",
    "    persist_directory=Data_Dir, \n",
    "    embedding_function=embeddings\n",
    ")"
   ]
  },
  {
   "cell_type": "code",
   "execution_count": 21,
   "id": "93ea53ad",
   "metadata": {},
   "outputs": [
    {
     "name": "stdout",
     "output_type": "stream",
     "text": [
      "Created 3 documents for embedding\n",
      "Sample text for embedding: كما تكفل للمرأة حقها في تولى الوظائف العامة ووظائف اإلدارة العليا  في الدولة والتعيين في \n",
      "الجهات والهيئات القضائية، دون تمييز ضدها  ... وتكفل تمكين المرأة من التوفيق بين واجبات األسرة \n",
      "ومتطلبات العمل. كما تلتزم بتوفير الرعاية والحماية لألمومة والطفولة والمرأة المعيلة والمسنة والنساء \n",
      "األشد احتياجا. \"295   \n",
      "و\"العمل حق وواجب، وشرف تكفله الدولة. وال يجوز إلزام  أي مواطن بالعمل جبراً، إال بمقتضى قانون، \n",
      "وألداء خدمة عامة، لمدة محددة، وبمقابل عادل، ودون إخالل بالحقوق األساسية للمكلفين بالعمل. \" 296  \n",
      "و\"تلتزم الدولة بالحفاظ على حقوق العمال، وتعمل على بناء عالقا ت عمل متوازنة بين طر في العملية \n",
      "اإلنتاجية، وتكفل سبل التفاوض الجماعي، وتعمل على حماية العمال من مخاطر العمل وتوافر شروط  \n",
      "األمن والسالمة والصحة المهنية، ويحظر فصلهم تعسفياً، وذلك كله على النحو الذى ينظمه \n",
      "القانون .\"297  \n",
      "\"والوظائف العامة حق للمواطنين على أساس الكف اءة، ودون محاباة أو وساطة، وتكليف للقائمين بها \n",
      "لخدمة الشعب، وتكفل الدولة حقوقهم وحمايتهم، وقيامهم بأداء واجباتهم في رعاية مصالح الشعب، وال \n",
      "يجوز فصلهم بغير الطريق التأديبي، إال في األحوال التي يحددها القانون .\"298  \n",
      "و\"يحظر التمييز في األجور بسبب اختالف الجنس أو  األصل أو اللغة أو الدين أو العقيدة.\"299  \n",
      " تضمنقانون العمل المصري فصالَ عن تشغيل النساء ومواده  كالتالي: \n",
      "1-  \"مع عدم اإلخالل بأحكام المواد التالية تسرى على النساء العامالت جميع األحكام المنظمة لتشغيل\n",
      "العمال، دون تمييز بينهم متى تماثلت أوضاع عملهم. \"300 \n",
      "2-  \"يصدر الوزيرالمختص قراراَ بتحديد األحوال واألعمال والمناسبات التي ال يجوز فيها تشغيل  المساواة \n",
      "الحق في \n",
      "العمل وتقلد \n",
      "الوظائف \n",
      "العامة...\n"
     ]
    }
   ],
   "source": [
    "vectorstore_retriever = vectorstore.as_retriever(search_kwargs={\"k\": 3})\n",
    "\n",
    "documents = vectorstore_retriever.get_relevant_documents(\"ما هي بنود اتفاقية حقوق عمل المرأة\")\n",
    "texts = [doc.page_content for doc in documents]\n",
    "print(f\"Created {len(documents)} documents for embedding\")\n",
    "print(f\"Sample text for embedding: {texts[1][:]}...\")"
   ]
  },
  {
   "cell_type": "code",
   "execution_count": null,
   "id": "f627803f",
   "metadata": {},
   "outputs": [],
   "source": []
  }
 ],
 "metadata": {
  "kaggle": {
   "accelerator": "gpu",
   "dataSources": [
    {
     "datasetId": 8214417,
     "sourceId": 12978273,
     "sourceType": "datasetVersion"
    }
   ],
   "dockerImageVersionId": 31090,
   "isGpuEnabled": true,
   "isInternetEnabled": false,
   "language": "python",
   "sourceType": "notebook"
  },
  "kernelspec": {
   "display_name": "Python 3",
   "language": "python",
   "name": "python3"
  },
  "language_info": {
   "codemirror_mode": {
    "name": "ipython",
    "version": 3
   },
   "file_extension": ".py",
   "mimetype": "text/x-python",
   "name": "python",
   "nbconvert_exporter": "python",
   "pygments_lexer": "ipython3",
   "version": "3.12.3"
  },
  "papermill": {
   "default_parameters": {},
   "duration": 1453.019756,
   "end_time": "2025-06-26T15:09:46.241755",
   "environment_variables": {},
   "exception": true,
   "input_path": "__notebook__.ipynb",
   "output_path": "__notebook__.ipynb",
   "parameters": {},
   "start_time": "2025-06-26T14:45:33.221999",
   "version": "2.6.0"
  }
 },
 "nbformat": 4,
 "nbformat_minor": 5
}
