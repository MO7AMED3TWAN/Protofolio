{
 "cells": [
  {
   "cell_type": "markdown",
   "id": "numerical-stock",
   "metadata": {
    "papermill": {
     "duration": 0.012247,
     "end_time": "2022-01-10T13:43:08.896582",
     "exception": false,
     "start_time": "2022-01-10T13:43:08.884335",
     "status": "completed"
    },
    "tags": []
   },
   "source": [
    "## Make necessary imports "
   ]
  },
  {
   "cell_type": "code",
   "execution_count": 1,
   "id": "brilliant-intranet",
   "metadata": {
    "_cell_guid": "b1076dfc-b9ad-4769-8c92-a6c4dae69d19",
    "_uuid": "8f2839f25d086af736a60e9eeb907d3b93b6e0e5",
    "execution": {
     "iopub.execute_input": "2022-01-10T13:43:08.923020Z",
     "iopub.status.busy": "2022-01-10T13:43:08.921914Z",
     "iopub.status.idle": "2022-01-10T13:43:10.027230Z",
     "shell.execute_reply": "2022-01-10T13:43:10.026407Z",
     "shell.execute_reply.started": "2021-07-05T06:17:37.389667Z"
    },
    "papermill": {
     "duration": 1.119481,
     "end_time": "2022-01-10T13:43:10.027401",
     "exception": false,
     "start_time": "2022-01-10T13:43:08.907920",
     "status": "completed"
    },
    "tags": []
   },
   "outputs": [],
   "source": [
    "import numpy  as np\n",
    "import pandas as pd"
   ]
  },
  {
   "cell_type": "code",
   "execution_count": 2,
   "id": "1be5b5c8",
   "metadata": {},
   "outputs": [],
   "source": [
    "from sklearn.metrics import zero_one_loss\n",
    "from sklearn.metrics import accuracy_score, confusion_matrix\n",
    "import seaborn as sns "
   ]
  },
  {
   "cell_type": "markdown",
   "id": "binding-joint",
   "metadata": {
    "papermill": {
     "duration": 0.011109,
     "end_time": "2022-01-10T13:43:10.049835",
     "exception": false,
     "start_time": "2022-01-10T13:43:10.038726",
     "status": "completed"
    },
    "tags": []
   },
   "source": [
    "# Read the data From DataFrame, and get the shape of the data and the first 5 records."
   ]
  },
  {
   "cell_type": "code",
   "execution_count": 3,
   "id": "nasty-payment",
   "metadata": {
    "execution": {
     "iopub.execute_input": "2022-01-10T13:43:10.078980Z",
     "iopub.status.busy": "2022-01-10T13:43:10.078096Z",
     "iopub.status.idle": "2022-01-10T13:43:11.099726Z",
     "shell.execute_reply": "2022-01-10T13:43:11.100237Z",
     "shell.execute_reply.started": "2021-07-05T06:17:38.664973Z"
    },
    "papermill": {
     "duration": 1.038397,
     "end_time": "2022-01-10T13:43:11.100409",
     "exception": false,
     "start_time": "2022-01-10T13:43:10.062012",
     "status": "completed"
    },
    "tags": []
   },
   "outputs": [
    {
     "name": "stdout",
     "output_type": "stream",
     "text": [
      "Shape Of Data : (6335, 4)\n"
     ]
    },
    {
     "data": {
      "text/html": [
       "<div>\n",
       "<style scoped>\n",
       "    .dataframe tbody tr th:only-of-type {\n",
       "        vertical-align: middle;\n",
       "    }\n",
       "\n",
       "    .dataframe tbody tr th {\n",
       "        vertical-align: top;\n",
       "    }\n",
       "\n",
       "    .dataframe thead th {\n",
       "        text-align: right;\n",
       "    }\n",
       "</style>\n",
       "<table border=\"1\" class=\"dataframe\">\n",
       "  <thead>\n",
       "    <tr style=\"text-align: right;\">\n",
       "      <th></th>\n",
       "      <th>Unnamed: 0</th>\n",
       "      <th>title</th>\n",
       "      <th>text</th>\n",
       "      <th>label</th>\n",
       "    </tr>\n",
       "  </thead>\n",
       "  <tbody>\n",
       "    <tr>\n",
       "      <th>0</th>\n",
       "      <td>8476</td>\n",
       "      <td>You Can Smell Hillary’s Fear</td>\n",
       "      <td>Daniel Greenfield, a Shillman Journalism Fello...</td>\n",
       "      <td>FAKE</td>\n",
       "    </tr>\n",
       "    <tr>\n",
       "      <th>1</th>\n",
       "      <td>10294</td>\n",
       "      <td>Watch The Exact Moment Paul Ryan Committed Pol...</td>\n",
       "      <td>Google Pinterest Digg Linkedin Reddit Stumbleu...</td>\n",
       "      <td>FAKE</td>\n",
       "    </tr>\n",
       "    <tr>\n",
       "      <th>2</th>\n",
       "      <td>3608</td>\n",
       "      <td>Kerry to go to Paris in gesture of sympathy</td>\n",
       "      <td>U.S. Secretary of State John F. Kerry said Mon...</td>\n",
       "      <td>REAL</td>\n",
       "    </tr>\n",
       "    <tr>\n",
       "      <th>3</th>\n",
       "      <td>10142</td>\n",
       "      <td>Bernie supporters on Twitter erupt in anger ag...</td>\n",
       "      <td>— Kaydee King (@KaydeeKing) November 9, 2016 T...</td>\n",
       "      <td>FAKE</td>\n",
       "    </tr>\n",
       "    <tr>\n",
       "      <th>4</th>\n",
       "      <td>875</td>\n",
       "      <td>The Battle of New York: Why This Primary Matters</td>\n",
       "      <td>It's primary day in New York and front-runners...</td>\n",
       "      <td>REAL</td>\n",
       "    </tr>\n",
       "  </tbody>\n",
       "</table>\n",
       "</div>"
      ],
      "text/plain": [
       "   Unnamed: 0                                              title  \\\n",
       "0        8476                       You Can Smell Hillary’s Fear   \n",
       "1       10294  Watch The Exact Moment Paul Ryan Committed Pol...   \n",
       "2        3608        Kerry to go to Paris in gesture of sympathy   \n",
       "3       10142  Bernie supporters on Twitter erupt in anger ag...   \n",
       "4         875   The Battle of New York: Why This Primary Matters   \n",
       "\n",
       "                                                text label  \n",
       "0  Daniel Greenfield, a Shillman Journalism Fello...  FAKE  \n",
       "1  Google Pinterest Digg Linkedin Reddit Stumbleu...  FAKE  \n",
       "2  U.S. Secretary of State John F. Kerry said Mon...  REAL  \n",
       "3  — Kaydee King (@KaydeeKing) November 9, 2016 T...  FAKE  \n",
       "4  It's primary day in New York and front-runners...  REAL  "
      ]
     },
     "execution_count": 3,
     "metadata": {},
     "output_type": "execute_result"
    }
   ],
   "source": [
    "#Read the data\n",
    "df=pd.read_csv('fake_or_real_news.csv')\n",
    "\n",
    "#Get shape and head\n",
    "print(\"Shape Of Data :\",df.shape)\n",
    "df.head()"
   ]
  },
  {
   "cell_type": "markdown",
   "id": "younger-heritage",
   "metadata": {
    "papermill": {
     "duration": 0.011395,
     "end_time": "2022-01-10T13:43:11.124487",
     "exception": false,
     "start_time": "2022-01-10T13:43:11.113092",
     "status": "completed"
    },
    "tags": []
   },
   "source": [
    "# And get the labels from the DataFrame"
   ]
  },
  {
   "cell_type": "code",
   "execution_count": 4,
   "id": "knowing-tender",
   "metadata": {
    "execution": {
     "iopub.execute_input": "2022-01-10T13:43:11.156953Z",
     "iopub.status.busy": "2022-01-10T13:43:11.155981Z",
     "iopub.status.idle": "2022-01-10T13:43:11.160024Z",
     "shell.execute_reply": "2022-01-10T13:43:11.159495Z",
     "shell.execute_reply.started": "2021-07-05T06:17:39.627298Z"
    },
    "papermill": {
     "duration": 0.023942,
     "end_time": "2022-01-10T13:43:11.160196",
     "exception": false,
     "start_time": "2022-01-10T13:43:11.136254",
     "status": "completed"
    },
    "tags": []
   },
   "outputs": [
    {
     "data": {
      "text/plain": [
       "0    FAKE\n",
       "1    FAKE\n",
       "2    REAL\n",
       "3    FAKE\n",
       "4    REAL\n",
       "Name: label, dtype: object"
      ]
     },
     "execution_count": 4,
     "metadata": {},
     "output_type": "execute_result"
    }
   ],
   "source": [
    "#Get the labels\n",
    "labels=df.label\n",
    "\n",
    "labels.head()"
   ]
  },
  {
   "cell_type": "markdown",
   "id": "stunning-crossing",
   "metadata": {
    "papermill": {
     "duration": 0.011916,
     "end_time": "2022-01-10T13:43:11.184412",
     "exception": false,
     "start_time": "2022-01-10T13:43:11.172496",
     "status": "completed"
    },
    "tags": []
   },
   "source": [
    "# Split the dataset into training and testing sets."
   ]
  },
  {
   "cell_type": "code",
   "execution_count": 5,
   "id": "economic-techno",
   "metadata": {
    "execution": {
     "iopub.execute_input": "2022-01-10T13:43:11.215926Z",
     "iopub.status.busy": "2022-01-10T13:43:11.214862Z",
     "iopub.status.idle": "2022-01-10T13:43:11.220178Z",
     "shell.execute_reply": "2022-01-10T13:43:11.219516Z",
     "shell.execute_reply.started": "2021-07-05T06:17:39.638898Z"
    },
    "papermill": {
     "duration": 0.023895,
     "end_time": "2022-01-10T13:43:11.220342",
     "exception": false,
     "start_time": "2022-01-10T13:43:11.196447",
     "status": "completed"
    },
    "tags": []
   },
   "outputs": [],
   "source": [
    "from sklearn.model_selection import train_test_split\n",
    "\n",
    "#Split the dataset\n",
    "\n",
    "x_train,x_test,y_train,y_test=train_test_split(df['text'], labels, test_size=0.3, random_state=7)"
   ]
  },
  {
   "cell_type": "code",
   "execution_count": 6,
   "id": "f1609d4c",
   "metadata": {},
   "outputs": [
    {
     "name": "stdout",
     "output_type": "stream",
     "text": [
      "Shape Of x_train : (4434,)\n",
      "Shape Of x_test  : (1901,)\n",
      "Shape Of y_train : (4434,)\n",
      "Shape Of y_test  : (1901,)\n"
     ]
    },
    {
     "data": {
      "text/plain": [
       "pandas.core.series.Series"
      ]
     },
     "execution_count": 6,
     "metadata": {},
     "output_type": "execute_result"
    }
   ],
   "source": [
    "print(\"Shape Of x_train :\",x_train.shape)\n",
    "print(\"Shape Of x_test  :\",x_test.shape)\n",
    "print(\"Shape Of y_train :\",y_train.shape)\n",
    "print(\"Shape Of y_test  :\",y_test.shape)\n",
    "type(x_train)"
   ]
  },
  {
   "cell_type": "markdown",
   "id": "extended-theater",
   "metadata": {
    "papermill": {
     "duration": 0.011644,
     "end_time": "2022-01-10T13:43:11.244105",
     "exception": false,
     "start_time": "2022-01-10T13:43:11.232461",
     "status": "completed"
    },
    "tags": []
   },
   "source": [
    "# Now, fit and transform the vectorizer on the train set, and transform the vectorizer on the test set.\n",
    "# And This To Extract Features From Text"
   ]
  },
  {
   "cell_type": "code",
   "execution_count": 7,
   "id": "given-samoa",
   "metadata": {
    "execution": {
     "iopub.execute_input": "2022-01-10T13:43:11.297764Z",
     "iopub.status.busy": "2022-01-10T13:43:11.292328Z",
     "iopub.status.idle": "2022-01-10T13:43:16.497913Z",
     "shell.execute_reply": "2022-01-10T13:43:16.496867Z",
     "shell.execute_reply.started": "2021-07-05T06:17:39.662308Z"
    },
    "papermill": {
     "duration": 5.242107,
     "end_time": "2022-01-10T13:43:16.498100",
     "exception": false,
     "start_time": "2022-01-10T13:43:11.255993",
     "status": "completed"
    },
    "tags": []
   },
   "outputs": [],
   "source": [
    "from sklearn.feature_extraction.text import TfidfVectorizer\n",
    "\n",
    "##Initialize a TfidfVectorizer\n",
    "\n",
    "vectorizer = TfidfVectorizer(stop_words='english', max_df =0.8)\n",
    "\n",
    "\n",
    "##fit and transform train set, transform test set\n",
    "\n",
    "V_train = vectorizer.fit_transform(x_train)\n",
    "V_test  = vectorizer.transform(x_test)"
   ]
  },
  {
   "cell_type": "code",
   "execution_count": 8,
   "id": "5b324d12",
   "metadata": {},
   "outputs": [
    {
     "data": {
      "text/plain": [
       "scipy.sparse._csr.csr_matrix"
      ]
     },
     "execution_count": 8,
     "metadata": {},
     "output_type": "execute_result"
    }
   ],
   "source": [
    "type(V_train)"
   ]
  },
  {
   "cell_type": "markdown",
   "id": "397af138",
   "metadata": {},
   "source": [
    "# Make A Model "
   ]
  },
  {
   "cell_type": "code",
   "execution_count": 9,
   "id": "3ac09565",
   "metadata": {},
   "outputs": [],
   "source": [
    "from sklearn.neighbors import KNeighborsClassifier \n",
    "\n",
    "from sklearn.tree import DecisionTreeClassifier"
   ]
  },
  {
   "cell_type": "markdown",
   "id": "fef94614",
   "metadata": {},
   "source": [
    "# KNN Model"
   ]
  },
  {
   "cell_type": "code",
   "execution_count": 10,
   "id": "c7138954",
   "metadata": {},
   "outputs": [
    {
     "name": "stdout",
     "output_type": "stream",
     "text": [
      "Score of Train : 83.6%\n",
      "Score of Test  : 83.48%\n"
     ]
    }
   ],
   "source": [
    "KNN=KNeighborsClassifier(n_neighbors=122)\n",
    "\n",
    "KNN.fit(V_train,y_train)\n",
    "\n",
    "y_pred =KNN.predict(V_train)\n",
    "y_pred1=KNN.predict(V_test)\n",
    "\n",
    "#Calc Score Of Model\n",
    "score =accuracy_score(y_train,y_pred)\n",
    "score1=accuracy_score(y_test,y_pred1)\n",
    "\n",
    "print(f\"Score of Train : {round(score *100,2)}%\")\n",
    "print(f\"Score of Test  : {round(score1*100,2)}%\")"
   ]
  },
  {
   "cell_type": "code",
   "execution_count": 11,
   "id": "af5aa3a4",
   "metadata": {},
   "outputs": [
    {
     "name": "stdout",
     "output_type": "stream",
     "text": [
      "\n",
      "KNN\n",
      "Zero One Loss Value :  314\n"
     ]
    }
   ],
   "source": [
    "print('\\nKNN')\n",
    "\n",
    "Z_O_L = zero_one_loss(y_test,y_pred1,normalize=False) \n",
    "print('Zero One Loss Value : ', Z_O_L )"
   ]
  },
  {
   "cell_type": "code",
   "execution_count": 12,
   "id": "8245992b",
   "metadata": {},
   "outputs": [
    {
     "name": "stdout",
     "output_type": "stream",
     "text": [
      "\n",
      "\n",
      "KNN\n",
      "\n",
      "\n"
     ]
    },
    {
     "data": {
      "text/plain": [
       "<AxesSubplot: >"
      ]
     },
     "execution_count": 12,
     "metadata": {},
     "output_type": "execute_result"
    },
    {
     "data": {
      "image/png": "[encoded data removed]",
      "text/plain": [
       "<Figure size 640x480 with 2 Axes>"
      ]
     },
     "metadata": {},
     "output_type": "display_data"
    }
   ],
   "source": [
    "#KNN Build confusion matrix\n",
    "print(\"\\n\\nKNN\\n\\n\")\n",
    "\n",
    "CM=confusion_matrix(y_test,y_pred1, labels=['FAKE','REAL'])\n",
    "\n",
    "sns.heatmap(CM/np.sum(CM),annot=True,fmt='.2%')"
   ]
  },
  {
   "cell_type": "markdown",
   "id": "55b09b17",
   "metadata": {},
   "source": [
    "# Decesin Tree Model"
   ]
  },
  {
   "cell_type": "code",
   "execution_count": 13,
   "id": "5ac5aa94",
   "metadata": {},
   "outputs": [
    {
     "name": "stdout",
     "output_type": "stream",
     "text": [
      "Decision Tree Model Train Score Is : 75.19 %\n",
      "Decision Tree Model Test  Score Is : 75.38 %\n"
     ]
    }
   ],
   "source": [
    "DTModel = DecisionTreeClassifier(max_depth=2)\n",
    "\n",
    "DTModel.fit(V_train,y_train)\n",
    "\n",
    "y_pred2= DTModel.predict(V_train)\n",
    "y_pred3= DTModel.predict(V_test)\n",
    "\n",
    "#Calculating Details\n",
    "\n",
    "print(f\"Decision Tree Model Train Score Is : {round((accuracy_score(y_train,y_pred2)*100),2)} %\")\n",
    "print(f\"Decision Tree Model Test  Score Is : {round((accuracy_score(y_test,y_pred3) *100),2)} %\")"
   ]
  },
  {
   "cell_type": "code",
   "execution_count": 14,
   "id": "862411b5",
   "metadata": {},
   "outputs": [
    {
     "name": "stdout",
     "output_type": "stream",
     "text": [
      "\n",
      "Decision TREE\n",
      "Zero One Loss Value :  468\n"
     ]
    }
   ],
   "source": [
    "print(\"\\nDecision TREE\")\n",
    "\n",
    "Z_O_L1 = zero_one_loss(y_test,y_pred3,normalize=False)\n",
    "print('Zero One Loss Value : ', Z_O_L1 )"
   ]
  },
  {
   "cell_type": "code",
   "execution_count": 15,
   "id": "1248c3ca",
   "metadata": {},
   "outputs": [
    {
     "name": "stdout",
     "output_type": "stream",
     "text": [
      "\n",
      "\n",
      "Decision Tree\n",
      "\n",
      "\n"
     ]
    },
    {
     "data": {
      "text/plain": [
       "<AxesSubplot: >"
      ]
     },
     "execution_count": 15,
     "metadata": {},
     "output_type": "execute_result"
    },
    {
     "data": {
      "image/png": "[encoded data removed]",
      "text/plain": [
       "<Figure size 640x480 with 2 Axes>"
      ]
     },
     "metadata": {},
     "output_type": "display_data"
    }
   ],
   "source": [
    "#KNN Build confusion matrix\n",
    "print(\"\\n\\nDecision Tree\\n\\n\")\n",
    "\n",
    "CM=confusion_matrix(y_test,y_pred3, labels=['FAKE','REAL'])\n",
    "\n",
    "sns.heatmap((CM/np.sum(CM)),annot=True,fmt='.2%')"
   ]
  },
  {
   "cell_type": "markdown",
   "id": "87e22ce4",
   "metadata": {},
   "source": [
    "#                                            **THANK YOU**"
   ]
  }
 ],
 "metadata": {
  "kernelspec": {
   "display_name": "Python 3 (ipykernel)",
   "language": "python",
   "name": "python3"
  },
  "language_info": {
   "codemirror_mode": {
    "name": "ipython",
    "version": 3
   },
   "file_extension": ".py",
   "mimetype": "text/x-python",
   "name": "python",
   "nbconvert_exporter": "python",
   "pygments_lexer": "ipython3",
   "version": "3.11.0"
  },
  "papermill": {
   "default_parameters": {},
   "duration": 16.794588,
   "end_time": "2022-01-10T13:43:17.530791",
   "environment_variables": {},
   "exception": null,
   "input_path": "__notebook__.ipynb",
   "output_path": "__notebook__.ipynb",
   "parameters": {},
   "start_time": "2022-01-10T13:43:00.736203",
   "version": "2.3.3"
  }
 },
 "nbformat": 4,
 "nbformat_minor": 5
}
