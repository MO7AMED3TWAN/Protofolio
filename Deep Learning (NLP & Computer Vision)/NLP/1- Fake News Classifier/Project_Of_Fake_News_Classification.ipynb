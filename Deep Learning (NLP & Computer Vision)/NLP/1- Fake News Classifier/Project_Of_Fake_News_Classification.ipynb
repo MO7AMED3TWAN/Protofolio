{
 "cells": [
  {
   "cell_type": "markdown",
   "id": "numerical-stock",
   "metadata": {
    "papermill": {
     "duration": 0.012247,
     "end_time": "2022-01-10T13:43:08.896582",
     "exception": false,
     "start_time": "2022-01-10T13:43:08.884335",
     "status": "completed"
    },
    "tags": []
   },
   "source": [
    "# Imports Important Library"
   ]
  },
  {
   "cell_type": "code",
   "execution_count": 1,
   "id": "brilliant-intranet",
   "metadata": {
    "_cell_guid": "b1076dfc-b9ad-4769-8c92-a6c4dae69d19",
    "_uuid": "8f2839f25d086af736a60e9eeb907d3b93b6e0e5",
    "execution": {
     "iopub.execute_input": "2022-01-10T13:43:08.923020Z",
     "iopub.status.busy": "2022-01-10T13:43:08.921914Z",
     "iopub.status.idle": "2022-01-10T13:43:10.027230Z",
     "shell.execute_reply": "2022-01-10T13:43:10.026407Z",
     "shell.execute_reply.started": "2021-07-05T06:17:37.389667Z"
    },
    "papermill": {
     "duration": 1.119481,
     "end_time": "2022-01-10T13:43:10.027401",
     "exception": false,
     "start_time": "2022-01-10T13:43:08.907920",
     "status": "completed"
    },
    "tags": []
   },
   "outputs": [],
   "source": [
    "import numpy  as np\n",
    "import pandas as pd\n",
    "import seaborn as sns"
   ]
  },
  {
   "cell_type": "markdown",
   "id": "f19de8fa",
   "metadata": {},
   "source": [
    "### Accuracy Functions "
   ]
  },
  {
   "cell_type": "code",
   "execution_count": 2,
   "id": "1be5b5c8",
   "metadata": {},
   "outputs": [],
   "source": [
    "from sklearn.metrics import accuracy_score, confusion_matrix"
   ]
  },
  {
   "cell_type": "markdown",
   "id": "binding-joint",
   "metadata": {
    "papermill": {
     "duration": 0.011109,
     "end_time": "2022-01-10T13:43:10.049835",
     "exception": false,
     "start_time": "2022-01-10T13:43:10.038726",
     "status": "completed"
    },
    "tags": []
   },
   "source": [
    "# Read the data From DataFrame, and get the shape of the data and the first 5 records."
   ]
  },
  {
   "cell_type": "code",
   "execution_count": 3,
   "id": "nasty-payment",
   "metadata": {
    "execution": {
     "iopub.execute_input": "2022-01-10T13:43:10.078980Z",
     "iopub.status.busy": "2022-01-10T13:43:10.078096Z",
     "iopub.status.idle": "2022-01-10T13:43:11.099726Z",
     "shell.execute_reply": "2022-01-10T13:43:11.100237Z",
     "shell.execute_reply.started": "2021-07-05T06:17:38.664973Z"
    },
    "papermill": {
     "duration": 1.038397,
     "end_time": "2022-01-10T13:43:11.100409",
     "exception": false,
     "start_time": "2022-01-10T13:43:10.062012",
     "status": "completed"
    },
    "tags": []
   },
   "outputs": [
    {
     "name": "stdout",
     "output_type": "stream",
     "text": [
      "Shape Of Data : (6335, 4)\n"
     ]
    },
    {
     "data": {
      "text/html": [
       "<div>\n",
       "<style scoped>\n",
       "    .dataframe tbody tr th:only-of-type {\n",
       "        vertical-align: middle;\n",
       "    }\n",
       "\n",
       "    .dataframe tbody tr th {\n",
       "        vertical-align: top;\n",
       "    }\n",
       "\n",
       "    .dataframe thead th {\n",
       "        text-align: right;\n",
       "    }\n",
       "</style>\n",
       "<table border=\"1\" class=\"dataframe\">\n",
       "  <thead>\n",
       "    <tr style=\"text-align: right;\">\n",
       "      <th></th>\n",
       "      <th>Unnamed: 0</th>\n",
       "      <th>title</th>\n",
       "      <th>text</th>\n",
       "      <th>label</th>\n",
       "    </tr>\n",
       "  </thead>\n",
       "  <tbody>\n",
       "    <tr>\n",
       "      <th>0</th>\n",
       "      <td>8476</td>\n",
       "      <td>You Can Smell Hillary’s Fear</td>\n",
       "      <td>Daniel Greenfield, a Shillman Journalism Fello...</td>\n",
       "      <td>FAKE</td>\n",
       "    </tr>\n",
       "    <tr>\n",
       "      <th>1</th>\n",
       "      <td>10294</td>\n",
       "      <td>Watch The Exact Moment Paul Ryan Committed Pol...</td>\n",
       "      <td>Google Pinterest Digg Linkedin Reddit Stumbleu...</td>\n",
       "      <td>FAKE</td>\n",
       "    </tr>\n",
       "    <tr>\n",
       "      <th>2</th>\n",
       "      <td>3608</td>\n",
       "      <td>Kerry to go to Paris in gesture of sympathy</td>\n",
       "      <td>U.S. Secretary of State John F. Kerry said Mon...</td>\n",
       "      <td>REAL</td>\n",
       "    </tr>\n",
       "    <tr>\n",
       "      <th>3</th>\n",
       "      <td>10142</td>\n",
       "      <td>Bernie supporters on Twitter erupt in anger ag...</td>\n",
       "      <td>— Kaydee King (@KaydeeKing) November 9, 2016 T...</td>\n",
       "      <td>FAKE</td>\n",
       "    </tr>\n",
       "    <tr>\n",
       "      <th>4</th>\n",
       "      <td>875</td>\n",
       "      <td>The Battle of New York: Why This Primary Matters</td>\n",
       "      <td>It's primary day in New York and front-runners...</td>\n",
       "      <td>REAL</td>\n",
       "    </tr>\n",
       "  </tbody>\n",
       "</table>\n",
       "</div>"
      ],
      "text/plain": [
       "   Unnamed: 0                                              title  \\\n",
       "0        8476                       You Can Smell Hillary’s Fear   \n",
       "1       10294  Watch The Exact Moment Paul Ryan Committed Pol...   \n",
       "2        3608        Kerry to go to Paris in gesture of sympathy   \n",
       "3       10142  Bernie supporters on Twitter erupt in anger ag...   \n",
       "4         875   The Battle of New York: Why This Primary Matters   \n",
       "\n",
       "                                                text label  \n",
       "0  Daniel Greenfield, a Shillman Journalism Fello...  FAKE  \n",
       "1  Google Pinterest Digg Linkedin Reddit Stumbleu...  FAKE  \n",
       "2  U.S. Secretary of State John F. Kerry said Mon...  REAL  \n",
       "3  — Kaydee King (@KaydeeKing) November 9, 2016 T...  FAKE  \n",
       "4  It's primary day in New York and front-runners...  REAL  "
      ]
     },
     "execution_count": 3,
     "metadata": {},
     "output_type": "execute_result"
    }
   ],
   "source": [
    "#Read the data\n",
    "My_data=pd.read_csv('fake_and_real_news.csv')\n",
    "\n",
    "#Get Shape\n",
    "\n",
    "print(\"Shape Of Data :\",My_data.shape)\n",
    "\n",
    "#Get Head\n",
    "\n",
    "My_data.head()"
   ]
  },
  {
   "cell_type": "markdown",
   "id": "younger-heritage",
   "metadata": {
    "papermill": {
     "duration": 0.011395,
     "end_time": "2022-01-10T13:43:11.124487",
     "exception": false,
     "start_time": "2022-01-10T13:43:11.113092",
     "status": "completed"
    },
    "tags": []
   },
   "source": [
    "# And get Features & Target DataFrame"
   ]
  },
  {
   "cell_type": "code",
   "execution_count": 4,
   "id": "knowing-tender",
   "metadata": {
    "execution": {
     "iopub.execute_input": "2022-01-10T13:43:11.156953Z",
     "iopub.status.busy": "2022-01-10T13:43:11.155981Z",
     "iopub.status.idle": "2022-01-10T13:43:11.160024Z",
     "shell.execute_reply": "2022-01-10T13:43:11.159495Z",
     "shell.execute_reply.started": "2021-07-05T06:17:39.627298Z"
    },
    "papermill": {
     "duration": 0.023942,
     "end_time": "2022-01-10T13:43:11.160196",
     "exception": false,
     "start_time": "2022-01-10T13:43:11.136254",
     "status": "completed"
    },
    "tags": []
   },
   "outputs": [],
   "source": [
    "#Get Text \n",
    "text=My_data['text']\n",
    "\n",
    "#Get the labels\n",
    "labels=My_data['label']"
   ]
  },
  {
   "cell_type": "markdown",
   "id": "stunning-crossing",
   "metadata": {
    "papermill": {
     "duration": 0.011916,
     "end_time": "2022-01-10T13:43:11.184412",
     "exception": false,
     "start_time": "2022-01-10T13:43:11.172496",
     "status": "completed"
    },
    "tags": []
   },
   "source": [
    "# Split the dataset into training and testing sets."
   ]
  },
  {
   "cell_type": "code",
   "execution_count": 5,
   "id": "economic-techno",
   "metadata": {
    "execution": {
     "iopub.execute_input": "2022-01-10T13:43:11.215926Z",
     "iopub.status.busy": "2022-01-10T13:43:11.214862Z",
     "iopub.status.idle": "2022-01-10T13:43:11.220178Z",
     "shell.execute_reply": "2022-01-10T13:43:11.219516Z",
     "shell.execute_reply.started": "2021-07-05T06:17:39.638898Z"
    },
    "papermill": {
     "duration": 0.023895,
     "end_time": "2022-01-10T13:43:11.220342",
     "exception": false,
     "start_time": "2022-01-10T13:43:11.196447",
     "status": "completed"
    },
    "tags": []
   },
   "outputs": [],
   "source": [
    "from sklearn.model_selection import train_test_split\n",
    "\n",
    "#Split the dataset\n",
    "\n",
    "x_train,x_test,y_train,y_test=train_test_split(text,labels,test_size=0.25, random_state=33)"
   ]
  },
  {
   "cell_type": "code",
   "execution_count": 6,
   "id": "f1609d4c",
   "metadata": {},
   "outputs": [
    {
     "name": "stdout",
     "output_type": "stream",
     "text": [
      "Shape Of x_train : (4751,)\n",
      "Shape Of x_test  : (1584,)\n",
      "Shape Of y_train : (4751,)\n",
      "Shape Of y_test  : (1584,)\n"
     ]
    }
   ],
   "source": [
    "print(\"Shape Of x_train :\",x_train.shape)\n",
    "print(\"Shape Of x_test  :\",x_test.shape )\n",
    "print(\"Shape Of y_train :\",y_train.shape)\n",
    "print(\"Shape Of y_test  :\",y_test.shape )"
   ]
  },
  {
   "cell_type": "markdown",
   "id": "extended-theater",
   "metadata": {
    "papermill": {
     "duration": 0.011644,
     "end_time": "2022-01-10T13:43:11.244105",
     "exception": false,
     "start_time": "2022-01-10T13:43:11.232461",
     "status": "completed"
    },
    "tags": []
   },
   "source": [
    "# Fit & transform the vectorizer on the train set & test set.\n",
    "\n",
    "# And This To Extract Features From Text"
   ]
  },
  {
   "cell_type": "code",
   "execution_count": 7,
   "id": "given-samoa",
   "metadata": {
    "execution": {
     "iopub.execute_input": "2022-01-10T13:43:11.297764Z",
     "iopub.status.busy": "2022-01-10T13:43:11.292328Z",
     "iopub.status.idle": "2022-01-10T13:43:16.497913Z",
     "shell.execute_reply": "2022-01-10T13:43:16.496867Z",
     "shell.execute_reply.started": "2021-07-05T06:17:39.662308Z"
    },
    "papermill": {
     "duration": 5.242107,
     "end_time": "2022-01-10T13:43:16.498100",
     "exception": false,
     "start_time": "2022-01-10T13:43:11.255993",
     "status": "completed"
    },
    "tags": []
   },
   "outputs": [],
   "source": [
    "from sklearn.feature_extraction.text import TfidfVectorizer\n",
    "\n",
    "##Initialize a TfidfVectorizer\n",
    "\n",
    "vectorizer = TfidfVectorizer(stop_words='english', max_df =0.7)\n",
    "\n",
    "##fit and transform train set, transform test set\n",
    "\n",
    "V_train = vectorizer.fit_transform(x_train)\n",
    "V_test  = vectorizer.transform    (x_test )"
   ]
  },
  {
   "cell_type": "markdown",
   "id": "397af138",
   "metadata": {},
   "source": [
    "# Make A Model "
   ]
  },
  {
   "cell_type": "code",
   "execution_count": 8,
   "id": "3ac09565",
   "metadata": {},
   "outputs": [],
   "source": [
    "from sklearn.neighbors import KNeighborsClassifier \n",
    "\n",
    "from sklearn.tree import DecisionTreeClassifier"
   ]
  },
  {
   "cell_type": "markdown",
   "id": "fef94614",
   "metadata": {},
   "source": [
    "# KNN Model"
   ]
  },
  {
   "cell_type": "code",
   "execution_count": 9,
   "id": "c7138954",
   "metadata": {},
   "outputs": [
    {
     "name": "stdout",
     "output_type": "stream",
     "text": [
      "KNN Model Score : 82.83%\n"
     ]
    }
   ],
   "source": [
    "KNN=KNeighborsClassifier(n_neighbors=122)\n",
    "\n",
    "KNN.fit(V_train,y_train)        #Train Model \n",
    "\n",
    "y_predict1=KNN.predict(V_test)     #Test  Model\n",
    "\n",
    "score=accuracy_score(y_test,y_predict1)\n",
    "\n",
    "print(f\"KNN Model Score : {round(score*100,2)}%\")"
   ]
  },
  {
   "cell_type": "code",
   "execution_count": 10,
   "id": "8245992b",
   "metadata": {},
   "outputs": [
    {
     "data": {
      "text/plain": [
       "<AxesSubplot: >"
      ]
     },
     "execution_count": 10,
     "metadata": {},
     "output_type": "execute_result"
    },
    {
     "data": {
      "image/png": "[encoded data removed]",
      "text/plain": [
       "<Figure size 640x480 with 2 Axes>"
      ]
     },
     "metadata": {},
     "output_type": "display_data"
    }
   ],
   "source": [
    "#KNN Build confusion matrix\n",
    "CM=confusion_matrix(y_test,y_predict1)\n",
    "\n",
    "sns.heatmap(CM/np.sum(CM),annot=True,fmt='.2%')"
   ]
  },
  {
   "cell_type": "markdown",
   "id": "55b09b17",
   "metadata": {},
   "source": [
    "# Decesin Tree Model"
   ]
  },
  {
   "cell_type": "code",
   "execution_count": 12,
   "id": "5ac5aa94",
   "metadata": {},
   "outputs": [
    {
     "name": "stdout",
     "output_type": "stream",
     "text": [
      "Decision Tree Model Score : 74.49 %\n"
     ]
    }
   ],
   "source": [
    "DTModel  = DecisionTreeClassifier(max_depth=2)\n",
    "\n",
    "DTModel.fit(V_train,y_train)       #Train Model\n",
    "\n",
    "y_predict2= DTModel.predict(V_test) #Test  Model\n",
    "\n",
    "#Calculating Details\n",
    "\n",
    "print(f\"Decision Tree Model Score : {round((accuracy_score(y_test,y_predict2) *100),2)} %\")"
   ]
  },
  {
   "cell_type": "code",
   "execution_count": 13,
   "id": "1248c3ca",
   "metadata": {},
   "outputs": [
    {
     "data": {
      "text/plain": [
       "<AxesSubplot: >"
      ]
     },
     "execution_count": 13,
     "metadata": {},
     "output_type": "execute_result"
    },
    {
     "data": {
      "image/png": "[encoded data removed]",
      "text/plain": [
       "<Figure size 640x480 with 2 Axes>"
      ]
     },
     "metadata": {},
     "output_type": "display_data"
    }
   ],
   "source": [
    "#KNN Build confusion matrix\n",
    "CM=confusion_matrix(y_test,y_predict2)\n",
    "\n",
    "sns.heatmap((CM/np.sum(CM)),annot=True,fmt='.2%')"
   ]
  },
  {
   "cell_type": "markdown",
   "id": "87e22ce4",
   "metadata": {},
   "source": [
    "#                                            **THANK YOU**"
   ]
  }
 ],
 "metadata": {
  "kernelspec": {
   "display_name": "Python 3 (ipykernel)",
   "language": "python",
   "name": "python3"
  },
  "language_info": {
   "codemirror_mode": {
    "name": "ipython",
    "version": 3
   },
   "file_extension": ".py",
   "mimetype": "text/x-python",
   "name": "python",
   "nbconvert_exporter": "python",
   "pygments_lexer": "ipython3",
   "version": "3.11.0"
  },
  "papermill": {
   "default_parameters": {},
   "duration": 16.794588,
   "end_time": "2022-01-10T13:43:17.530791",
   "environment_variables": {},
   "exception": null,
   "input_path": "__notebook__.ipynb",
   "output_path": "__notebook__.ipynb",
   "parameters": {},
   "start_time": "2022-01-10T13:43:00.736203",
   "version": "2.3.3"
  }
 },
 "nbformat": 4,
 "nbformat_minor": 5
}
