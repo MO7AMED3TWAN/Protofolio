{
 "cells": [
  {
   "cell_type": "markdown",
   "metadata": {},
   "source": [
    "# 📱 **Predicting Mobile Phone Price Range: A Comprehensive Machine Learning Approach With Grid Search With Multiple Hyper Parameters For  Logistic Regression**\n",
    "\n",
    "**🎯 Goal:** Develop a robust classification model to accurately predict the price range of mobile phones using advanced data processing and machine learning techniques.\n",
    "\n",
    "---\n",
    "\n",
    "### **Key Components:**\n",
    "- **🔍 Data Cleaning:** Employ various techniques to prepare and enhance the quality of the dataset.\n",
    "- **🛠️ Feature Engineering:** Create meaningful features to boost model performance.\n",
    "- **🤖 Model Creation:** Experiment with Grid Search With Multiple Hyper Parameters Of Logistic Regression to build the best predictive model.\n",
    "- **🚀 Model Deployment:** Deploy the final model for practical, real-world applications.\n",
    "\n",
    "---\n",
    "\n",
    "### **Dataset Overview:**\n",
    "The dataset includes several key features related to mobile phones, which will be used to predict the target variable, **price_range**:\n",
    "\n",
    "- **Battery Power:** 🔋 Total energy storage capacity (mAh).\n",
    "- **Bluetooth Support:** 📡 Availability of Bluetooth functionality.\n",
    "- **Clock Speed:** 🕒 Processor speed (GHz).\n",
    "- **Dual SIM Support:** 📶 Ability to support two SIM cards.\n",
    "- **Front Camera:** 📸 Resolution in megapixels.\n",
    "- **4G Support:** 📱 Availability of 4G network compatibility.\n",
    "- **Internal Memory:** 💾 Storage capacity in Gigabytes.\n",
    "- **Mobile Depth:** 📏 Physical depth of the mobile (cm).\n",
    "- **Weight:** ⚖️ Weight of the mobile (grams).\n",
    "- **Processor Cores:** 💻 Number of cores in the CPU.\n",
    "- **Primary Camera:** 📷 Main camera resolution (megapixels).\n",
    "- **Pixel Resolution:** 📺 Display resolution in height and width (pixels).\n",
    "- **RAM:** 💡 Random Access Memory (MB).\n",
    "- **Screen Size:** 📐 Screen dimensions (cm).\n",
    "- **Talk Time:** 📞 Maximum talk time on a single charge (hours).\n",
    "- **3G Support:** 📡 Availability of 3G network compatibility.\n",
    "- **Touch Screen:** 🖱️ Presence of a touch interface.\n",
    "- **WiFi Support:** 🌐 Availability of WiFi connectivity.\n",
    "\n",
    "---\n",
    "\n",
    "**📝 Target Variable:** The **price_range** variable categorizes phones into four distinct cost groups:\n",
    "\n",
    "- **0:** Low cost\n",
    "- **1:** Medium cost\n",
    "- **2:** High cost\n",
    "- **3:** Very high cost\n",
    "\n",
    "---\n",
    "\n",
    "**✨ Let's dive into the process of transforming raw mobile phone data into valuable predictions!**\n"
   ]
  },
  {
   "cell_type": "markdown",
   "metadata": {
    "jp-MarkdownHeadingCollapsed": true
   },
   "source": [
    "## 🚀 Beginning with Importing Necessary Libraries\n",
    "\n",
    "To kick off our analysis, we first need to import the essential libraries that will enable us to manipulate data, visualize trends, and build machine learning models. These libraries form the backbone of our data science workflow.\n",
    "\n",
    "### **Library Overview:**\n",
    "- **NumPy**: Fundamental package for numerical computation, providing support for arrays and matrices.\n",
    "- **Pandas**: Powerful data manipulation and analysis library, crucial for handling structured data.\n",
    "- **Matplotlib & Seaborn**: Visualization libraries that allow us to create insightful plots and graphs.\n",
    "- **Scikit-learn**: A comprehensive machine learning library, used for building models, evaluating performance, and splitting data into training and testing sets.\n",
    "\n",
    "**These libraries will be used extensively as we move through data exploration, feature engineering, model building, and evaluation. Let's dive into the data next!**"
   ]
  },
  {
   "cell_type": "code",
   "execution_count": 1,
   "metadata": {},
   "outputs": [],
   "source": [
    "import numpy as np\n",
    "import pandas as pd\n",
    "import matplotlib.pyplot as plt\n",
    "import seaborn as sns\n",
    "import joblib\n",
    "\n",
    "\n",
    "from sklearn.linear_model import LogisticRegression\n",
    "from sklearn.metrics import accuracy_score, precision_score, recall_score, f1_score, confusion_matrix\n",
    "from sklearn.model_selection import train_test_split\n",
    "from sklearn.preprocessing import MinMaxScaler\n",
    "\n",
    "\n",
    "# Setting display options to ensure we can see all columns when inspecting data\n",
    "pd.set_option(\"display.max_columns\", None)"
   ]
  },
  {
   "cell_type": "markdown",
   "metadata": {
    "jp-MarkdownHeadingCollapsed": true
   },
   "source": [
    "## 📥 Gathering the Data and Displaying Initial Information\n",
    "\n",
    "With the necessary libraries imported, the next step is to load our dataset into a DataFrame. This allows us to inspect the structure of the data and gain an initial understanding of its contents.\n",
    "\n",
    "\n",
    "### **Data Overview:**\n",
    "- **`head()`**: Displays the first 5 rows of the DataFrame, providing a glimpse into the data.\n",
    "- **`info()`**: Provides a concise summary of the DataFrame, including the data types of each column and the number of non-null entries.\n",
    "\n",
    "---\n",
    "\n",
    "### **What We Learn From This:**\n",
    "- **Data Structure**: By looking at the first few rows, we can quickly verify the structure of the data and ensure that it has been loaded correctly.\n",
    "- **Data Types**: Understanding the data types helps us determine whether any conversions or adjustments are needed before proceeding.\n",
    "- **Missing Values**: The `info()` summary helps identify any missing data that may need to be addressed during the cleaning phase.\n",
    "\n",
    "**With this initial exploration, we're ready to dive deeper into the data and start the cleaning and preprocessing steps.**"
   ]
  },
  {
   "cell_type": "code",
   "execution_count": 2,
   "metadata": {},
   "outputs": [
    {
     "name": "stdout",
     "output_type": "stream",
     "text": [
      "🔍 First 5 rows of the dataset:\n"
     ]
    },
    {
     "data": {
      "text/html": [
       "<div>\n",
       "<style scoped>\n",
       "    .dataframe tbody tr th:only-of-type {\n",
       "        vertical-align: middle;\n",
       "    }\n",
       "\n",
       "    .dataframe tbody tr th {\n",
       "        vertical-align: top;\n",
       "    }\n",
       "\n",
       "    .dataframe thead th {\n",
       "        text-align: right;\n",
       "    }\n",
       "</style>\n",
       "<table border=\"1\" class=\"dataframe\">\n",
       "  <thead>\n",
       "    <tr style=\"text-align: right;\">\n",
       "      <th></th>\n",
       "      <th>battery_power</th>\n",
       "      <th>blue</th>\n",
       "      <th>clock_speed</th>\n",
       "      <th>dual_sim</th>\n",
       "      <th>fc</th>\n",
       "      <th>four_g</th>\n",
       "      <th>int_memory</th>\n",
       "      <th>m_dep</th>\n",
       "      <th>mobile_wt</th>\n",
       "      <th>n_cores</th>\n",
       "      <th>pc</th>\n",
       "      <th>px_height</th>\n",
       "      <th>px_width</th>\n",
       "      <th>ram</th>\n",
       "      <th>sc_h</th>\n",
       "      <th>sc_w</th>\n",
       "      <th>talk_time</th>\n",
       "      <th>three_g</th>\n",
       "      <th>touch_screen</th>\n",
       "      <th>wifi</th>\n",
       "      <th>price_range</th>\n",
       "    </tr>\n",
       "  </thead>\n",
       "  <tbody>\n",
       "    <tr>\n",
       "      <th>0</th>\n",
       "      <td>842</td>\n",
       "      <td>0</td>\n",
       "      <td>2.2</td>\n",
       "      <td>0</td>\n",
       "      <td>1.0</td>\n",
       "      <td>0.0</td>\n",
       "      <td>7.0</td>\n",
       "      <td>0.6</td>\n",
       "      <td>188.0</td>\n",
       "      <td>2.0</td>\n",
       "      <td>2.0</td>\n",
       "      <td>20.0</td>\n",
       "      <td>756.0</td>\n",
       "      <td>2549.0</td>\n",
       "      <td>9.0</td>\n",
       "      <td>7.0</td>\n",
       "      <td>19</td>\n",
       "      <td>0</td>\n",
       "      <td>0</td>\n",
       "      <td>1</td>\n",
       "      <td>1</td>\n",
       "    </tr>\n",
       "    <tr>\n",
       "      <th>1</th>\n",
       "      <td>1021</td>\n",
       "      <td>1</td>\n",
       "      <td>0.5</td>\n",
       "      <td>1</td>\n",
       "      <td>0.0</td>\n",
       "      <td>1.0</td>\n",
       "      <td>53.0</td>\n",
       "      <td>0.7</td>\n",
       "      <td>136.0</td>\n",
       "      <td>3.0</td>\n",
       "      <td>6.0</td>\n",
       "      <td>905.0</td>\n",
       "      <td>1988.0</td>\n",
       "      <td>2631.0</td>\n",
       "      <td>17.0</td>\n",
       "      <td>3.0</td>\n",
       "      <td>7</td>\n",
       "      <td>1</td>\n",
       "      <td>1</td>\n",
       "      <td>0</td>\n",
       "      <td>2</td>\n",
       "    </tr>\n",
       "    <tr>\n",
       "      <th>2</th>\n",
       "      <td>563</td>\n",
       "      <td>1</td>\n",
       "      <td>0.5</td>\n",
       "      <td>1</td>\n",
       "      <td>2.0</td>\n",
       "      <td>1.0</td>\n",
       "      <td>41.0</td>\n",
       "      <td>0.9</td>\n",
       "      <td>145.0</td>\n",
       "      <td>5.0</td>\n",
       "      <td>6.0</td>\n",
       "      <td>1263.0</td>\n",
       "      <td>1716.0</td>\n",
       "      <td>2603.0</td>\n",
       "      <td>11.0</td>\n",
       "      <td>2.0</td>\n",
       "      <td>9</td>\n",
       "      <td>1</td>\n",
       "      <td>1</td>\n",
       "      <td>0</td>\n",
       "      <td>2</td>\n",
       "    </tr>\n",
       "    <tr>\n",
       "      <th>3</th>\n",
       "      <td>615</td>\n",
       "      <td>1</td>\n",
       "      <td>2.5</td>\n",
       "      <td>0</td>\n",
       "      <td>0.0</td>\n",
       "      <td>0.0</td>\n",
       "      <td>10.0</td>\n",
       "      <td>0.8</td>\n",
       "      <td>131.0</td>\n",
       "      <td>6.0</td>\n",
       "      <td>9.0</td>\n",
       "      <td>1216.0</td>\n",
       "      <td>1786.0</td>\n",
       "      <td>2769.0</td>\n",
       "      <td>16.0</td>\n",
       "      <td>8.0</td>\n",
       "      <td>11</td>\n",
       "      <td>1</td>\n",
       "      <td>0</td>\n",
       "      <td>0</td>\n",
       "      <td>2</td>\n",
       "    </tr>\n",
       "    <tr>\n",
       "      <th>4</th>\n",
       "      <td>1821</td>\n",
       "      <td>1</td>\n",
       "      <td>1.2</td>\n",
       "      <td>0</td>\n",
       "      <td>13.0</td>\n",
       "      <td>1.0</td>\n",
       "      <td>44.0</td>\n",
       "      <td>0.6</td>\n",
       "      <td>141.0</td>\n",
       "      <td>2.0</td>\n",
       "      <td>14.0</td>\n",
       "      <td>1208.0</td>\n",
       "      <td>1212.0</td>\n",
       "      <td>1411.0</td>\n",
       "      <td>8.0</td>\n",
       "      <td>2.0</td>\n",
       "      <td>15</td>\n",
       "      <td>1</td>\n",
       "      <td>1</td>\n",
       "      <td>0</td>\n",
       "      <td>1</td>\n",
       "    </tr>\n",
       "  </tbody>\n",
       "</table>\n",
       "</div>"
      ],
      "text/plain": [
       "   battery_power  blue  clock_speed  dual_sim    fc  four_g  int_memory  \\\n",
       "0            842     0          2.2         0   1.0     0.0         7.0   \n",
       "1           1021     1          0.5         1   0.0     1.0        53.0   \n",
       "2            563     1          0.5         1   2.0     1.0        41.0   \n",
       "3            615     1          2.5         0   0.0     0.0        10.0   \n",
       "4           1821     1          1.2         0  13.0     1.0        44.0   \n",
       "\n",
       "   m_dep  mobile_wt  n_cores    pc  px_height  px_width     ram  sc_h  sc_w  \\\n",
       "0    0.6      188.0      2.0   2.0       20.0     756.0  2549.0   9.0   7.0   \n",
       "1    0.7      136.0      3.0   6.0      905.0    1988.0  2631.0  17.0   3.0   \n",
       "2    0.9      145.0      5.0   6.0     1263.0    1716.0  2603.0  11.0   2.0   \n",
       "3    0.8      131.0      6.0   9.0     1216.0    1786.0  2769.0  16.0   8.0   \n",
       "4    0.6      141.0      2.0  14.0     1208.0    1212.0  1411.0   8.0   2.0   \n",
       "\n",
       "   talk_time  three_g  touch_screen  wifi  price_range  \n",
       "0         19        0             0     1            1  \n",
       "1          7        1             1     0            2  \n",
       "2          9        1             1     0            2  \n",
       "3         11        1             0     0            2  \n",
       "4         15        1             1     0            1  "
      ]
     },
     "metadata": {},
     "output_type": "display_data"
    }
   ],
   "source": [
    "# Loading the dataset\n",
    "data = pd.read_csv(r'./Data.csv')\n",
    "\n",
    "# Displaying the first few rows of the dataset to get an overview\n",
    "print(\"🔍 First 5 rows of the dataset:\")\n",
    "display(data.head())"
   ]
  },
  {
   "cell_type": "code",
   "execution_count": 3,
   "metadata": {},
   "outputs": [
    {
     "name": "stdout",
     "output_type": "stream",
     "text": [
      "ℹ️ Dataset Information:\n",
      "<class 'pandas.core.frame.DataFrame'>\n",
      "RangeIndex: 2000 entries, 0 to 1999\n",
      "Data columns (total 21 columns):\n",
      " #   Column         Non-Null Count  Dtype  \n",
      "---  ------         --------------  -----  \n",
      " 0   battery_power  2000 non-null   int64  \n",
      " 1   blue           2000 non-null   int64  \n",
      " 2   clock_speed    2000 non-null   float64\n",
      " 3   dual_sim       2000 non-null   int64  \n",
      " 4   fc             1995 non-null   float64\n",
      " 5   four_g         1995 non-null   float64\n",
      " 6   int_memory     1995 non-null   float64\n",
      " 7   m_dep          1995 non-null   float64\n",
      " 8   mobile_wt      1996 non-null   float64\n",
      " 9   n_cores        1996 non-null   float64\n",
      " 10  pc             1995 non-null   float64\n",
      " 11  px_height      1996 non-null   float64\n",
      " 12  px_width       1998 non-null   float64\n",
      " 13  ram            1998 non-null   float64\n",
      " 14  sc_h           1999 non-null   float64\n",
      " 15  sc_w           1999 non-null   float64\n",
      " 16  talk_time      2000 non-null   int64  \n",
      " 17  three_g        2000 non-null   int64  \n",
      " 18  touch_screen   2000 non-null   int64  \n",
      " 19  wifi           2000 non-null   int64  \n",
      " 20  price_range    2000 non-null   int64  \n",
      "dtypes: float64(13), int64(8)\n",
      "memory usage: 328.3 KB\n"
     ]
    }
   ],
   "source": [
    "# Showing information about the dataset, including data types and non-null counts\n",
    "print(\"ℹ️ Dataset Information:\")\n",
    "data.info()"
   ]
  },
  {
   "cell_type": "markdown",
   "metadata": {},
   "source": [
    "## 🛠️ Cleaning and Transformation\n",
    "\n",
    "**In this section, we will clean and prepare the data for further analysis. Our main focus will be on three essential tasks: removing duplicates, handling missing values, and splitting the data into numerical, categorical, and target variables. We’ll also inspect the data’s structure and summarize the numerical features.**"
   ]
  },
  {
   "cell_type": "markdown",
   "metadata": {
    "jp-MarkdownHeadingCollapsed": true
   },
   "source": [
    "### 1️⃣ **Checking and Dropping Duplicates**\n",
    "\n",
    "First, let's check if there are any duplicate rows in our dataset. Duplicates can distort our analysis, so it's crucial to remove them if found."
   ]
  },
  {
   "cell_type": "code",
   "execution_count": 4,
   "metadata": {},
   "outputs": [
    {
     "name": "stdout",
     "output_type": "stream",
     "text": [
      "🔄 Number of duplicate rows: 0\n",
      "✅ No duplicates found.\n"
     ]
    }
   ],
   "source": [
    "# Checking for duplicates\n",
    "duplicates = data.duplicated().sum()\n",
    "print(f\"🔄 Number of duplicate rows: {duplicates}\")\n",
    "\n",
    "# Dropping duplicates if found\n",
    "if duplicates > 0:\n",
    "    data = data.drop_duplicates()\n",
    "    print(\"✅ Duplicates dropped.\")\n",
    "else:\n",
    "    print(\"✅ No duplicates found.\")"
   ]
  },
  {
   "cell_type": "markdown",
   "metadata": {
    "jp-MarkdownHeadingCollapsed": true
   },
   "source": [
    "### 2️⃣ **Handling Missing Values**\n",
    "\n",
    "Next, we will check for any missing values. If the number of missing values in any column is less than 5% of the total, we’ll drop those rows. This step ensures the integrity of our data."
   ]
  },
  {
   "cell_type": "code",
   "execution_count": 5,
   "metadata": {},
   "outputs": [
    {
     "name": "stdout",
     "output_type": "stream",
     "text": [
      "🕵️‍♂️ Missing data overview:\n",
      "fc            0.25\n",
      "four_g        0.25\n",
      "int_memory    0.25\n",
      "m_dep         0.25\n",
      "mobile_wt     0.20\n",
      "n_cores       0.20\n",
      "pc            0.25\n",
      "px_height     0.20\n",
      "px_width      0.10\n",
      "ram           0.10\n",
      "sc_h          0.05\n",
      "sc_w          0.05\n",
      "dtype: float64\n",
      "\n",
      "\n",
      "✅ Rows with missing values in columns ['battery_power', 'blue', 'clock_speed', 'dual_sim', 'fc', 'four_g', 'int_memory', 'm_dep', 'mobile_wt', 'n_cores', 'pc', 'px_height', 'px_width', 'ram', 'sc_h', 'sc_w', 'talk_time', 'three_g', 'touch_screen', 'wifi', 'price_range'] dropped.\n"
     ]
    }
   ],
   "source": [
    "# Checking for missing values\n",
    "missing_data = data.isnull().sum()\n",
    "missing_percentage = (missing_data / len(data)) * 100\n",
    "print(\"🕵️‍♂️ Missing data overview:\")\n",
    "print(missing_percentage[missing_percentage > 0])\n",
    "\n",
    "# Dropping rows with missing values if they constitute less than 5% of the total data\n",
    "columns_to_drop = missing_percentage[missing_percentage < 5].index\n",
    "if not columns_to_drop.empty:\n",
    "    data = data.dropna(subset=columns_to_drop)\n",
    "    print(f\"\\n\\n✅ Rows with missing values in columns {columns_to_drop.tolist()} dropped.\")\n",
    "else:\n",
    "    print(\"\\n\\n✅ No significant missing values found.\")"
   ]
  },
  {
   "cell_type": "code",
   "execution_count": 6,
   "metadata": {},
   "outputs": [
    {
     "name": "stdout",
     "output_type": "stream",
     "text": [
      "✅ No null values found.\n"
     ]
    }
   ],
   "source": [
    "missing_data = data.isnull().sum()\n",
    "missing_percentage = (missing_data / len(data)) * 100\n",
    "\n",
    "if missing_percentage.sum() == 0:\n",
    "    print(\"✅ No null values found.\")\n",
    "else:\n",
    "    print(\"🕵️‍♂️ Missing data overview:\")\n",
    "    print(missing_percentage[missing_percentage > 0])"
   ]
  },
  {
   "cell_type": "markdown",
   "metadata": {
    "jp-MarkdownHeadingCollapsed": true
   },
   "source": [
    "### 3️⃣ **Splitting the Data into Numerical, Categorical, and Target Variables**\n",
    "\n",
    "Now that our data is clean, we can split it into three parts: numerical features, categorical features, and the target variable. This ensures that each data type can be handled appropriately.\n"
   ]
  },
  {
   "cell_type": "code",
   "execution_count": 7,
   "metadata": {},
   "outputs": [
    {
     "data": {
      "text/plain": [
       "battery_power    1090\n",
       "blue                2\n",
       "clock_speed        26\n",
       "dual_sim            2\n",
       "fc                 20\n",
       "four_g              2\n",
       "int_memory         63\n",
       "m_dep              10\n",
       "mobile_wt         121\n",
       "n_cores             8\n",
       "pc                 21\n",
       "px_height        1132\n",
       "px_width         1107\n",
       "ram              1556\n",
       "sc_h               15\n",
       "sc_w               19\n",
       "talk_time          19\n",
       "three_g             2\n",
       "touch_screen        2\n",
       "wifi                2\n",
       "price_range         4\n",
       "dtype: int64"
      ]
     },
     "execution_count": 7,
     "metadata": {},
     "output_type": "execute_result"
    }
   ],
   "source": [
    "# To Get Vision About My Data In Addition To The Description At The Intoduction Above\n",
    "\n",
    "data.nunique()"
   ]
  },
  {
   "cell_type": "markdown",
   "metadata": {
    "jp-MarkdownHeadingCollapsed": true
   },
   "source": [
    "#### 1.Categorical"
   ]
  },
  {
   "cell_type": "code",
   "execution_count": 8,
   "metadata": {},
   "outputs": [],
   "source": [
    "def extract_categorical_data(data, categorical_columns):\n",
    "    \"\"\"Extracts and converts specified categorical columns to integer type.\"\"\"\n",
    "    return data[categorical_columns].astype('int')\n",
    "\n",
    "# Define the categorical columns\n",
    "categorical_columns = ['blue', 'dual_sim', 'four_g', 'n_cores', 'three_g', 'touch_screen', 'wifi']\n",
    "\n",
    "# Extract and convert categorical data\n",
    "CategoricalData = extract_categorical_data(data, categorical_columns)"
   ]
  },
  {
   "cell_type": "code",
   "execution_count": 9,
   "metadata": {},
   "outputs": [
    {
     "data": {
      "text/html": [
       "<div>\n",
       "<style scoped>\n",
       "    .dataframe tbody tr th:only-of-type {\n",
       "        vertical-align: middle;\n",
       "    }\n",
       "\n",
       "    .dataframe tbody tr th {\n",
       "        vertical-align: top;\n",
       "    }\n",
       "\n",
       "    .dataframe thead th {\n",
       "        text-align: right;\n",
       "    }\n",
       "</style>\n",
       "<table border=\"1\" class=\"dataframe\">\n",
       "  <thead>\n",
       "    <tr style=\"text-align: right;\">\n",
       "      <th></th>\n",
       "      <th>blue</th>\n",
       "      <th>dual_sim</th>\n",
       "      <th>four_g</th>\n",
       "      <th>n_cores</th>\n",
       "      <th>three_g</th>\n",
       "      <th>touch_screen</th>\n",
       "      <th>wifi</th>\n",
       "    </tr>\n",
       "  </thead>\n",
       "  <tbody>\n",
       "    <tr>\n",
       "      <th>0</th>\n",
       "      <td>0</td>\n",
       "      <td>0</td>\n",
       "      <td>0</td>\n",
       "      <td>2</td>\n",
       "      <td>0</td>\n",
       "      <td>0</td>\n",
       "      <td>1</td>\n",
       "    </tr>\n",
       "    <tr>\n",
       "      <th>1</th>\n",
       "      <td>1</td>\n",
       "      <td>1</td>\n",
       "      <td>1</td>\n",
       "      <td>3</td>\n",
       "      <td>1</td>\n",
       "      <td>1</td>\n",
       "      <td>0</td>\n",
       "    </tr>\n",
       "  </tbody>\n",
       "</table>\n",
       "</div>"
      ],
      "text/plain": [
       "   blue  dual_sim  four_g  n_cores  three_g  touch_screen  wifi\n",
       "0     0         0       0        2        0             0     1\n",
       "1     1         1       1        3        1             1     0"
      ]
     },
     "execution_count": 9,
     "metadata": {},
     "output_type": "execute_result"
    }
   ],
   "source": [
    "CategoricalData.head(2)"
   ]
  },
  {
   "cell_type": "code",
   "execution_count": 10,
   "metadata": {},
   "outputs": [
    {
     "name": "stdout",
     "output_type": "stream",
     "text": [
      "<class 'pandas.core.frame.DataFrame'>\n",
      "Index: 1991 entries, 0 to 1999\n",
      "Data columns (total 7 columns):\n",
      " #   Column        Non-Null Count  Dtype\n",
      "---  ------        --------------  -----\n",
      " 0   blue          1991 non-null   int64\n",
      " 1   dual_sim      1991 non-null   int64\n",
      " 2   four_g        1991 non-null   int64\n",
      " 3   n_cores       1991 non-null   int64\n",
      " 4   three_g       1991 non-null   int64\n",
      " 5   touch_screen  1991 non-null   int64\n",
      " 6   wifi          1991 non-null   int64\n",
      "dtypes: int64(7)\n",
      "memory usage: 124.4 KB\n"
     ]
    }
   ],
   "source": [
    "CategoricalData.info()"
   ]
  },
  {
   "cell_type": "markdown",
   "metadata": {},
   "source": [
    "#### 2.Target "
   ]
  },
  {
   "cell_type": "code",
   "execution_count": 11,
   "metadata": {},
   "outputs": [],
   "source": [
    "# Extracting the target variable\n",
    "Target = pd.DataFrame({'price_range': data['price_range']})"
   ]
  },
  {
   "cell_type": "code",
   "execution_count": 12,
   "metadata": {},
   "outputs": [
    {
     "data": {
      "text/html": [
       "<div>\n",
       "<style scoped>\n",
       "    .dataframe tbody tr th:only-of-type {\n",
       "        vertical-align: middle;\n",
       "    }\n",
       "\n",
       "    .dataframe tbody tr th {\n",
       "        vertical-align: top;\n",
       "    }\n",
       "\n",
       "    .dataframe thead th {\n",
       "        text-align: right;\n",
       "    }\n",
       "</style>\n",
       "<table border=\"1\" class=\"dataframe\">\n",
       "  <thead>\n",
       "    <tr style=\"text-align: right;\">\n",
       "      <th></th>\n",
       "      <th>price_range</th>\n",
       "    </tr>\n",
       "  </thead>\n",
       "  <tbody>\n",
       "    <tr>\n",
       "      <th>0</th>\n",
       "      <td>1</td>\n",
       "    </tr>\n",
       "    <tr>\n",
       "      <th>1</th>\n",
       "      <td>2</td>\n",
       "    </tr>\n",
       "    <tr>\n",
       "      <th>2</th>\n",
       "      <td>2</td>\n",
       "    </tr>\n",
       "    <tr>\n",
       "      <th>3</th>\n",
       "      <td>2</td>\n",
       "    </tr>\n",
       "    <tr>\n",
       "      <th>4</th>\n",
       "      <td>1</td>\n",
       "    </tr>\n",
       "  </tbody>\n",
       "</table>\n",
       "</div>"
      ],
      "text/plain": [
       "   price_range\n",
       "0            1\n",
       "1            2\n",
       "2            2\n",
       "3            2\n",
       "4            1"
      ]
     },
     "execution_count": 12,
     "metadata": {},
     "output_type": "execute_result"
    }
   ],
   "source": [
    "Target.head()"
   ]
  },
  {
   "cell_type": "code",
   "execution_count": 13,
   "metadata": {},
   "outputs": [
    {
     "name": "stdout",
     "output_type": "stream",
     "text": [
      "<class 'pandas.core.frame.DataFrame'>\n",
      "Index: 1991 entries, 0 to 1999\n",
      "Data columns (total 1 columns):\n",
      " #   Column       Non-Null Count  Dtype\n",
      "---  ------       --------------  -----\n",
      " 0   price_range  1991 non-null   int64\n",
      "dtypes: int64(1)\n",
      "memory usage: 31.1 KB\n"
     ]
    }
   ],
   "source": [
    "Target.info()"
   ]
  },
  {
   "cell_type": "markdown",
   "metadata": {
    "jp-MarkdownHeadingCollapsed": true
   },
   "source": [
    "#### 3.Numerical"
   ]
  },
  {
   "cell_type": "code",
   "execution_count": 14,
   "metadata": {},
   "outputs": [],
   "source": [
    "# Identifying the numerical columns by excluding categorical and target columns\n",
    "def get_numerical_data(data, categorical_columns, target_column):\n",
    "\n",
    "    # Combine categorical columns and target column to exclude\n",
    "    unnecessary_columns = categorical_columns + target_column\n",
    "    # Drop the unnecessary columns to get numerical data\n",
    "    numerical_data = data.drop(columns=unnecessary_columns)\n",
    "    \n",
    "    return pd.DataFrame(numerical_data)\n",
    "\n",
    "NumericalData = get_numerical_data(data, CategoricalData,Target)"
   ]
  },
  {
   "cell_type": "code",
   "execution_count": 15,
   "metadata": {},
   "outputs": [
    {
     "data": {
      "text/html": [
       "<div>\n",
       "<style scoped>\n",
       "    .dataframe tbody tr th:only-of-type {\n",
       "        vertical-align: middle;\n",
       "    }\n",
       "\n",
       "    .dataframe tbody tr th {\n",
       "        vertical-align: top;\n",
       "    }\n",
       "\n",
       "    .dataframe thead th {\n",
       "        text-align: right;\n",
       "    }\n",
       "</style>\n",
       "<table border=\"1\" class=\"dataframe\">\n",
       "  <thead>\n",
       "    <tr style=\"text-align: right;\">\n",
       "      <th></th>\n",
       "      <th>battery_power</th>\n",
       "      <th>clock_speed</th>\n",
       "      <th>fc</th>\n",
       "      <th>int_memory</th>\n",
       "      <th>m_dep</th>\n",
       "      <th>mobile_wt</th>\n",
       "      <th>pc</th>\n",
       "      <th>px_height</th>\n",
       "      <th>px_width</th>\n",
       "      <th>ram</th>\n",
       "      <th>sc_h</th>\n",
       "      <th>sc_w</th>\n",
       "      <th>talk_time</th>\n",
       "    </tr>\n",
       "  </thead>\n",
       "  <tbody>\n",
       "    <tr>\n",
       "      <th>0</th>\n",
       "      <td>842</td>\n",
       "      <td>2.2</td>\n",
       "      <td>1.0</td>\n",
       "      <td>7.0</td>\n",
       "      <td>0.6</td>\n",
       "      <td>188.0</td>\n",
       "      <td>2.0</td>\n",
       "      <td>20.0</td>\n",
       "      <td>756.0</td>\n",
       "      <td>2549.0</td>\n",
       "      <td>9.0</td>\n",
       "      <td>7.0</td>\n",
       "      <td>19</td>\n",
       "    </tr>\n",
       "    <tr>\n",
       "      <th>1</th>\n",
       "      <td>1021</td>\n",
       "      <td>0.5</td>\n",
       "      <td>0.0</td>\n",
       "      <td>53.0</td>\n",
       "      <td>0.7</td>\n",
       "      <td>136.0</td>\n",
       "      <td>6.0</td>\n",
       "      <td>905.0</td>\n",
       "      <td>1988.0</td>\n",
       "      <td>2631.0</td>\n",
       "      <td>17.0</td>\n",
       "      <td>3.0</td>\n",
       "      <td>7</td>\n",
       "    </tr>\n",
       "    <tr>\n",
       "      <th>2</th>\n",
       "      <td>563</td>\n",
       "      <td>0.5</td>\n",
       "      <td>2.0</td>\n",
       "      <td>41.0</td>\n",
       "      <td>0.9</td>\n",
       "      <td>145.0</td>\n",
       "      <td>6.0</td>\n",
       "      <td>1263.0</td>\n",
       "      <td>1716.0</td>\n",
       "      <td>2603.0</td>\n",
       "      <td>11.0</td>\n",
       "      <td>2.0</td>\n",
       "      <td>9</td>\n",
       "    </tr>\n",
       "    <tr>\n",
       "      <th>3</th>\n",
       "      <td>615</td>\n",
       "      <td>2.5</td>\n",
       "      <td>0.0</td>\n",
       "      <td>10.0</td>\n",
       "      <td>0.8</td>\n",
       "      <td>131.0</td>\n",
       "      <td>9.0</td>\n",
       "      <td>1216.0</td>\n",
       "      <td>1786.0</td>\n",
       "      <td>2769.0</td>\n",
       "      <td>16.0</td>\n",
       "      <td>8.0</td>\n",
       "      <td>11</td>\n",
       "    </tr>\n",
       "    <tr>\n",
       "      <th>4</th>\n",
       "      <td>1821</td>\n",
       "      <td>1.2</td>\n",
       "      <td>13.0</td>\n",
       "      <td>44.0</td>\n",
       "      <td>0.6</td>\n",
       "      <td>141.0</td>\n",
       "      <td>14.0</td>\n",
       "      <td>1208.0</td>\n",
       "      <td>1212.0</td>\n",
       "      <td>1411.0</td>\n",
       "      <td>8.0</td>\n",
       "      <td>2.0</td>\n",
       "      <td>15</td>\n",
       "    </tr>\n",
       "  </tbody>\n",
       "</table>\n",
       "</div>"
      ],
      "text/plain": [
       "   battery_power  clock_speed    fc  int_memory  m_dep  mobile_wt    pc  \\\n",
       "0            842          2.2   1.0         7.0    0.6      188.0   2.0   \n",
       "1           1021          0.5   0.0        53.0    0.7      136.0   6.0   \n",
       "2            563          0.5   2.0        41.0    0.9      145.0   6.0   \n",
       "3            615          2.5   0.0        10.0    0.8      131.0   9.0   \n",
       "4           1821          1.2  13.0        44.0    0.6      141.0  14.0   \n",
       "\n",
       "   px_height  px_width     ram  sc_h  sc_w  talk_time  \n",
       "0       20.0     756.0  2549.0   9.0   7.0         19  \n",
       "1      905.0    1988.0  2631.0  17.0   3.0          7  \n",
       "2     1263.0    1716.0  2603.0  11.0   2.0          9  \n",
       "3     1216.0    1786.0  2769.0  16.0   8.0         11  \n",
       "4     1208.0    1212.0  1411.0   8.0   2.0         15  "
      ]
     },
     "execution_count": 15,
     "metadata": {},
     "output_type": "execute_result"
    }
   ],
   "source": [
    "NumericalData.head()"
   ]
  },
  {
   "cell_type": "code",
   "execution_count": 16,
   "metadata": {},
   "outputs": [
    {
     "name": "stdout",
     "output_type": "stream",
     "text": [
      "<class 'pandas.core.frame.DataFrame'>\n",
      "Index: 1991 entries, 0 to 1999\n",
      "Data columns (total 13 columns):\n",
      " #   Column         Non-Null Count  Dtype  \n",
      "---  ------         --------------  -----  \n",
      " 0   battery_power  1991 non-null   int64  \n",
      " 1   clock_speed    1991 non-null   float64\n",
      " 2   fc             1991 non-null   float64\n",
      " 3   int_memory     1991 non-null   float64\n",
      " 4   m_dep          1991 non-null   float64\n",
      " 5   mobile_wt      1991 non-null   float64\n",
      " 6   pc             1991 non-null   float64\n",
      " 7   px_height      1991 non-null   float64\n",
      " 8   px_width       1991 non-null   float64\n",
      " 9   ram            1991 non-null   float64\n",
      " 10  sc_h           1991 non-null   float64\n",
      " 11  sc_w           1991 non-null   float64\n",
      " 12  talk_time      1991 non-null   int64  \n",
      "dtypes: float64(11), int64(2)\n",
      "memory usage: 217.8 KB\n"
     ]
    }
   ],
   "source": [
    "NumericalData.info()"
   ]
  },
  {
   "cell_type": "code",
   "execution_count": 17,
   "metadata": {},
   "outputs": [
    {
     "data": {
      "text/html": [
       "<div>\n",
       "<style scoped>\n",
       "    .dataframe tbody tr th:only-of-type {\n",
       "        vertical-align: middle;\n",
       "    }\n",
       "\n",
       "    .dataframe tbody tr th {\n",
       "        vertical-align: top;\n",
       "    }\n",
       "\n",
       "    .dataframe thead th {\n",
       "        text-align: right;\n",
       "    }\n",
       "</style>\n",
       "<table border=\"1\" class=\"dataframe\">\n",
       "  <thead>\n",
       "    <tr style=\"text-align: right;\">\n",
       "      <th></th>\n",
       "      <th>battery_power</th>\n",
       "      <th>clock_speed</th>\n",
       "      <th>fc</th>\n",
       "      <th>int_memory</th>\n",
       "      <th>m_dep</th>\n",
       "      <th>mobile_wt</th>\n",
       "      <th>pc</th>\n",
       "      <th>px_height</th>\n",
       "      <th>px_width</th>\n",
       "      <th>ram</th>\n",
       "      <th>sc_h</th>\n",
       "      <th>sc_w</th>\n",
       "      <th>talk_time</th>\n",
       "    </tr>\n",
       "  </thead>\n",
       "  <tbody>\n",
       "    <tr>\n",
       "      <th>count</th>\n",
       "      <td>1991.000000</td>\n",
       "      <td>1991.000000</td>\n",
       "      <td>1991.000000</td>\n",
       "      <td>1991.000000</td>\n",
       "      <td>1991.000000</td>\n",
       "      <td>1991.000000</td>\n",
       "      <td>1991.000000</td>\n",
       "      <td>1991.000000</td>\n",
       "      <td>1991.000000</td>\n",
       "      <td>1991.000000</td>\n",
       "      <td>1991.000000</td>\n",
       "      <td>1991.000000</td>\n",
       "      <td>1991.000000</td>\n",
       "    </tr>\n",
       "    <tr>\n",
       "      <th>mean</th>\n",
       "      <td>1238.270718</td>\n",
       "      <td>1.522451</td>\n",
       "      <td>4.307885</td>\n",
       "      <td>32.074335</td>\n",
       "      <td>0.502009</td>\n",
       "      <td>140.263184</td>\n",
       "      <td>9.909091</td>\n",
       "      <td>644.800603</td>\n",
       "      <td>1251.115520</td>\n",
       "      <td>2123.632848</td>\n",
       "      <td>12.307885</td>\n",
       "      <td>5.774485</td>\n",
       "      <td>11.001507</td>\n",
       "    </tr>\n",
       "    <tr>\n",
       "      <th>std</th>\n",
       "      <td>439.641057</td>\n",
       "      <td>0.815499</td>\n",
       "      <td>4.339735</td>\n",
       "      <td>18.138177</td>\n",
       "      <td>0.288622</td>\n",
       "      <td>35.398777</td>\n",
       "      <td>6.061019</td>\n",
       "      <td>442.951035</td>\n",
       "      <td>431.924893</td>\n",
       "      <td>1085.051293</td>\n",
       "      <td>4.213061</td>\n",
       "      <td>4.357385</td>\n",
       "      <td>5.464872</td>\n",
       "    </tr>\n",
       "    <tr>\n",
       "      <th>min</th>\n",
       "      <td>501.000000</td>\n",
       "      <td>0.500000</td>\n",
       "      <td>0.000000</td>\n",
       "      <td>2.000000</td>\n",
       "      <td>0.100000</td>\n",
       "      <td>80.000000</td>\n",
       "      <td>0.000000</td>\n",
       "      <td>0.000000</td>\n",
       "      <td>500.000000</td>\n",
       "      <td>256.000000</td>\n",
       "      <td>5.000000</td>\n",
       "      <td>0.000000</td>\n",
       "      <td>2.000000</td>\n",
       "    </tr>\n",
       "    <tr>\n",
       "      <th>25%</th>\n",
       "      <td>851.500000</td>\n",
       "      <td>0.700000</td>\n",
       "      <td>1.000000</td>\n",
       "      <td>16.000000</td>\n",
       "      <td>0.200000</td>\n",
       "      <td>109.000000</td>\n",
       "      <td>5.000000</td>\n",
       "      <td>282.500000</td>\n",
       "      <td>875.500000</td>\n",
       "      <td>1207.000000</td>\n",
       "      <td>9.000000</td>\n",
       "      <td>2.000000</td>\n",
       "      <td>6.000000</td>\n",
       "    </tr>\n",
       "    <tr>\n",
       "      <th>50%</th>\n",
       "      <td>1225.000000</td>\n",
       "      <td>1.500000</td>\n",
       "      <td>3.000000</td>\n",
       "      <td>32.000000</td>\n",
       "      <td>0.500000</td>\n",
       "      <td>141.000000</td>\n",
       "      <td>10.000000</td>\n",
       "      <td>564.000000</td>\n",
       "      <td>1247.000000</td>\n",
       "      <td>2147.000000</td>\n",
       "      <td>12.000000</td>\n",
       "      <td>5.000000</td>\n",
       "      <td>11.000000</td>\n",
       "    </tr>\n",
       "    <tr>\n",
       "      <th>75%</th>\n",
       "      <td>1615.500000</td>\n",
       "      <td>2.200000</td>\n",
       "      <td>7.000000</td>\n",
       "      <td>48.000000</td>\n",
       "      <td>0.800000</td>\n",
       "      <td>170.000000</td>\n",
       "      <td>15.000000</td>\n",
       "      <td>947.500000</td>\n",
       "      <td>1633.000000</td>\n",
       "      <td>3065.000000</td>\n",
       "      <td>16.000000</td>\n",
       "      <td>9.000000</td>\n",
       "      <td>16.000000</td>\n",
       "    </tr>\n",
       "    <tr>\n",
       "      <th>max</th>\n",
       "      <td>1998.000000</td>\n",
       "      <td>3.000000</td>\n",
       "      <td>19.000000</td>\n",
       "      <td>64.000000</td>\n",
       "      <td>1.000000</td>\n",
       "      <td>200.000000</td>\n",
       "      <td>20.000000</td>\n",
       "      <td>1960.000000</td>\n",
       "      <td>1998.000000</td>\n",
       "      <td>3998.000000</td>\n",
       "      <td>19.000000</td>\n",
       "      <td>18.000000</td>\n",
       "      <td>20.000000</td>\n",
       "    </tr>\n",
       "  </tbody>\n",
       "</table>\n",
       "</div>"
      ],
      "text/plain": [
       "       battery_power  clock_speed           fc   int_memory        m_dep  \\\n",
       "count    1991.000000  1991.000000  1991.000000  1991.000000  1991.000000   \n",
       "mean     1238.270718     1.522451     4.307885    32.074335     0.502009   \n",
       "std       439.641057     0.815499     4.339735    18.138177     0.288622   \n",
       "min       501.000000     0.500000     0.000000     2.000000     0.100000   \n",
       "25%       851.500000     0.700000     1.000000    16.000000     0.200000   \n",
       "50%      1225.000000     1.500000     3.000000    32.000000     0.500000   \n",
       "75%      1615.500000     2.200000     7.000000    48.000000     0.800000   \n",
       "max      1998.000000     3.000000    19.000000    64.000000     1.000000   \n",
       "\n",
       "         mobile_wt           pc    px_height     px_width          ram  \\\n",
       "count  1991.000000  1991.000000  1991.000000  1991.000000  1991.000000   \n",
       "mean    140.263184     9.909091   644.800603  1251.115520  2123.632848   \n",
       "std      35.398777     6.061019   442.951035   431.924893  1085.051293   \n",
       "min      80.000000     0.000000     0.000000   500.000000   256.000000   \n",
       "25%     109.000000     5.000000   282.500000   875.500000  1207.000000   \n",
       "50%     141.000000    10.000000   564.000000  1247.000000  2147.000000   \n",
       "75%     170.000000    15.000000   947.500000  1633.000000  3065.000000   \n",
       "max     200.000000    20.000000  1960.000000  1998.000000  3998.000000   \n",
       "\n",
       "              sc_h         sc_w    talk_time  \n",
       "count  1991.000000  1991.000000  1991.000000  \n",
       "mean     12.307885     5.774485    11.001507  \n",
       "std       4.213061     4.357385     5.464872  \n",
       "min       5.000000     0.000000     2.000000  \n",
       "25%       9.000000     2.000000     6.000000  \n",
       "50%      12.000000     5.000000    11.000000  \n",
       "75%      16.000000     9.000000    16.000000  \n",
       "max      19.000000    18.000000    20.000000  "
      ]
     },
     "execution_count": 17,
     "metadata": {},
     "output_type": "execute_result"
    }
   ],
   "source": [
    "NumericalData.describe()"
   ]
  },
  {
   "cell_type": "markdown",
   "metadata": {
    "jp-MarkdownHeadingCollapsed": true
   },
   "source": [
    "## 🚀 Feature Engineering\n",
    "\n",
    "After cleaning and preparing the data, the next crucial step is feature engineering. This process involves creating new features or transforming existing ones to improve the performance of our machine learning models. We’ll begin with numerical features, followed by categorical features."
   ]
  },
  {
   "cell_type": "markdown",
   "metadata": {
    "jp-MarkdownHeadingCollapsed": true
   },
   "source": [
    "### 1️⃣ **Numerical Features**\n",
    "\n",
    "We’ll focus on transforming existing numerical columns and creating new ones that capture relevant information about the mobile phones.\n",
    "\n",
    "#### Mobile Phone Numerical Features\n",
    "- **battery_power**: Total energy a battery can store at one time, measured in mAh\n",
    "- **clock_speed**: The speed at which the microprocessor executes instructions\n",
    "- **fc**: Front Camera megapixels\n",
    "- **int_memory**: Internal Memory in Gigabytes\n",
    "- **m_dep**: Mobile Depth in cm\n",
    "- **mobile_wt**: Weight of the mobile phone\n",
    "- **pc**: Primary Camera megapixels\n",
    "- **px_height**: Pixel Resolution Height\n",
    "- **px_width**: Pixel Resolution Width\n",
    "- **ram**: Random Access Memory in Megabytes\n",
    "- **sc_h**: Screen Height of the mobile in cm\n",
    "- **sc_w**: Screen Width of the mobile in cm\n",
    "- **talk_time**: Longest time that a single battery charge will last during use"
   ]
  },
  {
   "cell_type": "markdown",
   "metadata": {
    "jp-MarkdownHeadingCollapsed": true
   },
   "source": [
    "#### 📐 **RAM Conversion (MB to GB)**\n",
    "\n",
    "- **Original Column**: `ram`\n",
    "- **New Column**: `ram_gb`\n",
    "- **Description**: Converts the RAM from megabytes to gigabytes for better interpretability."
   ]
  },
  {
   "cell_type": "code",
   "execution_count": 18,
   "metadata": {},
   "outputs": [
    {
     "data": {
      "text/plain": [
       "0    2549.0\n",
       "1    2631.0\n",
       "Name: ram, dtype: float64"
      ]
     },
     "execution_count": 18,
     "metadata": {},
     "output_type": "execute_result"
    }
   ],
   "source": [
    "NumericalData['ram'].head(2)"
   ]
  },
  {
   "cell_type": "code",
   "execution_count": 19,
   "metadata": {},
   "outputs": [],
   "source": [
    "def convert_ram_to_gb(data, ram_column):\n",
    "    \"\"\"Converts RAM from MB to GB.\"\"\"\n",
    "    data[ram_column] = data[ram_column] / 1024\n",
    "\n",
    "convert_ram_to_gb(NumericalData, 'ram')"
   ]
  },
  {
   "cell_type": "code",
   "execution_count": 20,
   "metadata": {},
   "outputs": [
    {
     "name": "stdout",
     "output_type": "stream",
     "text": [
      "🔄 RAM converted from MB to GB\n",
      "\n",
      "0    2.489258\n",
      "1    2.569336\n",
      "Name: ram, dtype: float64\n"
     ]
    }
   ],
   "source": [
    "print(\"🔄 RAM converted from MB to GB\\n\")\n",
    "print(NumericalData['ram'].head(2))"
   ]
  },
  {
   "cell_type": "markdown",
   "metadata": {
    "jp-MarkdownHeadingCollapsed": true
   },
   "source": [
    "#### 🖥️ **Screen Area Calculation**\n",
    "\n",
    "- **Original Columns**: `sc_h`, `sc_w`\n",
    "- **New Column**: `sc_area`\n",
    "- **Description**: Calculates the screen area (height x width) to capture the overall screen size."
   ]
  },
  {
   "cell_type": "code",
   "execution_count": 21,
   "metadata": {},
   "outputs": [],
   "source": [
    "def calculate_screen_area(data, height_col, width_col):\n",
    "    \"\"\"Calculates screen area.\"\"\"\n",
    "    data['sc_area'] = data[height_col] * data[width_col]\n",
    "\n",
    "calculate_screen_area(NumericalData, 'sc_h', 'sc_w')"
   ]
  },
  {
   "cell_type": "code",
   "execution_count": 22,
   "metadata": {},
   "outputs": [
    {
     "name": "stdout",
     "output_type": "stream",
     "text": [
      "📐 Screen area calculated\n",
      "\n",
      "   sc_h  sc_w  sc_area\n",
      "0   9.0   7.0     63.0\n",
      "1  17.0   3.0     51.0\n",
      "2  11.0   2.0     22.0\n",
      "3  16.0   8.0    128.0\n",
      "4   8.0   2.0     16.0\n"
     ]
    }
   ],
   "source": [
    "print(\"📐 Screen area calculated\\n\")\n",
    "print(NumericalData[['sc_h', 'sc_w', 'sc_area']].head())"
   ]
  },
  {
   "cell_type": "markdown",
   "metadata": {
    "jp-MarkdownHeadingCollapsed": true
   },
   "source": [
    "#### 🔋 **Battery Efficiency Calculation**\n",
    "\n",
    "- **Original Columns**: `battery_power`, `talk_time`\n",
    "- **New Column**: `battery_efficiency`\n",
    "- **Description**: Calculates battery efficiency by dividing talk time by battery power, providing a measure of how long the battery lasts relative to its capacity."
   ]
  },
  {
   "cell_type": "code",
   "execution_count": 23,
   "metadata": {},
   "outputs": [],
   "source": [
    "def calculate_battery_efficiency(data, talk_time_col, battery_power_col):\n",
    "    \"\"\"Calculates battery efficiency (talk time per mAh).\"\"\"\n",
    "    data['Battery_Efficiency'] = data[talk_time_col] / data[battery_power_col]\n",
    "\n",
    "calculate_battery_efficiency(NumericalData, 'talk_time', 'battery_power')"
   ]
  },
  {
   "cell_type": "code",
   "execution_count": 24,
   "metadata": {},
   "outputs": [
    {
     "name": "stdout",
     "output_type": "stream",
     "text": [
      "🔋 Battery efficiency calculated\n",
      "\n",
      "   battery_power  talk_time  Battery_Efficiency\n",
      "0            842         19            0.022565\n",
      "1           1021          7            0.006856\n",
      "2            563          9            0.015986\n",
      "3            615         11            0.017886\n",
      "4           1821         15            0.008237\n"
     ]
    }
   ],
   "source": [
    "print(\"🔋 Battery efficiency calculated\\n\")\n",
    "print(NumericalData[['battery_power', 'talk_time', 'Battery_Efficiency']].head())"
   ]
  },
  {
   "cell_type": "markdown",
   "metadata": {
    "jp-MarkdownHeadingCollapsed": true
   },
   "source": [
    "### 2️⃣ **Categorical Features**\n",
    "\n",
    "For categorical features, we’ll create a new feature based on the phone's network connectivity capabilities.\n",
    "\n",
    "#### Mobile Phone Features\n",
    "\n",
    "- **blue**: Has Bluetooth or not\n",
    "- **dual_sim**: Has dual SIM support or not\n",
    "- **four_g**: Has 4G or not\n",
    "- **n_cores**: Number of cores in the processor\n",
    "- **three_g**: Has 3G or not\n",
    "- **touch_screen**: Has a touch screen or not\n",
    "- **wifi**: Has WiFi or not"
   ]
  },
  {
   "cell_type": "markdown",
   "metadata": {
    "jp-MarkdownHeadingCollapsed": true
   },
   "source": [
    "#### **New Feature: New_1**\n",
    "\n",
    "**Description**: \n",
    "The feature `New_1` is a binary indicator that signifies whether a mobile phone supports both 3G and 4G connectivity.\n",
    "\n",
    "- **New_1 = 1**: The phone supports both 3G and 4G networks, indicating that it is considered **NEW** in terms of its connectivity features.\n",
    "- **New_1 = 0**: The phone does not support both 3G and 4G networks, indicating that it is considered **OLD**."
   ]
  },
  {
   "cell_type": "code",
   "execution_count": 25,
   "metadata": {},
   "outputs": [
    {
     "data": {
      "text/html": [
       "<div>\n",
       "<style scoped>\n",
       "    .dataframe tbody tr th:only-of-type {\n",
       "        vertical-align: middle;\n",
       "    }\n",
       "\n",
       "    .dataframe tbody tr th {\n",
       "        vertical-align: top;\n",
       "    }\n",
       "\n",
       "    .dataframe thead th {\n",
       "        text-align: right;\n",
       "    }\n",
       "</style>\n",
       "<table border=\"1\" class=\"dataframe\">\n",
       "  <thead>\n",
       "    <tr style=\"text-align: right;\">\n",
       "      <th></th>\n",
       "      <th>blue</th>\n",
       "      <th>dual_sim</th>\n",
       "      <th>four_g</th>\n",
       "      <th>n_cores</th>\n",
       "      <th>three_g</th>\n",
       "      <th>touch_screen</th>\n",
       "      <th>wifi</th>\n",
       "    </tr>\n",
       "  </thead>\n",
       "  <tbody>\n",
       "    <tr>\n",
       "      <th>0</th>\n",
       "      <td>0</td>\n",
       "      <td>0</td>\n",
       "      <td>0</td>\n",
       "      <td>2</td>\n",
       "      <td>0</td>\n",
       "      <td>0</td>\n",
       "      <td>1</td>\n",
       "    </tr>\n",
       "    <tr>\n",
       "      <th>1</th>\n",
       "      <td>1</td>\n",
       "      <td>1</td>\n",
       "      <td>1</td>\n",
       "      <td>3</td>\n",
       "      <td>1</td>\n",
       "      <td>1</td>\n",
       "      <td>0</td>\n",
       "    </tr>\n",
       "    <tr>\n",
       "      <th>2</th>\n",
       "      <td>1</td>\n",
       "      <td>1</td>\n",
       "      <td>1</td>\n",
       "      <td>5</td>\n",
       "      <td>1</td>\n",
       "      <td>1</td>\n",
       "      <td>0</td>\n",
       "    </tr>\n",
       "    <tr>\n",
       "      <th>3</th>\n",
       "      <td>1</td>\n",
       "      <td>0</td>\n",
       "      <td>0</td>\n",
       "      <td>6</td>\n",
       "      <td>1</td>\n",
       "      <td>0</td>\n",
       "      <td>0</td>\n",
       "    </tr>\n",
       "    <tr>\n",
       "      <th>4</th>\n",
       "      <td>1</td>\n",
       "      <td>0</td>\n",
       "      <td>1</td>\n",
       "      <td>2</td>\n",
       "      <td>1</td>\n",
       "      <td>1</td>\n",
       "      <td>0</td>\n",
       "    </tr>\n",
       "  </tbody>\n",
       "</table>\n",
       "</div>"
      ],
      "text/plain": [
       "   blue  dual_sim  four_g  n_cores  three_g  touch_screen  wifi\n",
       "0     0         0       0        2        0             0     1\n",
       "1     1         1       1        3        1             1     0\n",
       "2     1         1       1        5        1             1     0\n",
       "3     1         0       0        6        1             0     0\n",
       "4     1         0       1        2        1             1     0"
      ]
     },
     "execution_count": 25,
     "metadata": {},
     "output_type": "execute_result"
    }
   ],
   "source": [
    "CategoricalData.head()"
   ]
  },
  {
   "cell_type": "code",
   "execution_count": 26,
   "metadata": {},
   "outputs": [
    {
     "name": "stdout",
     "output_type": "stream",
     "text": [
      "<class 'pandas.core.frame.DataFrame'>\n",
      "Index: 1991 entries, 0 to 1999\n",
      "Data columns (total 7 columns):\n",
      " #   Column        Non-Null Count  Dtype\n",
      "---  ------        --------------  -----\n",
      " 0   blue          1991 non-null   int64\n",
      " 1   dual_sim      1991 non-null   int64\n",
      " 2   four_g        1991 non-null   int64\n",
      " 3   n_cores       1991 non-null   int64\n",
      " 4   three_g       1991 non-null   int64\n",
      " 5   touch_screen  1991 non-null   int64\n",
      " 6   wifi          1991 non-null   int64\n",
      "dtypes: int64(7)\n",
      "memory usage: 124.4 KB\n"
     ]
    }
   ],
   "source": [
    "CategoricalData.info()"
   ]
  },
  {
   "cell_type": "code",
   "execution_count": 27,
   "metadata": {},
   "outputs": [],
   "source": [
    "def support_3g_4g_feature(data, three_g_col, four_g_col):\n",
    "    \"\"\"Creates a feature: 1 if both 3G and 4G are supported, else 0.\"\"\"\n",
    "    data['New_1'] = ((data[three_g_col] == 1) & (data[four_g_col] == 1)).astype(int)\n",
    "\n",
    "support_3g_4g_feature(CategoricalData, 'three_g', 'four_g')"
   ]
  },
  {
   "cell_type": "code",
   "execution_count": 28,
   "metadata": {},
   "outputs": [
    {
     "name": "stdout",
     "output_type": "stream",
     "text": [
      "📡 New feature 'New_1' created\n",
      "\n",
      "   three_g  four_g  New_1\n",
      "0        0       0      0\n",
      "1        1       1      1\n",
      "2        1       1      1\n",
      "3        1       0      0\n",
      "4        1       1      1\n"
     ]
    }
   ],
   "source": [
    "print(\"📡 New feature 'New_1' created\\n\")\n",
    "print(CategoricalData[['three_g', 'four_g', 'New_1']].head())"
   ]
  },
  {
   "cell_type": "markdown",
   "metadata": {},
   "source": [
    "**There Is No BIAS To Any Category On New Features**"
   ]
  },
  {
   "cell_type": "code",
   "execution_count": 29,
   "metadata": {},
   "outputs": [
    {
     "data": {
      "text/plain": [
       "New_1\n",
       "1    1037\n",
       "0     954\n",
       "Name: count, dtype: int64"
      ]
     },
     "execution_count": 29,
     "metadata": {},
     "output_type": "execute_result"
    }
   ],
   "source": [
    "CategoricalData['New_1'].value_counts()"
   ]
  },
  {
   "cell_type": "code",
   "execution_count": 30,
   "metadata": {},
   "outputs": [
    {
     "name": "stdout",
     "output_type": "stream",
     "text": [
      "<class 'pandas.core.frame.DataFrame'>\n",
      "Index: 1991 entries, 0 to 1999\n",
      "Data columns (total 8 columns):\n",
      " #   Column        Non-Null Count  Dtype\n",
      "---  ------        --------------  -----\n",
      " 0   blue          1991 non-null   int64\n",
      " 1   dual_sim      1991 non-null   int64\n",
      " 2   four_g        1991 non-null   int64\n",
      " 3   n_cores       1991 non-null   int64\n",
      " 4   three_g       1991 non-null   int64\n",
      " 5   touch_screen  1991 non-null   int64\n",
      " 6   wifi          1991 non-null   int64\n",
      " 7   New_1         1991 non-null   int64\n",
      "dtypes: int64(8)\n",
      "memory usage: 140.0 KB\n"
     ]
    }
   ],
   "source": [
    "CategoricalData.info()"
   ]
  },
  {
   "cell_type": "markdown",
   "metadata": {},
   "source": [
    "### **🟢 Data is Ready for Model Building**\n",
    "\n",
    "With the newly engineered features, our dataset is now enhanced and ready for model building. These features will provide additional insights and improve the predictive power of our machine learning models.\n",
    "\n",
    "### Explanation:\n",
    "- **Numerical Features**: \n",
    "  - We converted the `ram` column from MB to GB, calculated the screen area from the height and width, and created a battery efficiency feature.\n",
    "- **Categorical Features**: \n",
    "  - We created a new binary feature `New_1` that indicates whether the mobile phone supports both 3G and 4G connectivity.\n",
    "- **Final Step**: The data, now enriched with these features, is ready for the next steps in building and optimizing machine learning models."
   ]
  },
  {
   "cell_type": "markdown",
   "metadata": {
    "jp-MarkdownHeadingCollapsed": true
   },
   "source": [
    "## Scaling Numerical Features & Encoding Categorical Features\n",
    "\n",
    "In this section, we'll continue our feature engineering by scaling the numerical features and encoding the categorical ones. This ensures that all features are on a similar scale and that categorical variables are converted into a numerical format suitable for machine learning models."
   ]
  },
  {
   "cell_type": "markdown",
   "metadata": {
    "jp-MarkdownHeadingCollapsed": true
   },
   "source": [
    "### 1️⃣ **Scaling Numerical Features**\n",
    "\n",
    "Scaling numerical features is crucial for models that rely on distance calculations, such as k-NN or SVM. We'll use Min-Max scaling to normalize all numerical features to a range between 0 and 1.\n",
    "\n",
    "- **Min-Max Scaling**: This technique scales the data to a fixed range, typically 0 to 1. It’s effective when the distribution of the data is unknown or has varying scales."
   ]
  },
  {
   "cell_type": "code",
   "execution_count": 31,
   "metadata": {},
   "outputs": [
    {
     "data": {
      "text/html": [
       "<div>\n",
       "<style scoped>\n",
       "    .dataframe tbody tr th:only-of-type {\n",
       "        vertical-align: middle;\n",
       "    }\n",
       "\n",
       "    .dataframe tbody tr th {\n",
       "        vertical-align: top;\n",
       "    }\n",
       "\n",
       "    .dataframe thead th {\n",
       "        text-align: right;\n",
       "    }\n",
       "</style>\n",
       "<table border=\"1\" class=\"dataframe\">\n",
       "  <thead>\n",
       "    <tr style=\"text-align: right;\">\n",
       "      <th></th>\n",
       "      <th>battery_power</th>\n",
       "      <th>clock_speed</th>\n",
       "      <th>fc</th>\n",
       "      <th>int_memory</th>\n",
       "      <th>m_dep</th>\n",
       "      <th>mobile_wt</th>\n",
       "      <th>pc</th>\n",
       "      <th>px_height</th>\n",
       "      <th>px_width</th>\n",
       "      <th>ram</th>\n",
       "      <th>sc_h</th>\n",
       "      <th>sc_w</th>\n",
       "      <th>talk_time</th>\n",
       "      <th>sc_area</th>\n",
       "      <th>Battery_Efficiency</th>\n",
       "    </tr>\n",
       "  </thead>\n",
       "  <tbody>\n",
       "    <tr>\n",
       "      <th>count</th>\n",
       "      <td>1991.000000</td>\n",
       "      <td>1991.000000</td>\n",
       "      <td>1991.000000</td>\n",
       "      <td>1991.000000</td>\n",
       "      <td>1991.000000</td>\n",
       "      <td>1991.000000</td>\n",
       "      <td>1991.000000</td>\n",
       "      <td>1991.000000</td>\n",
       "      <td>1991.000000</td>\n",
       "      <td>1991.000000</td>\n",
       "      <td>1991.000000</td>\n",
       "      <td>1991.000000</td>\n",
       "      <td>1991.000000</td>\n",
       "      <td>1991.000000</td>\n",
       "      <td>1991.000000</td>\n",
       "    </tr>\n",
       "    <tr>\n",
       "      <th>mean</th>\n",
       "      <td>1238.270718</td>\n",
       "      <td>1.522451</td>\n",
       "      <td>4.307885</td>\n",
       "      <td>32.074335</td>\n",
       "      <td>0.502009</td>\n",
       "      <td>140.263184</td>\n",
       "      <td>9.909091</td>\n",
       "      <td>644.800603</td>\n",
       "      <td>1251.115520</td>\n",
       "      <td>2.073860</td>\n",
       "      <td>12.307885</td>\n",
       "      <td>5.774485</td>\n",
       "      <td>11.001507</td>\n",
       "      <td>80.381718</td>\n",
       "      <td>0.010210</td>\n",
       "    </tr>\n",
       "    <tr>\n",
       "      <th>std</th>\n",
       "      <td>439.641057</td>\n",
       "      <td>0.815499</td>\n",
       "      <td>4.339735</td>\n",
       "      <td>18.138177</td>\n",
       "      <td>0.288622</td>\n",
       "      <td>35.398777</td>\n",
       "      <td>6.061019</td>\n",
       "      <td>442.951035</td>\n",
       "      <td>431.924893</td>\n",
       "      <td>1.059620</td>\n",
       "      <td>4.213061</td>\n",
       "      <td>4.357385</td>\n",
       "      <td>5.464872</td>\n",
       "      <td>76.881341</td>\n",
       "      <td>0.006772</td>\n",
       "    </tr>\n",
       "    <tr>\n",
       "      <th>min</th>\n",
       "      <td>501.000000</td>\n",
       "      <td>0.500000</td>\n",
       "      <td>0.000000</td>\n",
       "      <td>2.000000</td>\n",
       "      <td>0.100000</td>\n",
       "      <td>80.000000</td>\n",
       "      <td>0.000000</td>\n",
       "      <td>0.000000</td>\n",
       "      <td>500.000000</td>\n",
       "      <td>0.250000</td>\n",
       "      <td>5.000000</td>\n",
       "      <td>0.000000</td>\n",
       "      <td>2.000000</td>\n",
       "      <td>0.000000</td>\n",
       "      <td>0.001011</td>\n",
       "    </tr>\n",
       "    <tr>\n",
       "      <th>25%</th>\n",
       "      <td>851.500000</td>\n",
       "      <td>0.700000</td>\n",
       "      <td>1.000000</td>\n",
       "      <td>16.000000</td>\n",
       "      <td>0.200000</td>\n",
       "      <td>109.000000</td>\n",
       "      <td>5.000000</td>\n",
       "      <td>282.500000</td>\n",
       "      <td>875.500000</td>\n",
       "      <td>1.178711</td>\n",
       "      <td>9.000000</td>\n",
       "      <td>2.000000</td>\n",
       "      <td>6.000000</td>\n",
       "      <td>19.000000</td>\n",
       "      <td>0.005353</td>\n",
       "    </tr>\n",
       "    <tr>\n",
       "      <th>50%</th>\n",
       "      <td>1225.000000</td>\n",
       "      <td>1.500000</td>\n",
       "      <td>3.000000</td>\n",
       "      <td>32.000000</td>\n",
       "      <td>0.500000</td>\n",
       "      <td>141.000000</td>\n",
       "      <td>10.000000</td>\n",
       "      <td>564.000000</td>\n",
       "      <td>1247.000000</td>\n",
       "      <td>2.096680</td>\n",
       "      <td>12.000000</td>\n",
       "      <td>5.000000</td>\n",
       "      <td>11.000000</td>\n",
       "      <td>55.000000</td>\n",
       "      <td>0.008953</td>\n",
       "    </tr>\n",
       "    <tr>\n",
       "      <th>75%</th>\n",
       "      <td>1615.500000</td>\n",
       "      <td>2.200000</td>\n",
       "      <td>7.000000</td>\n",
       "      <td>48.000000</td>\n",
       "      <td>0.800000</td>\n",
       "      <td>170.000000</td>\n",
       "      <td>15.000000</td>\n",
       "      <td>947.500000</td>\n",
       "      <td>1633.000000</td>\n",
       "      <td>2.993164</td>\n",
       "      <td>16.000000</td>\n",
       "      <td>9.000000</td>\n",
       "      <td>16.000000</td>\n",
       "      <td>123.000000</td>\n",
       "      <td>0.013201</td>\n",
       "    </tr>\n",
       "    <tr>\n",
       "      <th>max</th>\n",
       "      <td>1998.000000</td>\n",
       "      <td>3.000000</td>\n",
       "      <td>19.000000</td>\n",
       "      <td>64.000000</td>\n",
       "      <td>1.000000</td>\n",
       "      <td>200.000000</td>\n",
       "      <td>20.000000</td>\n",
       "      <td>1960.000000</td>\n",
       "      <td>1998.000000</td>\n",
       "      <td>3.904297</td>\n",
       "      <td>19.000000</td>\n",
       "      <td>18.000000</td>\n",
       "      <td>20.000000</td>\n",
       "      <td>342.000000</td>\n",
       "      <td>0.039841</td>\n",
       "    </tr>\n",
       "  </tbody>\n",
       "</table>\n",
       "</div>"
      ],
      "text/plain": [
       "       battery_power  clock_speed           fc   int_memory        m_dep  \\\n",
       "count    1991.000000  1991.000000  1991.000000  1991.000000  1991.000000   \n",
       "mean     1238.270718     1.522451     4.307885    32.074335     0.502009   \n",
       "std       439.641057     0.815499     4.339735    18.138177     0.288622   \n",
       "min       501.000000     0.500000     0.000000     2.000000     0.100000   \n",
       "25%       851.500000     0.700000     1.000000    16.000000     0.200000   \n",
       "50%      1225.000000     1.500000     3.000000    32.000000     0.500000   \n",
       "75%      1615.500000     2.200000     7.000000    48.000000     0.800000   \n",
       "max      1998.000000     3.000000    19.000000    64.000000     1.000000   \n",
       "\n",
       "         mobile_wt           pc    px_height     px_width          ram  \\\n",
       "count  1991.000000  1991.000000  1991.000000  1991.000000  1991.000000   \n",
       "mean    140.263184     9.909091   644.800603  1251.115520     2.073860   \n",
       "std      35.398777     6.061019   442.951035   431.924893     1.059620   \n",
       "min      80.000000     0.000000     0.000000   500.000000     0.250000   \n",
       "25%     109.000000     5.000000   282.500000   875.500000     1.178711   \n",
       "50%     141.000000    10.000000   564.000000  1247.000000     2.096680   \n",
       "75%     170.000000    15.000000   947.500000  1633.000000     2.993164   \n",
       "max     200.000000    20.000000  1960.000000  1998.000000     3.904297   \n",
       "\n",
       "              sc_h         sc_w    talk_time      sc_area  Battery_Efficiency  \n",
       "count  1991.000000  1991.000000  1991.000000  1991.000000         1991.000000  \n",
       "mean     12.307885     5.774485    11.001507    80.381718            0.010210  \n",
       "std       4.213061     4.357385     5.464872    76.881341            0.006772  \n",
       "min       5.000000     0.000000     2.000000     0.000000            0.001011  \n",
       "25%       9.000000     2.000000     6.000000    19.000000            0.005353  \n",
       "50%      12.000000     5.000000    11.000000    55.000000            0.008953  \n",
       "75%      16.000000     9.000000    16.000000   123.000000            0.013201  \n",
       "max      19.000000    18.000000    20.000000   342.000000            0.039841  "
      ]
     },
     "execution_count": 31,
     "metadata": {},
     "output_type": "execute_result"
    }
   ],
   "source": [
    "NumericalData.describe()"
   ]
  },
  {
   "cell_type": "code",
   "execution_count": 32,
   "metadata": {},
   "outputs": [
    {
     "name": "stdout",
     "output_type": "stream",
     "text": [
      "Original Data\n"
     ]
    },
    {
     "data": {
      "text/html": [
       "<div>\n",
       "<style scoped>\n",
       "    .dataframe tbody tr th:only-of-type {\n",
       "        vertical-align: middle;\n",
       "    }\n",
       "\n",
       "    .dataframe tbody tr th {\n",
       "        vertical-align: top;\n",
       "    }\n",
       "\n",
       "    .dataframe thead th {\n",
       "        text-align: right;\n",
       "    }\n",
       "</style>\n",
       "<table border=\"1\" class=\"dataframe\">\n",
       "  <thead>\n",
       "    <tr style=\"text-align: right;\">\n",
       "      <th></th>\n",
       "      <th>battery_power</th>\n",
       "      <th>clock_speed</th>\n",
       "      <th>fc</th>\n",
       "      <th>int_memory</th>\n",
       "      <th>m_dep</th>\n",
       "      <th>mobile_wt</th>\n",
       "      <th>pc</th>\n",
       "      <th>px_height</th>\n",
       "      <th>px_width</th>\n",
       "      <th>ram</th>\n",
       "      <th>sc_h</th>\n",
       "      <th>sc_w</th>\n",
       "      <th>talk_time</th>\n",
       "      <th>sc_area</th>\n",
       "      <th>Battery_Efficiency</th>\n",
       "    </tr>\n",
       "  </thead>\n",
       "  <tbody>\n",
       "    <tr>\n",
       "      <th>0</th>\n",
       "      <td>842</td>\n",
       "      <td>2.2</td>\n",
       "      <td>1.0</td>\n",
       "      <td>7.0</td>\n",
       "      <td>0.6</td>\n",
       "      <td>188.0</td>\n",
       "      <td>2.0</td>\n",
       "      <td>20.0</td>\n",
       "      <td>756.0</td>\n",
       "      <td>2.489258</td>\n",
       "      <td>9.0</td>\n",
       "      <td>7.0</td>\n",
       "      <td>19</td>\n",
       "      <td>63.0</td>\n",
       "      <td>0.022565</td>\n",
       "    </tr>\n",
       "    <tr>\n",
       "      <th>1</th>\n",
       "      <td>1021</td>\n",
       "      <td>0.5</td>\n",
       "      <td>0.0</td>\n",
       "      <td>53.0</td>\n",
       "      <td>0.7</td>\n",
       "      <td>136.0</td>\n",
       "      <td>6.0</td>\n",
       "      <td>905.0</td>\n",
       "      <td>1988.0</td>\n",
       "      <td>2.569336</td>\n",
       "      <td>17.0</td>\n",
       "      <td>3.0</td>\n",
       "      <td>7</td>\n",
       "      <td>51.0</td>\n",
       "      <td>0.006856</td>\n",
       "    </tr>\n",
       "  </tbody>\n",
       "</table>\n",
       "</div>"
      ],
      "text/plain": [
       "   battery_power  clock_speed   fc  int_memory  m_dep  mobile_wt   pc  \\\n",
       "0            842          2.2  1.0         7.0    0.6      188.0  2.0   \n",
       "1           1021          0.5  0.0        53.0    0.7      136.0  6.0   \n",
       "\n",
       "   px_height  px_width       ram  sc_h  sc_w  talk_time  sc_area  \\\n",
       "0       20.0     756.0  2.489258   9.0   7.0         19     63.0   \n",
       "1      905.0    1988.0  2.569336  17.0   3.0          7     51.0   \n",
       "\n",
       "   Battery_Efficiency  \n",
       "0            0.022565  \n",
       "1            0.006856  "
      ]
     },
     "execution_count": 32,
     "metadata": {},
     "output_type": "execute_result"
    }
   ],
   "source": [
    "print(\"Original Data\")\n",
    "NumericalData.head(2)"
   ]
  },
  {
   "cell_type": "code",
   "execution_count": 33,
   "metadata": {},
   "outputs": [],
   "source": [
    "# NumericalData = (NumericalData - NumericalData.min()) / (NumericalData. max() - NumericalData.min() )\n",
    "from sklearn.preprocessing import MinMaxScaler\n",
    "# Initialize the scaler\n",
    "scaler = MinMaxScaler()\n",
    "\n",
    "# Fit and transform the data\n",
    "NumericalData1 = scaler.fit_transform(NumericalData)\n",
    "\n",
    "# Create a DataFrame with the scaled data\n",
    "NumericalData2 = pd.DataFrame(NumericalData1, columns=NumericalData.columns)"
   ]
  },
  {
   "cell_type": "code",
   "execution_count": 34,
   "metadata": {},
   "outputs": [
    {
     "name": "stdout",
     "output_type": "stream",
     "text": [
      "📏 Numerical Features After Scaling\n",
      "\n"
     ]
    },
    {
     "data": {
      "text/html": [
       "<div>\n",
       "<style scoped>\n",
       "    .dataframe tbody tr th:only-of-type {\n",
       "        vertical-align: middle;\n",
       "    }\n",
       "\n",
       "    .dataframe tbody tr th {\n",
       "        vertical-align: top;\n",
       "    }\n",
       "\n",
       "    .dataframe thead th {\n",
       "        text-align: right;\n",
       "    }\n",
       "</style>\n",
       "<table border=\"1\" class=\"dataframe\">\n",
       "  <thead>\n",
       "    <tr style=\"text-align: right;\">\n",
       "      <th></th>\n",
       "      <th>battery_power</th>\n",
       "      <th>clock_speed</th>\n",
       "      <th>fc</th>\n",
       "      <th>int_memory</th>\n",
       "      <th>m_dep</th>\n",
       "      <th>mobile_wt</th>\n",
       "      <th>pc</th>\n",
       "      <th>px_height</th>\n",
       "      <th>px_width</th>\n",
       "      <th>ram</th>\n",
       "      <th>sc_h</th>\n",
       "      <th>sc_w</th>\n",
       "      <th>talk_time</th>\n",
       "      <th>sc_area</th>\n",
       "      <th>Battery_Efficiency</th>\n",
       "    </tr>\n",
       "  </thead>\n",
       "  <tbody>\n",
       "    <tr>\n",
       "      <th>0</th>\n",
       "      <td>0.227789</td>\n",
       "      <td>0.68</td>\n",
       "      <td>0.052632</td>\n",
       "      <td>0.080645</td>\n",
       "      <td>0.555556</td>\n",
       "      <td>0.900000</td>\n",
       "      <td>0.1</td>\n",
       "      <td>0.010204</td>\n",
       "      <td>0.170895</td>\n",
       "      <td>0.612774</td>\n",
       "      <td>0.285714</td>\n",
       "      <td>0.388889</td>\n",
       "      <td>0.944444</td>\n",
       "      <td>0.184211</td>\n",
       "      <td>0.555104</td>\n",
       "    </tr>\n",
       "    <tr>\n",
       "      <th>1</th>\n",
       "      <td>0.347361</td>\n",
       "      <td>0.00</td>\n",
       "      <td>0.000000</td>\n",
       "      <td>0.822581</td>\n",
       "      <td>0.666667</td>\n",
       "      <td>0.466667</td>\n",
       "      <td>0.3</td>\n",
       "      <td>0.461735</td>\n",
       "      <td>0.993324</td>\n",
       "      <td>0.634687</td>\n",
       "      <td>0.857143</td>\n",
       "      <td>0.166667</td>\n",
       "      <td>0.277778</td>\n",
       "      <td>0.149123</td>\n",
       "      <td>0.150538</td>\n",
       "    </tr>\n",
       "  </tbody>\n",
       "</table>\n",
       "</div>"
      ],
      "text/plain": [
       "   battery_power  clock_speed        fc  int_memory     m_dep  mobile_wt   pc  \\\n",
       "0       0.227789         0.68  0.052632    0.080645  0.555556   0.900000  0.1   \n",
       "1       0.347361         0.00  0.000000    0.822581  0.666667   0.466667  0.3   \n",
       "\n",
       "   px_height  px_width       ram      sc_h      sc_w  talk_time   sc_area  \\\n",
       "0   0.010204  0.170895  0.612774  0.285714  0.388889   0.944444  0.184211   \n",
       "1   0.461735  0.993324  0.634687  0.857143  0.166667   0.277778  0.149123   \n",
       "\n",
       "   Battery_Efficiency  \n",
       "0            0.555104  \n",
       "1            0.150538  "
      ]
     },
     "execution_count": 34,
     "metadata": {},
     "output_type": "execute_result"
    }
   ],
   "source": [
    "print(\"📏 Numerical Features After Scaling\\n\")\n",
    "NumericalData2.head(2)"
   ]
  },
  {
   "cell_type": "code",
   "execution_count": 35,
   "metadata": {},
   "outputs": [
    {
     "data": {
      "text/html": [
       "<div>\n",
       "<style scoped>\n",
       "    .dataframe tbody tr th:only-of-type {\n",
       "        vertical-align: middle;\n",
       "    }\n",
       "\n",
       "    .dataframe tbody tr th {\n",
       "        vertical-align: top;\n",
       "    }\n",
       "\n",
       "    .dataframe thead th {\n",
       "        text-align: right;\n",
       "    }\n",
       "</style>\n",
       "<table border=\"1\" class=\"dataframe\">\n",
       "  <thead>\n",
       "    <tr style=\"text-align: right;\">\n",
       "      <th></th>\n",
       "      <th>battery_power</th>\n",
       "      <th>clock_speed</th>\n",
       "      <th>fc</th>\n",
       "      <th>int_memory</th>\n",
       "      <th>m_dep</th>\n",
       "      <th>mobile_wt</th>\n",
       "      <th>pc</th>\n",
       "      <th>px_height</th>\n",
       "      <th>px_width</th>\n",
       "      <th>ram</th>\n",
       "      <th>sc_h</th>\n",
       "      <th>sc_w</th>\n",
       "      <th>talk_time</th>\n",
       "      <th>sc_area</th>\n",
       "      <th>Battery_Efficiency</th>\n",
       "    </tr>\n",
       "  </thead>\n",
       "  <tbody>\n",
       "    <tr>\n",
       "      <th>count</th>\n",
       "      <td>1991.000000</td>\n",
       "      <td>1991.00000</td>\n",
       "      <td>1991.000000</td>\n",
       "      <td>1991.000000</td>\n",
       "      <td>1991.000000</td>\n",
       "      <td>1991.000000</td>\n",
       "      <td>1991.000000</td>\n",
       "      <td>1991.000000</td>\n",
       "      <td>1991.000000</td>\n",
       "      <td>1991.000000</td>\n",
       "      <td>1991.000000</td>\n",
       "      <td>1991.000000</td>\n",
       "      <td>1991.000000</td>\n",
       "      <td>1991.000000</td>\n",
       "      <td>1991.000000</td>\n",
       "    </tr>\n",
       "    <tr>\n",
       "      <th>mean</th>\n",
       "      <td>0.492499</td>\n",
       "      <td>0.40898</td>\n",
       "      <td>0.226731</td>\n",
       "      <td>0.485070</td>\n",
       "      <td>0.446677</td>\n",
       "      <td>0.502193</td>\n",
       "      <td>0.495455</td>\n",
       "      <td>0.328980</td>\n",
       "      <td>0.501412</td>\n",
       "      <td>0.499100</td>\n",
       "      <td>0.521992</td>\n",
       "      <td>0.320805</td>\n",
       "      <td>0.500084</td>\n",
       "      <td>0.235034</td>\n",
       "      <td>0.236912</td>\n",
       "    </tr>\n",
       "    <tr>\n",
       "      <th>std</th>\n",
       "      <td>0.293681</td>\n",
       "      <td>0.32620</td>\n",
       "      <td>0.228407</td>\n",
       "      <td>0.292551</td>\n",
       "      <td>0.320691</td>\n",
       "      <td>0.294990</td>\n",
       "      <td>0.303051</td>\n",
       "      <td>0.225995</td>\n",
       "      <td>0.288334</td>\n",
       "      <td>0.289966</td>\n",
       "      <td>0.300933</td>\n",
       "      <td>0.242077</td>\n",
       "      <td>0.303604</td>\n",
       "      <td>0.224799</td>\n",
       "      <td>0.174413</td>\n",
       "    </tr>\n",
       "    <tr>\n",
       "      <th>min</th>\n",
       "      <td>0.000000</td>\n",
       "      <td>0.00000</td>\n",
       "      <td>0.000000</td>\n",
       "      <td>0.000000</td>\n",
       "      <td>0.000000</td>\n",
       "      <td>0.000000</td>\n",
       "      <td>0.000000</td>\n",
       "      <td>0.000000</td>\n",
       "      <td>0.000000</td>\n",
       "      <td>0.000000</td>\n",
       "      <td>0.000000</td>\n",
       "      <td>0.000000</td>\n",
       "      <td>0.000000</td>\n",
       "      <td>0.000000</td>\n",
       "      <td>0.000000</td>\n",
       "    </tr>\n",
       "    <tr>\n",
       "      <th>25%</th>\n",
       "      <td>0.234135</td>\n",
       "      <td>0.08000</td>\n",
       "      <td>0.052632</td>\n",
       "      <td>0.225806</td>\n",
       "      <td>0.111111</td>\n",
       "      <td>0.241667</td>\n",
       "      <td>0.250000</td>\n",
       "      <td>0.144133</td>\n",
       "      <td>0.250668</td>\n",
       "      <td>0.254142</td>\n",
       "      <td>0.285714</td>\n",
       "      <td>0.111111</td>\n",
       "      <td>0.222222</td>\n",
       "      <td>0.055556</td>\n",
       "      <td>0.111840</td>\n",
       "    </tr>\n",
       "    <tr>\n",
       "      <th>50%</th>\n",
       "      <td>0.483634</td>\n",
       "      <td>0.40000</td>\n",
       "      <td>0.157895</td>\n",
       "      <td>0.483871</td>\n",
       "      <td>0.444444</td>\n",
       "      <td>0.508333</td>\n",
       "      <td>0.500000</td>\n",
       "      <td>0.287755</td>\n",
       "      <td>0.498665</td>\n",
       "      <td>0.505345</td>\n",
       "      <td>0.500000</td>\n",
       "      <td>0.277778</td>\n",
       "      <td>0.500000</td>\n",
       "      <td>0.160819</td>\n",
       "      <td>0.204547</td>\n",
       "    </tr>\n",
       "    <tr>\n",
       "      <th>75%</th>\n",
       "      <td>0.744489</td>\n",
       "      <td>0.68000</td>\n",
       "      <td>0.368421</td>\n",
       "      <td>0.741935</td>\n",
       "      <td>0.777778</td>\n",
       "      <td>0.750000</td>\n",
       "      <td>0.750000</td>\n",
       "      <td>0.483418</td>\n",
       "      <td>0.756342</td>\n",
       "      <td>0.750668</td>\n",
       "      <td>0.785714</td>\n",
       "      <td>0.500000</td>\n",
       "      <td>0.777778</td>\n",
       "      <td>0.359649</td>\n",
       "      <td>0.313951</td>\n",
       "    </tr>\n",
       "    <tr>\n",
       "      <th>max</th>\n",
       "      <td>1.000000</td>\n",
       "      <td>1.00000</td>\n",
       "      <td>1.000000</td>\n",
       "      <td>1.000000</td>\n",
       "      <td>1.000000</td>\n",
       "      <td>1.000000</td>\n",
       "      <td>1.000000</td>\n",
       "      <td>1.000000</td>\n",
       "      <td>1.000000</td>\n",
       "      <td>1.000000</td>\n",
       "      <td>1.000000</td>\n",
       "      <td>1.000000</td>\n",
       "      <td>1.000000</td>\n",
       "      <td>1.000000</td>\n",
       "      <td>1.000000</td>\n",
       "    </tr>\n",
       "  </tbody>\n",
       "</table>\n",
       "</div>"
      ],
      "text/plain": [
       "       battery_power  clock_speed           fc   int_memory        m_dep  \\\n",
       "count    1991.000000   1991.00000  1991.000000  1991.000000  1991.000000   \n",
       "mean        0.492499      0.40898     0.226731     0.485070     0.446677   \n",
       "std         0.293681      0.32620     0.228407     0.292551     0.320691   \n",
       "min         0.000000      0.00000     0.000000     0.000000     0.000000   \n",
       "25%         0.234135      0.08000     0.052632     0.225806     0.111111   \n",
       "50%         0.483634      0.40000     0.157895     0.483871     0.444444   \n",
       "75%         0.744489      0.68000     0.368421     0.741935     0.777778   \n",
       "max         1.000000      1.00000     1.000000     1.000000     1.000000   \n",
       "\n",
       "         mobile_wt           pc    px_height     px_width          ram  \\\n",
       "count  1991.000000  1991.000000  1991.000000  1991.000000  1991.000000   \n",
       "mean      0.502193     0.495455     0.328980     0.501412     0.499100   \n",
       "std       0.294990     0.303051     0.225995     0.288334     0.289966   \n",
       "min       0.000000     0.000000     0.000000     0.000000     0.000000   \n",
       "25%       0.241667     0.250000     0.144133     0.250668     0.254142   \n",
       "50%       0.508333     0.500000     0.287755     0.498665     0.505345   \n",
       "75%       0.750000     0.750000     0.483418     0.756342     0.750668   \n",
       "max       1.000000     1.000000     1.000000     1.000000     1.000000   \n",
       "\n",
       "              sc_h         sc_w    talk_time      sc_area  Battery_Efficiency  \n",
       "count  1991.000000  1991.000000  1991.000000  1991.000000         1991.000000  \n",
       "mean      0.521992     0.320805     0.500084     0.235034            0.236912  \n",
       "std       0.300933     0.242077     0.303604     0.224799            0.174413  \n",
       "min       0.000000     0.000000     0.000000     0.000000            0.000000  \n",
       "25%       0.285714     0.111111     0.222222     0.055556            0.111840  \n",
       "50%       0.500000     0.277778     0.500000     0.160819            0.204547  \n",
       "75%       0.785714     0.500000     0.777778     0.359649            0.313951  \n",
       "max       1.000000     1.000000     1.000000     1.000000            1.000000  "
      ]
     },
     "execution_count": 35,
     "metadata": {},
     "output_type": "execute_result"
    }
   ],
   "source": [
    "NumericalData2.describe()"
   ]
  },
  {
   "cell_type": "markdown",
   "metadata": {},
   "source": [
    "**Save Scaler For Further Usages**"
   ]
  },
  {
   "cell_type": "code",
   "execution_count": 36,
   "metadata": {},
   "outputs": [
    {
     "data": {
      "text/plain": [
       "['./Models/scaler.pkl']"
      ]
     },
     "execution_count": 36,
     "metadata": {},
     "output_type": "execute_result"
    }
   ],
   "source": [
    "import joblib\n",
    "joblib.dump(scaler, './Models/scaler.pkl')"
   ]
  },
  {
   "cell_type": "markdown",
   "metadata": {
    "jp-MarkdownHeadingCollapsed": true
   },
   "source": [
    "### 2️⃣ **Encoding Categorical Features**\n",
    "\n",
    "Categorical features need to be encoded into a format that machine learning models can understand. We'll use one-hot encoding to convert each categorical variable into a new binary column for each unique value.\n",
    "\n",
    "\n",
    "- **One-Hot Encoding**: This encoding technique transforms categorical variables into a series of binary columns, one for each category. It is particularly useful for models that cannot handle categorical data directly.\n",
    "\n",
    "---"
   ]
  },
  {
   "cell_type": "code",
   "execution_count": 37,
   "metadata": {},
   "outputs": [
    {
     "name": "stdout",
     "output_type": "stream",
     "text": [
      "<class 'pandas.core.frame.DataFrame'>\n",
      "Index: 1991 entries, 0 to 1999\n",
      "Data columns (total 8 columns):\n",
      " #   Column        Non-Null Count  Dtype\n",
      "---  ------        --------------  -----\n",
      " 0   blue          1991 non-null   int64\n",
      " 1   dual_sim      1991 non-null   int64\n",
      " 2   four_g        1991 non-null   int64\n",
      " 3   n_cores       1991 non-null   int64\n",
      " 4   three_g       1991 non-null   int64\n",
      " 5   touch_screen  1991 non-null   int64\n",
      " 6   wifi          1991 non-null   int64\n",
      " 7   New_1         1991 non-null   int64\n",
      "dtypes: int64(8)\n",
      "memory usage: 140.0 KB\n"
     ]
    }
   ],
   "source": [
    "CategoricalData.info()"
   ]
  },
  {
   "cell_type": "code",
   "execution_count": 38,
   "metadata": {},
   "outputs": [
    {
     "data": {
      "text/html": [
       "<div>\n",
       "<style scoped>\n",
       "    .dataframe tbody tr th:only-of-type {\n",
       "        vertical-align: middle;\n",
       "    }\n",
       "\n",
       "    .dataframe tbody tr th {\n",
       "        vertical-align: top;\n",
       "    }\n",
       "\n",
       "    .dataframe thead th {\n",
       "        text-align: right;\n",
       "    }\n",
       "</style>\n",
       "<table border=\"1\" class=\"dataframe\">\n",
       "  <thead>\n",
       "    <tr style=\"text-align: right;\">\n",
       "      <th></th>\n",
       "      <th>blue</th>\n",
       "      <th>dual_sim</th>\n",
       "      <th>four_g</th>\n",
       "      <th>n_cores</th>\n",
       "      <th>three_g</th>\n",
       "      <th>touch_screen</th>\n",
       "      <th>wifi</th>\n",
       "      <th>New_1</th>\n",
       "    </tr>\n",
       "  </thead>\n",
       "  <tbody>\n",
       "    <tr>\n",
       "      <th>0</th>\n",
       "      <td>0</td>\n",
       "      <td>0</td>\n",
       "      <td>0</td>\n",
       "      <td>2</td>\n",
       "      <td>0</td>\n",
       "      <td>0</td>\n",
       "      <td>1</td>\n",
       "      <td>0</td>\n",
       "    </tr>\n",
       "    <tr>\n",
       "      <th>1</th>\n",
       "      <td>1</td>\n",
       "      <td>1</td>\n",
       "      <td>1</td>\n",
       "      <td>3</td>\n",
       "      <td>1</td>\n",
       "      <td>1</td>\n",
       "      <td>0</td>\n",
       "      <td>1</td>\n",
       "    </tr>\n",
       "  </tbody>\n",
       "</table>\n",
       "</div>"
      ],
      "text/plain": [
       "   blue  dual_sim  four_g  n_cores  three_g  touch_screen  wifi  New_1\n",
       "0     0         0       0        2        0             0     1      0\n",
       "1     1         1       1        3        1             1     0      1"
      ]
     },
     "execution_count": 38,
     "metadata": {},
     "output_type": "execute_result"
    }
   ],
   "source": [
    "CategoricalData.head(2)"
   ]
  },
  {
   "cell_type": "code",
   "execution_count": 39,
   "metadata": {},
   "outputs": [
    {
     "name": "stdout",
     "output_type": "stream",
     "text": [
      "\n",
      "🏷️ One-Hot Encoded DataFrame:\n",
      "\n",
      "   blue_0  blue_1  dual_sim_0  dual_sim_1  four_g_0  four_g_1  n_cores_1  \\\n",
      "0       1       0           1           0         1         0          0   \n",
      "1       0       1           0           1         0         1          0   \n",
      "\n",
      "   n_cores_2  n_cores_3  n_cores_4  n_cores_5  n_cores_6  n_cores_7  \\\n",
      "0          1          0          0          0          0          0   \n",
      "1          0          1          0          0          0          0   \n",
      "\n",
      "   n_cores_8  three_g_0  three_g_1  touch_screen_0  touch_screen_1  wifi_0  \\\n",
      "0          0          1          0               1               0       0   \n",
      "1          0          0          1               0               1       1   \n",
      "\n",
      "   wifi_1  New_1_0  New_1_1  \n",
      "0       1        1        0  \n",
      "1       0        0        1  \n"
     ]
    }
   ],
   "source": [
    "# One-Hot Encoding Categorical Features\n",
    "ECategoricalData = pd.get_dummies(CategoricalData, columns=CategoricalData.columns).astype(int)\n",
    "\n",
    "print(\"\\n🏷️ One-Hot Encoded DataFrame:\\n\")\n",
    "print(ECategoricalData.head(2))"
   ]
  },
  {
   "cell_type": "code",
   "execution_count": 40,
   "metadata": {},
   "outputs": [
    {
     "name": "stdout",
     "output_type": "stream",
     "text": [
      "<class 'pandas.core.frame.DataFrame'>\n",
      "Index: 1991 entries, 0 to 1999\n",
      "Data columns (total 22 columns):\n",
      " #   Column          Non-Null Count  Dtype\n",
      "---  ------          --------------  -----\n",
      " 0   blue_0          1991 non-null   int64\n",
      " 1   blue_1          1991 non-null   int64\n",
      " 2   dual_sim_0      1991 non-null   int64\n",
      " 3   dual_sim_1      1991 non-null   int64\n",
      " 4   four_g_0        1991 non-null   int64\n",
      " 5   four_g_1        1991 non-null   int64\n",
      " 6   n_cores_1       1991 non-null   int64\n",
      " 7   n_cores_2       1991 non-null   int64\n",
      " 8   n_cores_3       1991 non-null   int64\n",
      " 9   n_cores_4       1991 non-null   int64\n",
      " 10  n_cores_5       1991 non-null   int64\n",
      " 11  n_cores_6       1991 non-null   int64\n",
      " 12  n_cores_7       1991 non-null   int64\n",
      " 13  n_cores_8       1991 non-null   int64\n",
      " 14  three_g_0       1991 non-null   int64\n",
      " 15  three_g_1       1991 non-null   int64\n",
      " 16  touch_screen_0  1991 non-null   int64\n",
      " 17  touch_screen_1  1991 non-null   int64\n",
      " 18  wifi_0          1991 non-null   int64\n",
      " 19  wifi_1          1991 non-null   int64\n",
      " 20  New_1_0         1991 non-null   int64\n",
      " 21  New_1_1         1991 non-null   int64\n",
      "dtypes: int64(22)\n",
      "memory usage: 357.8 KB\n"
     ]
    }
   ],
   "source": [
    "ECategoricalData.info()"
   ]
  },
  {
   "cell_type": "markdown",
   "metadata": {},
   "source": [
    "**Save the column names used for one-hot encoding For Further Usages Also**"
   ]
  },
  {
   "cell_type": "code",
   "execution_count": 41,
   "metadata": {},
   "outputs": [
    {
     "data": {
      "text/plain": [
       "['Models/one_hot_encoder_columns.joblib']"
      ]
     },
     "execution_count": 41,
     "metadata": {},
     "output_type": "execute_result"
    }
   ],
   "source": [
    "joblib.dump(ECategoricalData.columns.tolist(), 'Models/one_hot_encoder_columns.joblib')"
   ]
  },
  {
   "cell_type": "markdown",
   "metadata": {},
   "source": [
    "### **🔗 Data Transformation Complete**\n",
    "\n",
    "With the numerical features scaled and the categorical features encoded, our data is now fully prepared for input into machine learning models. These transformations help ensure that the models can effectively learn from the data without being skewed by varying feature scales or non-numeric data."
   ]
  },
  {
   "cell_type": "markdown",
   "metadata": {},
   "source": [
    "## Finalizing the Data Preparation and Model Training\n",
    "\n",
    "In this section, we'll concatenate the transformed features and then proceed to model training and evaluation. We'll use logistic regression models with different configurations to assess their performance."
   ]
  },
  {
   "cell_type": "markdown",
   "metadata": {
    "jp-MarkdownHeadingCollapsed": true
   },
   "source": [
    "### **1️⃣ Concatenating the Data**\n",
    "\n",
    "We first combine the scaled numerical features and one-hot encoded categorical features into a single DataFrame, which will serve as the input to our models.\n",
    "\n",
    "\n",
    "- **Concatenation**: This step combines both numerical and categorical features into one DataFrame, preparing it for model training.\n"
   ]
  },
  {
   "cell_type": "code",
   "execution_count": 42,
   "metadata": {},
   "outputs": [],
   "source": [
    "# Concatenating the transformed features\n",
    "Features = pd.concat([NumericalData, ECategoricalData], axis=1)"
   ]
  },
  {
   "cell_type": "code",
   "execution_count": 43,
   "metadata": {},
   "outputs": [],
   "source": [
    "Target = Target.values.flatten()  # Flatten the target array"
   ]
  },
  {
   "cell_type": "code",
   "execution_count": 44,
   "metadata": {},
   "outputs": [
    {
     "data": {
      "text/html": [
       "<div>\n",
       "<style scoped>\n",
       "    .dataframe tbody tr th:only-of-type {\n",
       "        vertical-align: middle;\n",
       "    }\n",
       "\n",
       "    .dataframe tbody tr th {\n",
       "        vertical-align: top;\n",
       "    }\n",
       "\n",
       "    .dataframe thead th {\n",
       "        text-align: right;\n",
       "    }\n",
       "</style>\n",
       "<table border=\"1\" class=\"dataframe\">\n",
       "  <thead>\n",
       "    <tr style=\"text-align: right;\">\n",
       "      <th></th>\n",
       "      <th>battery_power</th>\n",
       "      <th>clock_speed</th>\n",
       "      <th>fc</th>\n",
       "      <th>int_memory</th>\n",
       "      <th>m_dep</th>\n",
       "      <th>mobile_wt</th>\n",
       "      <th>pc</th>\n",
       "      <th>px_height</th>\n",
       "      <th>px_width</th>\n",
       "      <th>ram</th>\n",
       "      <th>sc_h</th>\n",
       "      <th>sc_w</th>\n",
       "      <th>talk_time</th>\n",
       "      <th>sc_area</th>\n",
       "      <th>Battery_Efficiency</th>\n",
       "      <th>blue_0</th>\n",
       "      <th>blue_1</th>\n",
       "      <th>dual_sim_0</th>\n",
       "      <th>dual_sim_1</th>\n",
       "      <th>four_g_0</th>\n",
       "      <th>four_g_1</th>\n",
       "      <th>n_cores_1</th>\n",
       "      <th>n_cores_2</th>\n",
       "      <th>n_cores_3</th>\n",
       "      <th>n_cores_4</th>\n",
       "      <th>n_cores_5</th>\n",
       "      <th>n_cores_6</th>\n",
       "      <th>n_cores_7</th>\n",
       "      <th>n_cores_8</th>\n",
       "      <th>three_g_0</th>\n",
       "      <th>three_g_1</th>\n",
       "      <th>touch_screen_0</th>\n",
       "      <th>touch_screen_1</th>\n",
       "      <th>wifi_0</th>\n",
       "      <th>wifi_1</th>\n",
       "      <th>New_1_0</th>\n",
       "      <th>New_1_1</th>\n",
       "    </tr>\n",
       "  </thead>\n",
       "  <tbody>\n",
       "    <tr>\n",
       "      <th>0</th>\n",
       "      <td>842</td>\n",
       "      <td>2.2</td>\n",
       "      <td>1.0</td>\n",
       "      <td>7.0</td>\n",
       "      <td>0.6</td>\n",
       "      <td>188.0</td>\n",
       "      <td>2.0</td>\n",
       "      <td>20.0</td>\n",
       "      <td>756.0</td>\n",
       "      <td>2.489258</td>\n",
       "      <td>9.0</td>\n",
       "      <td>7.0</td>\n",
       "      <td>19</td>\n",
       "      <td>63.0</td>\n",
       "      <td>0.022565</td>\n",
       "      <td>1</td>\n",
       "      <td>0</td>\n",
       "      <td>1</td>\n",
       "      <td>0</td>\n",
       "      <td>1</td>\n",
       "      <td>0</td>\n",
       "      <td>0</td>\n",
       "      <td>1</td>\n",
       "      <td>0</td>\n",
       "      <td>0</td>\n",
       "      <td>0</td>\n",
       "      <td>0</td>\n",
       "      <td>0</td>\n",
       "      <td>0</td>\n",
       "      <td>1</td>\n",
       "      <td>0</td>\n",
       "      <td>1</td>\n",
       "      <td>0</td>\n",
       "      <td>0</td>\n",
       "      <td>1</td>\n",
       "      <td>1</td>\n",
       "      <td>0</td>\n",
       "    </tr>\n",
       "    <tr>\n",
       "      <th>1</th>\n",
       "      <td>1021</td>\n",
       "      <td>0.5</td>\n",
       "      <td>0.0</td>\n",
       "      <td>53.0</td>\n",
       "      <td>0.7</td>\n",
       "      <td>136.0</td>\n",
       "      <td>6.0</td>\n",
       "      <td>905.0</td>\n",
       "      <td>1988.0</td>\n",
       "      <td>2.569336</td>\n",
       "      <td>17.0</td>\n",
       "      <td>3.0</td>\n",
       "      <td>7</td>\n",
       "      <td>51.0</td>\n",
       "      <td>0.006856</td>\n",
       "      <td>0</td>\n",
       "      <td>1</td>\n",
       "      <td>0</td>\n",
       "      <td>1</td>\n",
       "      <td>0</td>\n",
       "      <td>1</td>\n",
       "      <td>0</td>\n",
       "      <td>0</td>\n",
       "      <td>1</td>\n",
       "      <td>0</td>\n",
       "      <td>0</td>\n",
       "      <td>0</td>\n",
       "      <td>0</td>\n",
       "      <td>0</td>\n",
       "      <td>0</td>\n",
       "      <td>1</td>\n",
       "      <td>0</td>\n",
       "      <td>1</td>\n",
       "      <td>1</td>\n",
       "      <td>0</td>\n",
       "      <td>0</td>\n",
       "      <td>1</td>\n",
       "    </tr>\n",
       "    <tr>\n",
       "      <th>2</th>\n",
       "      <td>563</td>\n",
       "      <td>0.5</td>\n",
       "      <td>2.0</td>\n",
       "      <td>41.0</td>\n",
       "      <td>0.9</td>\n",
       "      <td>145.0</td>\n",
       "      <td>6.0</td>\n",
       "      <td>1263.0</td>\n",
       "      <td>1716.0</td>\n",
       "      <td>2.541992</td>\n",
       "      <td>11.0</td>\n",
       "      <td>2.0</td>\n",
       "      <td>9</td>\n",
       "      <td>22.0</td>\n",
       "      <td>0.015986</td>\n",
       "      <td>0</td>\n",
       "      <td>1</td>\n",
       "      <td>0</td>\n",
       "      <td>1</td>\n",
       "      <td>0</td>\n",
       "      <td>1</td>\n",
       "      <td>0</td>\n",
       "      <td>0</td>\n",
       "      <td>0</td>\n",
       "      <td>0</td>\n",
       "      <td>1</td>\n",
       "      <td>0</td>\n",
       "      <td>0</td>\n",
       "      <td>0</td>\n",
       "      <td>0</td>\n",
       "      <td>1</td>\n",
       "      <td>0</td>\n",
       "      <td>1</td>\n",
       "      <td>1</td>\n",
       "      <td>0</td>\n",
       "      <td>0</td>\n",
       "      <td>1</td>\n",
       "    </tr>\n",
       "    <tr>\n",
       "      <th>3</th>\n",
       "      <td>615</td>\n",
       "      <td>2.5</td>\n",
       "      <td>0.0</td>\n",
       "      <td>10.0</td>\n",
       "      <td>0.8</td>\n",
       "      <td>131.0</td>\n",
       "      <td>9.0</td>\n",
       "      <td>1216.0</td>\n",
       "      <td>1786.0</td>\n",
       "      <td>2.704102</td>\n",
       "      <td>16.0</td>\n",
       "      <td>8.0</td>\n",
       "      <td>11</td>\n",
       "      <td>128.0</td>\n",
       "      <td>0.017886</td>\n",
       "      <td>0</td>\n",
       "      <td>1</td>\n",
       "      <td>1</td>\n",
       "      <td>0</td>\n",
       "      <td>1</td>\n",
       "      <td>0</td>\n",
       "      <td>0</td>\n",
       "      <td>0</td>\n",
       "      <td>0</td>\n",
       "      <td>0</td>\n",
       "      <td>0</td>\n",
       "      <td>1</td>\n",
       "      <td>0</td>\n",
       "      <td>0</td>\n",
       "      <td>0</td>\n",
       "      <td>1</td>\n",
       "      <td>1</td>\n",
       "      <td>0</td>\n",
       "      <td>1</td>\n",
       "      <td>0</td>\n",
       "      <td>1</td>\n",
       "      <td>0</td>\n",
       "    </tr>\n",
       "    <tr>\n",
       "      <th>4</th>\n",
       "      <td>1821</td>\n",
       "      <td>1.2</td>\n",
       "      <td>13.0</td>\n",
       "      <td>44.0</td>\n",
       "      <td>0.6</td>\n",
       "      <td>141.0</td>\n",
       "      <td>14.0</td>\n",
       "      <td>1208.0</td>\n",
       "      <td>1212.0</td>\n",
       "      <td>1.377930</td>\n",
       "      <td>8.0</td>\n",
       "      <td>2.0</td>\n",
       "      <td>15</td>\n",
       "      <td>16.0</td>\n",
       "      <td>0.008237</td>\n",
       "      <td>0</td>\n",
       "      <td>1</td>\n",
       "      <td>1</td>\n",
       "      <td>0</td>\n",
       "      <td>0</td>\n",
       "      <td>1</td>\n",
       "      <td>0</td>\n",
       "      <td>1</td>\n",
       "      <td>0</td>\n",
       "      <td>0</td>\n",
       "      <td>0</td>\n",
       "      <td>0</td>\n",
       "      <td>0</td>\n",
       "      <td>0</td>\n",
       "      <td>0</td>\n",
       "      <td>1</td>\n",
       "      <td>0</td>\n",
       "      <td>1</td>\n",
       "      <td>1</td>\n",
       "      <td>0</td>\n",
       "      <td>0</td>\n",
       "      <td>1</td>\n",
       "    </tr>\n",
       "  </tbody>\n",
       "</table>\n",
       "</div>"
      ],
      "text/plain": [
       "   battery_power  clock_speed    fc  int_memory  m_dep  mobile_wt    pc  \\\n",
       "0            842          2.2   1.0         7.0    0.6      188.0   2.0   \n",
       "1           1021          0.5   0.0        53.0    0.7      136.0   6.0   \n",
       "2            563          0.5   2.0        41.0    0.9      145.0   6.0   \n",
       "3            615          2.5   0.0        10.0    0.8      131.0   9.0   \n",
       "4           1821          1.2  13.0        44.0    0.6      141.0  14.0   \n",
       "\n",
       "   px_height  px_width       ram  sc_h  sc_w  talk_time  sc_area  \\\n",
       "0       20.0     756.0  2.489258   9.0   7.0         19     63.0   \n",
       "1      905.0    1988.0  2.569336  17.0   3.0          7     51.0   \n",
       "2     1263.0    1716.0  2.541992  11.0   2.0          9     22.0   \n",
       "3     1216.0    1786.0  2.704102  16.0   8.0         11    128.0   \n",
       "4     1208.0    1212.0  1.377930   8.0   2.0         15     16.0   \n",
       "\n",
       "   Battery_Efficiency  blue_0  blue_1  dual_sim_0  dual_sim_1  four_g_0  \\\n",
       "0            0.022565       1       0           1           0         1   \n",
       "1            0.006856       0       1           0           1         0   \n",
       "2            0.015986       0       1           0           1         0   \n",
       "3            0.017886       0       1           1           0         1   \n",
       "4            0.008237       0       1           1           0         0   \n",
       "\n",
       "   four_g_1  n_cores_1  n_cores_2  n_cores_3  n_cores_4  n_cores_5  n_cores_6  \\\n",
       "0         0          0          1          0          0          0          0   \n",
       "1         1          0          0          1          0          0          0   \n",
       "2         1          0          0          0          0          1          0   \n",
       "3         0          0          0          0          0          0          1   \n",
       "4         1          0          1          0          0          0          0   \n",
       "\n",
       "   n_cores_7  n_cores_8  three_g_0  three_g_1  touch_screen_0  touch_screen_1  \\\n",
       "0          0          0          1          0               1               0   \n",
       "1          0          0          0          1               0               1   \n",
       "2          0          0          0          1               0               1   \n",
       "3          0          0          0          1               1               0   \n",
       "4          0          0          0          1               0               1   \n",
       "\n",
       "   wifi_0  wifi_1  New_1_0  New_1_1  \n",
       "0       0       1        1        0  \n",
       "1       1       0        0        1  \n",
       "2       1       0        0        1  \n",
       "3       1       0        1        0  \n",
       "4       1       0        0        1  "
      ]
     },
     "execution_count": 44,
     "metadata": {},
     "output_type": "execute_result"
    }
   ],
   "source": [
    "Features.head()"
   ]
  },
  {
   "cell_type": "code",
   "execution_count": 45,
   "metadata": {},
   "outputs": [
    {
     "name": "stdout",
     "output_type": "stream",
     "text": [
      "<class 'pandas.core.frame.DataFrame'>\n",
      "Index: 1991 entries, 0 to 1999\n",
      "Data columns (total 37 columns):\n",
      " #   Column              Non-Null Count  Dtype  \n",
      "---  ------              --------------  -----  \n",
      " 0   battery_power       1991 non-null   int64  \n",
      " 1   clock_speed         1991 non-null   float64\n",
      " 2   fc                  1991 non-null   float64\n",
      " 3   int_memory          1991 non-null   float64\n",
      " 4   m_dep               1991 non-null   float64\n",
      " 5   mobile_wt           1991 non-null   float64\n",
      " 6   pc                  1991 non-null   float64\n",
      " 7   px_height           1991 non-null   float64\n",
      " 8   px_width            1991 non-null   float64\n",
      " 9   ram                 1991 non-null   float64\n",
      " 10  sc_h                1991 non-null   float64\n",
      " 11  sc_w                1991 non-null   float64\n",
      " 12  talk_time           1991 non-null   int64  \n",
      " 13  sc_area             1991 non-null   float64\n",
      " 14  Battery_Efficiency  1991 non-null   float64\n",
      " 15  blue_0              1991 non-null   int64  \n",
      " 16  blue_1              1991 non-null   int64  \n",
      " 17  dual_sim_0          1991 non-null   int64  \n",
      " 18  dual_sim_1          1991 non-null   int64  \n",
      " 19  four_g_0            1991 non-null   int64  \n",
      " 20  four_g_1            1991 non-null   int64  \n",
      " 21  n_cores_1           1991 non-null   int64  \n",
      " 22  n_cores_2           1991 non-null   int64  \n",
      " 23  n_cores_3           1991 non-null   int64  \n",
      " 24  n_cores_4           1991 non-null   int64  \n",
      " 25  n_cores_5           1991 non-null   int64  \n",
      " 26  n_cores_6           1991 non-null   int64  \n",
      " 27  n_cores_7           1991 non-null   int64  \n",
      " 28  n_cores_8           1991 non-null   int64  \n",
      " 29  three_g_0           1991 non-null   int64  \n",
      " 30  three_g_1           1991 non-null   int64  \n",
      " 31  touch_screen_0      1991 non-null   int64  \n",
      " 32  touch_screen_1      1991 non-null   int64  \n",
      " 33  wifi_0              1991 non-null   int64  \n",
      " 34  wifi_1              1991 non-null   int64  \n",
      " 35  New_1_0             1991 non-null   int64  \n",
      " 36  New_1_1             1991 non-null   int64  \n",
      "dtypes: float64(13), int64(24)\n",
      "memory usage: 591.1 KB\n"
     ]
    }
   ],
   "source": [
    "Features.info()"
   ]
  },
  {
   "cell_type": "markdown",
   "metadata": {
    "jp-MarkdownHeadingCollapsed": true
   },
   "source": [
    "### **2️⃣ Splitting the Data**\n",
    "\n",
    "Next, we split the data into training and testing sets to evaluate model performance.\n",
    "\n",
    "\n",
    "- **Train-Test Split**: Dividing the data into 80% training & validatin  and 20% testing ensures that we can validate the model's performance on unseen data."
   ]
  },
  {
   "cell_type": "code",
   "execution_count": 46,
   "metadata": {},
   "outputs": [],
   "source": [
    "from sklearn.model_selection import train_test_split\n",
    "\n",
    "# Split the data into training and test sets\n",
    "X_train, X_test, y_train, y_test = train_test_split(\n",
    "    Features,  # Assuming 'features' is your feature matrix\n",
    "    Target,    # Assuming 'target' is your target variable\n",
    "    test_size=0.2,  # 20% for testing\n",
    "    random_state=42\n",
    ")\n",
    "\n",
    "# Further split the training set into training and validation sets\n",
    "X_train, X_val, y_train, y_val = train_test_split(\n",
    "    X_train,\n",
    "    y_train,\n",
    "    test_size=0.2,  # 20% for validation\n",
    "    random_state=42\n",
    ")\n"
   ]
  },
  {
   "cell_type": "markdown",
   "metadata": {},
   "source": [
    "### **Logistic Regression with GridSearchCV Documentation**\n",
    "\n",
    "This script demonstrates the process of tuning a Logistic Regression model using `GridSearchCV` with multiple scoring metrics. The goal is to find the best hyperparameters for the model and evaluate its performance on a test dataset.\n",
    "\n",
    "#### **1. Importing Libraries**\n",
    "\n",
    "- **LogisticRegression**: The classifier used for this task.\n",
    "- **GridSearchCV**: Used to perform hyperparameter tuning by exhaustively searching through a specified parameter grid.\n",
    "- **make_scorer**: Converts metrics like accuracy, precision, recall, and F1 score into a scoring object for use in `GridSearchCV`.\n",
    "- **pandas**: For handling data in DataFrame format.\n",
    "- **seaborn and matplotlib**: For plotting the confusion matrix.\n",
    "- **confusion_matrix**: To compute the confusion matrix for model evaluation.\n",
    "\n",
    "#### **2. Defining the Parameter Grid**\n",
    "\n",
    "```python\n",
    "param_grid = {\n",
    "    'C': [1.0, 2.0, 5.0, 10.0],            # Regularization strength\n",
    "    'penalty': ['l1', 'l2'],               # Penalty types\n",
    "    'solver': ['liblinear', 'newton-cg']   # Solvers\n",
    "}\n",
    "```\n",
    "- **C**: The inverse of regularization strength; smaller values specify stronger regularization.\n",
    "- **penalty**: The norm used in the penalization. Options include L1, L2, ElasticNet.\n",
    "- **solver**: The algorithm to use in the optimization problem.\n",
    "\n",
    "#### **3. Initializing the Logistic Regression Model**\n",
    "\n",
    "```python\n",
    "log_reg = LogisticRegression(max_iter=10000)\n",
    "```\n",
    "- **max_iter**: Sets the maximum number of iterations for the solver to converge.\n",
    "\n",
    "#### **4. Setting Up GridSearchCV**\n",
    "\n",
    "- **estimator**: The Logistic Regression model.\n",
    "- **param_grid**: The dictionary of parameters to search.\n",
    "- **scoring**: A dictionary of scoring metrics to evaluate each model configuration.\n",
    "  - **accuracy**: Proportion of correctly classified samples.\n",
    "  - **precision**: Weighted precision across all classes.\n",
    "  - **recall**: Weighted recall across all classes.\n",
    "  - **f1**: Weighted F1 score across all classes.\n",
    "- **cv**: Number of cross-validation folds (5 in this case).\n",
    "- **refit**: Refits the model on the entire dataset using the best parameter based on accuracy.\n",
    "- **return_train_score**: Stores the training scores for each fold and parameter combination."
   ]
  },
  {
   "cell_type": "code",
   "execution_count": 47,
   "metadata": {},
   "outputs": [],
   "source": [
    "# from sklearn.linear_model import LogisticRegression\n",
    "# from sklearn.model_selection import GridSearchCV\n",
    "# from sklearn.metrics import make_scorer, accuracy_score, precision_score, recall_score, f1_score\n",
    "# from sklearn.metrics import confusion_matrix"
   ]
  },
  {
   "cell_type": "code",
   "execution_count": 48,
   "metadata": {},
   "outputs": [],
   "source": [
    "# # Define the parameter grid\n",
    "# param_grid = {\n",
    "#     'C': [1.0, 2.0, 5.0, 10.0],\n",
    "#     'penalty': ['l1', 'l2'],\n",
    "#     'solver': ['liblinear', 'newton-cg']\n",
    "# }\n",
    "\n",
    "# # Initialize the Logistic Regression model\n",
    "# log_reg = LogisticRegression(max_iter=10000)\n",
    "\n",
    "# # Setup GridSearchCV\n",
    "# grid_search = GridSearchCV(\n",
    "#     estimator=log_reg,\n",
    "#     param_grid=param_grid,\n",
    "#     scoring={\n",
    "#         'accuracy': make_scorer(accuracy_score),\n",
    "#         'precision': make_scorer(precision_score, average='weighted'),\n",
    "#         'recall': make_scorer(recall_score, average='weighted'),\n",
    "#         'f1': make_scorer(f1_score, average='weighted')\n",
    "#     },\n",
    "#     cv=5,\n",
    "#     refit='accuracy',\n",
    "#     return_train_score=True\n",
    "# )"
   ]
  },
  {
   "cell_type": "markdown",
   "metadata": {},
   "source": [
    "#### **5. Fitting the Model**\n",
    "\n",
    "```python\n",
    "grid_search.fit(X_train, y_train)\n",
    "```\n",
    "- **X_train, y_train**: The training data used to fit the model.\n",
    "\n",
    "#### **6. Extracting the Best Parameters and Score**\n",
    "\n",
    "- **best_params**: The parameter combination that resulted in the best performance.\n",
    "- **best_score**: The accuracy score corresponding to the best parameters.\n",
    "\n",
    "#### **7. Displaying the Results**\n",
    "\n",
    "- **results_df**: DataFrame containing all results from the grid search.\n",
    "- **cv_results_**: The detailed results from the grid search process.\n",
    "- **mean_test_accuracy, mean_test_precision, mean_test_recall, mean_test_f1**: Mean test scores across the cross-validation folds for accuracy, precision, recall, and F1 score."
   ]
  },
  {
   "cell_type": "code",
   "execution_count": 49,
   "metadata": {},
   "outputs": [],
   "source": [
    "# # Fit GridSearchCV\n",
    "# grid_search.fit(X_train, y_train)"
   ]
  },
  {
   "cell_type": "markdown",
   "metadata": {},
   "source": [
    "#### Validate The Model"
   ]
  },
  {
   "cell_type": "code",
   "execution_count": 50,
   "metadata": {},
   "outputs": [],
   "source": [
    "# # Get the best model And It's Parameters from grid search\n",
    "# best_model = grid_search.best_estimator_\n",
    "# best_params = grid_search.best_params_\n",
    "\n",
    "\n",
    "# # Print best parameters and best score\n",
    "# print(\"Best Parameters:\")\n",
    "# print(best_params)\n",
    "\n",
    "\n",
    "# # Predict on the validation set\n",
    "# y_val_pred = best_model.predict(X_val)\n",
    "\n",
    "# # Calculate performance metrics\n",
    "# val_accuracy = accuracy_score(y_val, y_val_pred)\n",
    "# val_precision = precision_score(y_val, y_val_pred, average='weighted')\n",
    "# val_recall = recall_score(y_val, y_val_pred, average='weighted')\n",
    "# val_f1 = f1_score(y_val, y_val_pred, average='weighted')\n",
    "\n",
    "# print(f'Validation Accuracy: {val_accuracy:.2f}')\n",
    "# print(f'Validation Precision: {val_precision:.2f}')\n",
    "# print(f'Validation Recall: {val_recall:.2f}')\n",
    "# print(f'Validation F1 Score: {val_f1:.2f}')"
   ]
  },
  {
   "cell_type": "markdown",
   "metadata": {},
   "source": [
    "#### Test The Model"
   ]
  },
  {
   "cell_type": "code",
   "execution_count": 51,
   "metadata": {},
   "outputs": [],
   "source": [
    "# # Predict on the test set\n",
    "# y_test_pred = best_model.predict(X_test)\n",
    "\n",
    "# # Calculate performance metrics on the test set\n",
    "# test_accuracy = accuracy_score(y_test, y_test_pred)\n",
    "# test_precision = precision_score(y_test, y_test_pred, average='weighted')\n",
    "# test_recall = recall_score(y_test, y_test_pred, average='weighted')\n",
    "# test_f1 = f1_score(y_test, y_test_pred, average='weighted')\n",
    "\n",
    "# print(f'Test Accuracy: {test_accuracy:.2f}')\n",
    "# print(f'Test Precision: {test_precision:.2f}')\n",
    "# print(f'Test Recall: {test_recall:.2f}')\n",
    "# print(f'Test F1 Score: {test_f1:.2f}')"
   ]
  },
  {
   "cell_type": "markdown",
   "metadata": {},
   "source": [
    "#### **8. Plotting the Confusion Matrix**\n",
    "\n",
    "- **best_model**: The best Logistic Regression model found by `GridSearchCV`.\n",
    "- **y_pred**: Predictions made by the best model on the test set.\n",
    "- **conf_matrix**: The confusion matrix comparing the true labels to the predicted labels.\n",
    "- **sns.heatmap**: Visualizes the confusion matrix with annotated cells.\n"
   ]
  },
  {
   "cell_type": "code",
   "execution_count": 52,
   "metadata": {},
   "outputs": [],
   "source": [
    "# best_model = grid_search.best_estimator_\n",
    "# y_pred = best_model.predict(X_test)\n",
    "# conf_matrix = confusion_matrix(y_test, y_pred)\n",
    "\n",
    "# # Plot confusion matrix\n",
    "# plt.figure(figsize=(8, 6))\n",
    "# sns.heatmap(conf_matrix, annot=True, fmt='d', cmap='Blues')\n",
    "# plt.xlabel('Predicted Labels')\n",
    "# plt.ylabel('True Labels')\n",
    "# plt.title('Confusion Matrix')\n",
    "# plt.show()"
   ]
  },
  {
   "cell_type": "markdown",
   "metadata": {},
   "source": [
    "#### **9. Saving Results and Best Model**\n",
    "\n",
    "After performing the grid search and obtaining the best model, it is crucial to save the results and the model for future use. This section outlines the steps to save the grid search results and the best model, and how to load the saved model to evaluate its performance."
   ]
  },
  {
   "cell_type": "markdown",
   "metadata": {},
   "source": [
    "##### **Saving the Best Model**"
   ]
  },
  {
   "cell_type": "code",
   "execution_count": 53,
   "metadata": {},
   "outputs": [],
   "source": [
    "# # Save the best model to a file\n",
    "# joblib.dump(grid_search.best_estimator_, './Models/best_logistic_regression_model.pkl')\n",
    "\n",
    "# print(\"Best model saved as 'best_logistic_regression_model.pkl'\")"
   ]
  },
  {
   "cell_type": "markdown",
   "metadata": {},
   "source": [
    "##### **Saving the Grid Search Results**"
   ]
  },
  {
   "cell_type": "code",
   "execution_count": 54,
   "metadata": {},
   "outputs": [],
   "source": [
    "# # Convert grid search results to a DataFrame\n",
    "# results = pd.DataFrame(grid_search.cv_results_)\n",
    "\n",
    "# # Drop any rows with NaN values to clean up the data\n",
    "# results.dropna(axis=0, inplace=True)\n",
    "\n",
    "# results.sample()"
   ]
  },
  {
   "cell_type": "code",
   "execution_count": 55,
   "metadata": {},
   "outputs": [],
   "source": [
    "# # Convert grid search results to a DataFrame\n",
    "# results = pd.DataFrame(grid_search.cv_results_)\n",
    "\n",
    "# # Drop any rows with NaN values to clean up the data\n",
    "# results.dropna(axis=0, inplace=True)\n",
    "\n",
    "# results[['mean_test_accuracy', 'mean_test_precision', 'mean_test_recall', 'mean_test_f1']].sort_values(by= 'mean_test_accuracy', ascending=False).head()"
   ]
  },
  {
   "cell_type": "code",
   "execution_count": 56,
   "metadata": {},
   "outputs": [],
   "source": [
    "\n",
    "# # Save the results to a CSV file\n",
    "# results.to_csv('./Models/grid_search_results.csv', index=False)\n",
    "\n",
    "# print(\"Grid search results saved as 'grid_search_results.csv'\")"
   ]
  },
  {
   "cell_type": "markdown",
   "metadata": {},
   "source": [
    "#### Loading the Saved Model For Prediction Stage\n",
    "\n",
    "After saving the model, you may want to load it at a later stage to make predictions or evaluate its performance on new data."
   ]
  },
  {
   "cell_type": "code",
   "execution_count": 57,
   "metadata": {},
   "outputs": [],
   "source": [
    "# # Load the best model from the file\n",
    "# loaded_model = joblib.load('./Models/best_logistic_regression_model.pkl')"
   ]
  },
  {
   "cell_type": "markdown",
   "metadata": {},
   "source": [
    "## **🔗 Summary**\n",
    "\n",
    "Through this process, we've completed the data preparation, feature engineering, model training, and evaluation phases. We applied different logistic regression models, evaluated their performance, and visualized the results to make an informed decision about the best model for predicting mobile phone price ranges."
   ]
  },
  {
   "cell_type": "markdown",
   "metadata": {},
   "source": [
    "# 🌐 Deploying the Model: Bringing Predictions to Life\n",
    "\n",
    "In this final section, we take our machine learning model from the confines of our development environment and deploy it to the web, making it accessible and useful for everyone. With the power of Dash, we transform our trained model into an interactive application where users can input features and receive real-time predictions on mobile phone price ranges.\n",
    "\n",
    "Let's embark on the journey of making our model truly impactful!"
   ]
  },
  {
   "cell_type": "markdown",
   "metadata": {},
   "source": [
    "##  **Loading the Saved Model Then Prediction With It**\n",
    "\n",
    "After saving the model, you may want to load it at a later stage to make predictions or evaluate its performance on new data."
   ]
  },
  {
   "cell_type": "code",
   "execution_count": 58,
   "metadata": {},
   "outputs": [],
   "source": [
    "SomeRow = data.iloc[45:46, :-1]  \n",
    "\n",
    "x = list(SomeRow.values)"
   ]
  },
  {
   "cell_type": "code",
   "execution_count": 59,
   "metadata": {},
   "outputs": [],
   "source": [
    "all_columns = ['battery_power', 'blue', 'clock_speed', 'dual_sim', 'fc', 'four_g',\n",
    "       'int_memory', 'm_dep', 'mobile_wt', 'n_cores', 'pc', 'px_height',\n",
    "       'px_width', 'ram', 'sc_h', 'sc_w', 'talk_time', 'three_g',\n",
    "       'touch_screen', 'wifi']\n",
    "    \n",
    "row_df = pd.DataFrame(x, columns=all_columns)"
   ]
  },
  {
   "cell_type": "code",
   "execution_count": 60,
   "metadata": {},
   "outputs": [
    {
     "data": {
      "text/html": [
       "<div>\n",
       "<style scoped>\n",
       "    .dataframe tbody tr th:only-of-type {\n",
       "        vertical-align: middle;\n",
       "    }\n",
       "\n",
       "    .dataframe tbody tr th {\n",
       "        vertical-align: top;\n",
       "    }\n",
       "\n",
       "    .dataframe thead th {\n",
       "        text-align: right;\n",
       "    }\n",
       "</style>\n",
       "<table border=\"1\" class=\"dataframe\">\n",
       "  <thead>\n",
       "    <tr style=\"text-align: right;\">\n",
       "      <th></th>\n",
       "      <th>battery_power</th>\n",
       "      <th>blue</th>\n",
       "      <th>clock_speed</th>\n",
       "      <th>dual_sim</th>\n",
       "      <th>fc</th>\n",
       "      <th>four_g</th>\n",
       "      <th>int_memory</th>\n",
       "      <th>m_dep</th>\n",
       "      <th>mobile_wt</th>\n",
       "      <th>n_cores</th>\n",
       "      <th>pc</th>\n",
       "      <th>px_height</th>\n",
       "      <th>px_width</th>\n",
       "      <th>ram</th>\n",
       "      <th>sc_h</th>\n",
       "      <th>sc_w</th>\n",
       "      <th>talk_time</th>\n",
       "      <th>three_g</th>\n",
       "      <th>touch_screen</th>\n",
       "      <th>wifi</th>\n",
       "    </tr>\n",
       "  </thead>\n",
       "  <tbody>\n",
       "    <tr>\n",
       "      <th>0</th>\n",
       "      <td>1514.0</td>\n",
       "      <td>0.0</td>\n",
       "      <td>2.9</td>\n",
       "      <td>0.0</td>\n",
       "      <td>0.0</td>\n",
       "      <td>0.0</td>\n",
       "      <td>27.0</td>\n",
       "      <td>0.2</td>\n",
       "      <td>118.0</td>\n",
       "      <td>3.0</td>\n",
       "      <td>1.0</td>\n",
       "      <td>186.0</td>\n",
       "      <td>1810.0</td>\n",
       "      <td>1152.0</td>\n",
       "      <td>8.0</td>\n",
       "      <td>3.0</td>\n",
       "      <td>20.0</td>\n",
       "      <td>0.0</td>\n",
       "      <td>1.0</td>\n",
       "      <td>1.0</td>\n",
       "    </tr>\n",
       "  </tbody>\n",
       "</table>\n",
       "</div>"
      ],
      "text/plain": [
       "   battery_power  blue  clock_speed  dual_sim   fc  four_g  int_memory  m_dep  \\\n",
       "0         1514.0   0.0          2.9       0.0  0.0     0.0        27.0    0.2   \n",
       "\n",
       "   mobile_wt  n_cores   pc  px_height  px_width     ram  sc_h  sc_w  \\\n",
       "0      118.0      3.0  1.0      186.0    1810.0  1152.0   8.0   3.0   \n",
       "\n",
       "   talk_time  three_g  touch_screen  wifi  \n",
       "0       20.0      0.0           1.0   1.0  "
      ]
     },
     "execution_count": 60,
     "metadata": {},
     "output_type": "execute_result"
    }
   ],
   "source": [
    "row_df.head()"
   ]
  },
  {
   "cell_type": "code",
   "execution_count": 61,
   "metadata": {},
   "outputs": [],
   "source": [
    "def Get_numerical_dataForPrediction(data, categorical_columns):\n",
    "    \"\"\"Identifies numerical columns by excluding categorical columns.\"\"\"\n",
    "    numerical_data = data.drop(columns=categorical_columns)\n",
    "    return pd.DataFrame(numerical_data)"
   ]
  },
  {
   "cell_type": "code",
   "execution_count": 62,
   "metadata": {},
   "outputs": [],
   "source": [
    "def preprocess_single_row(row_df, categorical_columns):\n",
    "    \"\"\"Processes a single row of data using the saved scaler and encoder columns.\"\"\"\n",
    "    # Process numerical data\n",
    "    numerical_data = Get_numerical_dataForPrediction(row_df, categorical_columns)\n",
    "    convert_ram_to_gb(numerical_data, 'ram')\n",
    "    calculate_screen_area(numerical_data, 'sc_h', 'sc_w')\n",
    "    calculate_battery_efficiency(numerical_data, 'talk_time', 'battery_power')\n",
    "    \n",
    "    # Process categorical data\n",
    "    categorical_data = extract_categorical_data(row_df, categorical_columns)\n",
    "    support_3g_4g_feature(categorical_data, 'three_g', 'four_g')\n",
    "    \n",
    "    # One-hot encode the categorical data\n",
    "    encoded_categorical_data = pd.get_dummies(categorical_data, columns=categorical_data.columns).astype(int)\n",
    "    \n",
    "    ## Ensure all encoder columns are present\n",
    "    for col in encoder_columns:\n",
    "        if col not in encoded_categorical_data:\n",
    "            encoded_categorical_data[col] = 0\n",
    "    encoded_categorical_data = encoded_categorical_data[encoder_columns]\n",
    "    \n",
    "    \n",
    "    # Scale the numerical data\n",
    "    scaled_numerical_data = scaler.transform(numerical_data)\n",
    "    scaled_numerical_data = pd.DataFrame(scaled_numerical_data, columns=numerical_data.columns)\n",
    "    \n",
    "    # Combine processed data\n",
    "    processed_data = pd.concat([scaled_numerical_data, encoded_categorical_data], axis=1)\n",
    "    \n",
    "    return processed_data"
   ]
  },
  {
   "cell_type": "code",
   "execution_count": 63,
   "metadata": {},
   "outputs": [],
   "source": [
    "def predict(row_df, categorical_columns, model=None):\n",
    "    \"\"\"Preprocesses the input row and makes a prediction using the provided model.\"\"\"\n",
    "    \n",
    "    # Preprocess the input row\n",
    "    processed_row = preprocess_single_row(row_df, categorical_columns)\n",
    "    \n",
    "    # Make prediction if a model is provided\n",
    "    if model:\n",
    "        prediction = model.predict(processed_row)\n",
    "        return prediction\n",
    "    else:\n",
    "        print(\"No model provided for predictions.\")\n",
    "        return None"
   ]
  },
  {
   "cell_type": "code",
   "execution_count": 64,
   "metadata": {},
   "outputs": [],
   "source": [
    "def map_prediction_to_price_range(prediction):\n",
    "    \"\"\"Maps the prediction value to a price range category.\"\"\"\n",
    "    price_ranges = {\n",
    "        0: 'Low cost',\n",
    "        1: 'Medium cost',\n",
    "        2: 'High cost',\n",
    "        3: 'Very high cost'\n",
    "    }\n",
    "    return price_ranges.get(prediction, 'Unknown')"
   ]
  },
  {
   "cell_type": "code",
   "execution_count": 65,
   "metadata": {},
   "outputs": [
    {
     "name": "stdout",
     "output_type": "stream",
     "text": [
      "\n",
      "🏷️ Prediction:\n",
      "\n",
      "Low cost\n"
     ]
    }
   ],
   "source": [
    "# Load the saved scaler and one-hot encoder columns\n",
    "scaler = joblib.load('./Models/scaler.pkl')\n",
    "encoder_columns = joblib.load('./Models/one_hot_encoder_columns.joblib')\n",
    "model = joblib.load('./Models/best_logistic_regression_model.pkl')  # Load the model if it's saved\n",
    "\n",
    "# Define the categorical columns\n",
    "categorical_columns = ['blue', 'dual_sim', 'four_g', 'n_cores', 'three_g', 'touch_screen', 'wifi']\n",
    "\n",
    "# Predict the result\n",
    "prediction = map_prediction_to_price_range(predict(row_df, categorical_columns, model)[0])\n",
    "\n",
    "# Display the prediction\n",
    "print(\"\\n🏷️ Prediction:\\n\")\n",
    "print(prediction)"
   ]
  },
  {
   "cell_type": "markdown",
   "metadata": {},
   "source": [
    "# Thank You !!"
   ]
  },
  {
   "cell_type": "markdown",
   "metadata": {},
   "source": []
  }
 ],
 "metadata": {
  "kaggle": {
   "accelerator": "none",
   "dataSources": [
    {
     "datasetId": 5550928,
     "sourceId": 9183552,
     "sourceType": "datasetVersion"
    }
   ],
   "dockerImageVersionId": 30746,
   "isGpuEnabled": false,
   "isInternetEnabled": true,
   "language": "python",
   "sourceType": "notebook"
  },
  "kernelspec": {
   "display_name": "Python 3 (ipykernel)",
   "language": "python",
   "name": "python3"
  },
  "language_info": {
   "codemirror_mode": {
    "name": "ipython",
    "version": 3
   },
   "file_extension": ".py",
   "mimetype": "text/x-python",
   "name": "python",
   "nbconvert_exporter": "python",
   "pygments_lexer": "ipython3",
   "version": "3.12.3"
  }
 },
 "nbformat": 4,
 "nbformat_minor": 4
}
