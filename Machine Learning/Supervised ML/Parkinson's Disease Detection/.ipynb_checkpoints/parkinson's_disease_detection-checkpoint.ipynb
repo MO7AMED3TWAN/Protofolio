{
 "cells": [
  {
   "cell_type": "markdown",
   "id": "ccef0aa4",
   "metadata": {
    "papermill": {
     "duration": 0.018053,
     "end_time": "2022-12-25T00:33:16.968395",
     "exception": false,
     "start_time": "2022-12-25T00:33:16.950342",
     "status": "completed"
    },
    "tags": []
   },
   "source": [
    "# Some Information About Our Dataset"
   ]
  },
  {
   "cell_type": "markdown",
   "id": "5f5e2826",
   "metadata": {
    "papermill": {
     "duration": 0.016722,
     "end_time": "2022-12-25T00:33:17.001731",
     "exception": false,
     "start_time": "2022-12-25T00:33:16.985009",
     "status": "completed"
    },
    "tags": []
   },
   "source": [
    "## Title: Parkinsons Disease Data Set\n",
    "## Abstract: Oxford Parkinson's Disease Detection Dataset"
   ]
  },
  {
   "cell_type": "markdown",
   "id": "768a1603",
   "metadata": {
    "papermill": {
     "duration": 0.016089,
     "end_time": "2022-12-25T00:33:17.034554",
     "exception": false,
     "start_time": "2022-12-25T00:33:17.018465",
     "status": "completed"
    },
    "tags": []
   },
   "source": [
    "## ***Source*** \n",
    "\n",
    "#### The dataset was created by Max Little of the University of Oxford, in \n",
    "#### collaboration with the National Centre for Voice and Speech, Denver, \n",
    "#### Colorado, who recorded the speech signals. The original study published the \n",
    "#### feature extraction methods for general voice disorders."
   ]
  },
  {
   "cell_type": "markdown",
   "id": "824103b5",
   "metadata": {
    "papermill": {
     "duration": 0.016063,
     "end_time": "2022-12-25T00:33:17.067280",
     "exception": false,
     "start_time": "2022-12-25T00:33:17.051217",
     "status": "completed"
    },
    "tags": []
   },
   "source": [
    "> Attribute Information:\n",
    "\n",
    ">>- MDVP:Fo(Hz)  ::: Average vocal fundamental frequency\n",
    ">>- MDVP:Fhi(Hz) ::: Maximum vocal fundamental frequency\n",
    ">>- MDVP:Flo(Hz) ::: Minimum vocal fundamental frequency\n",
    ">>- MDVP:Jitter(%), MDVP:Jitter(Abs), MDVP:RAP, MDVP:PPQ, Jitter:DDP ::: Several measures of variation in fundamental frequency\n",
    ">>- MDVP:Shimmer, MDVP:Shimmer(dB), Shimmer:APQ3, Shimmer:APQ5, MDVP:APQ, Shimmer:DDA ::: Several measures of variation in amplitude\n",
    ">>- NHR, HNR ::: Two measures of ratio of noise to tonal components in the voice\n",
    ">>- status ::: Health status of the subject (one) - Parkinson's & (zero) - healthy\n",
    ">>- RPDE, D2 ::: Two nonlinear dynamical complexity measures\n",
    ">>- DFA ::: Signal fractal scaling exponent\n",
    ">>- spread1, spread2, PPE ::: Three nonlinear measures of fundamental frequency variation "
   ]
  },
  {
   "cell_type": "markdown",
   "id": "48b549b1",
   "metadata": {
    "papermill": {
     "duration": 0.01594,
     "end_time": "2022-12-25T00:33:17.099553",
     "exception": false,
     "start_time": "2022-12-25T00:33:17.083613",
     "status": "completed"
    },
    "tags": []
   },
   "source": [
    "# Packages"
   ]
  },
  {
   "cell_type": "code",
   "execution_count": 1,
   "id": "ab045018",
   "metadata": {
    "execution": {
     "iopub.execute_input": "2022-12-25T00:33:17.134657Z",
     "iopub.status.busy": "2022-12-25T00:33:17.133838Z",
     "iopub.status.idle": "2022-12-25T00:33:18.388159Z",
     "shell.execute_reply": "2022-12-25T00:33:18.387178Z"
    },
    "papermill": {
     "duration": 1.275607,
     "end_time": "2022-12-25T00:33:18.391464",
     "exception": false,
     "start_time": "2022-12-25T00:33:17.115857",
     "status": "completed"
    },
    "tags": []
   },
   "outputs": [],
   "source": [
    "import numpy as np\n",
    "import pandas as pd\n",
    "import matplotlib.pyplot as plt\n",
    "import seaborn as sns\n",
    "from joblib import dump, load\n",
    "%matplotlib inline  "
   ]
  },
  {
   "cell_type": "markdown",
   "id": "faf6e881",
   "metadata": {
    "papermill": {
     "duration": 0.016357,
     "end_time": "2022-12-25T00:33:18.425304",
     "exception": false,
     "start_time": "2022-12-25T00:33:18.408947",
     "status": "completed"
    },
    "tags": []
   },
   "source": [
    "# Read Dataset"
   ]
  },
  {
   "cell_type": "code",
   "execution_count": 2,
   "id": "42200323",
   "metadata": {
    "execution": {
     "iopub.execute_input": "2022-12-25T00:33:18.460965Z",
     "iopub.status.busy": "2022-12-25T00:33:18.459907Z",
     "iopub.status.idle": "2022-12-25T00:33:18.485938Z",
     "shell.execute_reply": "2022-12-25T00:33:18.484961Z"
    },
    "papermill": {
     "duration": 0.046754,
     "end_time": "2022-12-25T00:33:18.488615",
     "exception": false,
     "start_time": "2022-12-25T00:33:18.441861",
     "status": "completed"
    },
    "tags": []
   },
   "outputs": [],
   "source": [
    "#### READ DATA ####\n",
    "path = \"/kaggle/input/parkinsondisease-data/parkinsons.csv\"\n",
    "data = pd.read_csv(path)\n",
    "data =data.sample(frac=1,random_state=5).reset_index(drop=True)   #Shuffling Data"
   ]
  },
  {
   "cell_type": "code",
   "execution_count": 3,
   "id": "16ac935f",
   "metadata": {
    "execution": {
     "iopub.execute_input": "2022-12-25T00:33:18.524578Z",
     "iopub.status.busy": "2022-12-25T00:33:18.523362Z",
     "iopub.status.idle": "2022-12-25T00:33:18.561731Z",
     "shell.execute_reply": "2022-12-25T00:33:18.560587Z"
    },
    "papermill": {
     "duration": 0.05992,
     "end_time": "2022-12-25T00:33:18.565205",
     "exception": false,
     "start_time": "2022-12-25T00:33:18.505285",
     "status": "completed"
    },
    "scrolled": true,
    "tags": []
   },
   "outputs": [
    {
     "data": {
      "text/html": [
       "<div>\n",
       "<style scoped>\n",
       "    .dataframe tbody tr th:only-of-type {\n",
       "        vertical-align: middle;\n",
       "    }\n",
       "\n",
       "    .dataframe tbody tr th {\n",
       "        vertical-align: top;\n",
       "    }\n",
       "\n",
       "    .dataframe thead th {\n",
       "        text-align: right;\n",
       "    }\n",
       "</style>\n",
       "<table border=\"1\" class=\"dataframe\">\n",
       "  <thead>\n",
       "    <tr style=\"text-align: right;\">\n",
       "      <th></th>\n",
       "      <th>name</th>\n",
       "      <th>MDVP:Fo(Hz)</th>\n",
       "      <th>MDVP:Fhi(Hz)</th>\n",
       "      <th>MDVP:Flo(Hz)</th>\n",
       "      <th>MDVP:Jitter(%)</th>\n",
       "      <th>MDVP:Jitter(Abs)</th>\n",
       "      <th>MDVP:RAP</th>\n",
       "      <th>MDVP:PPQ</th>\n",
       "      <th>Jitter:DDP</th>\n",
       "      <th>MDVP:Shimmer</th>\n",
       "      <th>...</th>\n",
       "      <th>Shimmer:DDA</th>\n",
       "      <th>NHR</th>\n",
       "      <th>HNR</th>\n",
       "      <th>RPDE</th>\n",
       "      <th>DFA</th>\n",
       "      <th>spread1</th>\n",
       "      <th>spread2</th>\n",
       "      <th>D2</th>\n",
       "      <th>PPE</th>\n",
       "      <th>status</th>\n",
       "    </tr>\n",
       "  </thead>\n",
       "  <tbody>\n",
       "    <tr>\n",
       "      <th>0</th>\n",
       "      <td>phon_R01_S20_6</td>\n",
       "      <td>98.804</td>\n",
       "      <td>102.305</td>\n",
       "      <td>87.804</td>\n",
       "      <td>0.00432</td>\n",
       "      <td>0.00004</td>\n",
       "      <td>0.00247</td>\n",
       "      <td>0.00258</td>\n",
       "      <td>0.00742</td>\n",
       "      <td>0.02223</td>\n",
       "      <td>...</td>\n",
       "      <td>0.03831</td>\n",
       "      <td>0.00882</td>\n",
       "      <td>22.244</td>\n",
       "      <td>0.576644</td>\n",
       "      <td>0.772416</td>\n",
       "      <td>-6.025367</td>\n",
       "      <td>0.078202</td>\n",
       "      <td>2.053601</td>\n",
       "      <td>0.177275</td>\n",
       "      <td>1</td>\n",
       "    </tr>\n",
       "    <tr>\n",
       "      <th>1</th>\n",
       "      <td>phon_R01_S02_1</td>\n",
       "      <td>120.267</td>\n",
       "      <td>137.244</td>\n",
       "      <td>114.820</td>\n",
       "      <td>0.00333</td>\n",
       "      <td>0.00003</td>\n",
       "      <td>0.00155</td>\n",
       "      <td>0.00202</td>\n",
       "      <td>0.00466</td>\n",
       "      <td>0.01608</td>\n",
       "      <td>...</td>\n",
       "      <td>0.02337</td>\n",
       "      <td>0.00607</td>\n",
       "      <td>24.886</td>\n",
       "      <td>0.596040</td>\n",
       "      <td>0.764112</td>\n",
       "      <td>-5.634322</td>\n",
       "      <td>0.257682</td>\n",
       "      <td>1.854785</td>\n",
       "      <td>0.211756</td>\n",
       "      <td>1</td>\n",
       "    </tr>\n",
       "    <tr>\n",
       "      <th>2</th>\n",
       "      <td>phon_R01_S43_3</td>\n",
       "      <td>113.715</td>\n",
       "      <td>116.443</td>\n",
       "      <td>96.913</td>\n",
       "      <td>0.00349</td>\n",
       "      <td>0.00003</td>\n",
       "      <td>0.00171</td>\n",
       "      <td>0.00203</td>\n",
       "      <td>0.00514</td>\n",
       "      <td>0.01472</td>\n",
       "      <td>...</td>\n",
       "      <td>0.02245</td>\n",
       "      <td>0.00478</td>\n",
       "      <td>26.547</td>\n",
       "      <td>0.380253</td>\n",
       "      <td>0.766700</td>\n",
       "      <td>-5.943501</td>\n",
       "      <td>0.192150</td>\n",
       "      <td>1.852542</td>\n",
       "      <td>0.179677</td>\n",
       "      <td>0</td>\n",
       "    </tr>\n",
       "    <tr>\n",
       "      <th>3</th>\n",
       "      <td>phon_R01_S06_5</td>\n",
       "      <td>155.358</td>\n",
       "      <td>227.383</td>\n",
       "      <td>80.055</td>\n",
       "      <td>0.00310</td>\n",
       "      <td>0.00002</td>\n",
       "      <td>0.00159</td>\n",
       "      <td>0.00176</td>\n",
       "      <td>0.00476</td>\n",
       "      <td>0.01718</td>\n",
       "      <td>...</td>\n",
       "      <td>0.02307</td>\n",
       "      <td>0.00677</td>\n",
       "      <td>25.970</td>\n",
       "      <td>0.470478</td>\n",
       "      <td>0.676258</td>\n",
       "      <td>-7.120925</td>\n",
       "      <td>0.279789</td>\n",
       "      <td>2.241742</td>\n",
       "      <td>0.108514</td>\n",
       "      <td>1</td>\n",
       "    </tr>\n",
       "    <tr>\n",
       "      <th>4</th>\n",
       "      <td>phon_R01_S43_6</td>\n",
       "      <td>116.388</td>\n",
       "      <td>129.038</td>\n",
       "      <td>108.970</td>\n",
       "      <td>0.00346</td>\n",
       "      <td>0.00003</td>\n",
       "      <td>0.00169</td>\n",
       "      <td>0.00213</td>\n",
       "      <td>0.00507</td>\n",
       "      <td>0.01725</td>\n",
       "      <td>...</td>\n",
       "      <td>0.02623</td>\n",
       "      <td>0.00415</td>\n",
       "      <td>26.143</td>\n",
       "      <td>0.361232</td>\n",
       "      <td>0.763242</td>\n",
       "      <td>-6.016891</td>\n",
       "      <td>0.109256</td>\n",
       "      <td>2.004719</td>\n",
       "      <td>0.174429</td>\n",
       "      <td>0</td>\n",
       "    </tr>\n",
       "  </tbody>\n",
       "</table>\n",
       "<p>5 rows × 24 columns</p>\n",
       "</div>"
      ],
      "text/plain": [
       "             name  MDVP:Fo(Hz)  MDVP:Fhi(Hz)  MDVP:Flo(Hz)  MDVP:Jitter(%)  \\\n",
       "0  phon_R01_S20_6       98.804       102.305        87.804         0.00432   \n",
       "1  phon_R01_S02_1      120.267       137.244       114.820         0.00333   \n",
       "2  phon_R01_S43_3      113.715       116.443        96.913         0.00349   \n",
       "3  phon_R01_S06_5      155.358       227.383        80.055         0.00310   \n",
       "4  phon_R01_S43_6      116.388       129.038       108.970         0.00346   \n",
       "\n",
       "   MDVP:Jitter(Abs)  MDVP:RAP  MDVP:PPQ  Jitter:DDP  MDVP:Shimmer  ...  \\\n",
       "0           0.00004   0.00247   0.00258     0.00742       0.02223  ...   \n",
       "1           0.00003   0.00155   0.00202     0.00466       0.01608  ...   \n",
       "2           0.00003   0.00171   0.00203     0.00514       0.01472  ...   \n",
       "3           0.00002   0.00159   0.00176     0.00476       0.01718  ...   \n",
       "4           0.00003   0.00169   0.00213     0.00507       0.01725  ...   \n",
       "\n",
       "   Shimmer:DDA      NHR     HNR      RPDE       DFA   spread1   spread2  \\\n",
       "0      0.03831  0.00882  22.244  0.576644  0.772416 -6.025367  0.078202   \n",
       "1      0.02337  0.00607  24.886  0.596040  0.764112 -5.634322  0.257682   \n",
       "2      0.02245  0.00478  26.547  0.380253  0.766700 -5.943501  0.192150   \n",
       "3      0.02307  0.00677  25.970  0.470478  0.676258 -7.120925  0.279789   \n",
       "4      0.02623  0.00415  26.143  0.361232  0.763242 -6.016891  0.109256   \n",
       "\n",
       "         D2       PPE  status  \n",
       "0  2.053601  0.177275       1  \n",
       "1  1.854785  0.211756       1  \n",
       "2  1.852542  0.179677       0  \n",
       "3  2.241742  0.108514       1  \n",
       "4  2.004719  0.174429       0  \n",
       "\n",
       "[5 rows x 24 columns]"
      ]
     },
     "execution_count": 3,
     "metadata": {},
     "output_type": "execute_result"
    }
   ],
   "source": [
    "data.head()"
   ]
  },
  {
   "cell_type": "code",
   "execution_count": 4,
   "id": "65cc078b",
   "metadata": {
    "execution": {
     "iopub.execute_input": "2022-12-25T00:33:18.601408Z",
     "iopub.status.busy": "2022-12-25T00:33:18.600532Z",
     "iopub.status.idle": "2022-12-25T00:33:18.611627Z",
     "shell.execute_reply": "2022-12-25T00:33:18.610742Z"
    },
    "papermill": {
     "duration": 0.031618,
     "end_time": "2022-12-25T00:33:18.613853",
     "exception": false,
     "start_time": "2022-12-25T00:33:18.582235",
     "status": "completed"
    },
    "scrolled": true,
    "tags": []
   },
   "outputs": [
    {
     "data": {
      "text/plain": [
       "name                0\n",
       "MDVP:Fo(Hz)         0\n",
       "MDVP:Fhi(Hz)        0\n",
       "MDVP:Flo(Hz)        0\n",
       "MDVP:Jitter(%)      0\n",
       "MDVP:Jitter(Abs)    0\n",
       "MDVP:RAP            0\n",
       "MDVP:PPQ            0\n",
       "Jitter:DDP          0\n",
       "MDVP:Shimmer        0\n",
       "MDVP:Shimmer(dB)    0\n",
       "Shimmer:APQ3        0\n",
       "Shimmer:APQ5        0\n",
       "MDVP:APQ            0\n",
       "Shimmer:DDA         0\n",
       "NHR                 0\n",
       "HNR                 0\n",
       "RPDE                0\n",
       "DFA                 0\n",
       "spread1             0\n",
       "spread2             0\n",
       "D2                  0\n",
       "PPE                 0\n",
       "status              0\n",
       "dtype: int64"
      ]
     },
     "execution_count": 4,
     "metadata": {},
     "output_type": "execute_result"
    }
   ],
   "source": [
    "#Know Number Of Null Values\n",
    "data.isna().sum()"
   ]
  },
  {
   "cell_type": "code",
   "execution_count": 5,
   "id": "02212380",
   "metadata": {
    "execution": {
     "iopub.execute_input": "2022-12-25T00:33:18.651758Z",
     "iopub.status.busy": "2022-12-25T00:33:18.651298Z",
     "iopub.status.idle": "2022-12-25T00:33:18.665962Z",
     "shell.execute_reply": "2022-12-25T00:33:18.664678Z"
    },
    "papermill": {
     "duration": 0.036378,
     "end_time": "2022-12-25T00:33:18.668416",
     "exception": false,
     "start_time": "2022-12-25T00:33:18.632038",
     "status": "completed"
    },
    "tags": []
   },
   "outputs": [
    {
     "data": {
      "text/plain": [
       "1    147\n",
       "0     48\n",
       "Name: status, dtype: int64"
      ]
     },
     "execution_count": 5,
     "metadata": {},
     "output_type": "execute_result"
    }
   ],
   "source": [
    "#Get the count of each target (0 and 1) \n",
    "data['status'].value_counts()"
   ]
  },
  {
   "cell_type": "markdown",
   "id": "83b75226",
   "metadata": {
    "papermill": {
     "duration": 0.017588,
     "end_time": "2022-12-25T00:33:18.703568",
     "exception": false,
     "start_time": "2022-12-25T00:33:18.685980",
     "status": "completed"
    },
    "tags": []
   },
   "source": [
    "# DEFINE DATA"
   ]
  },
  {
   "cell_type": "code",
   "execution_count": 6,
   "id": "3ceb31eb",
   "metadata": {
    "execution": {
     "iopub.execute_input": "2022-12-25T00:33:18.743608Z",
     "iopub.status.busy": "2022-12-25T00:33:18.743219Z",
     "iopub.status.idle": "2022-12-25T00:33:18.751520Z",
     "shell.execute_reply": "2022-12-25T00:33:18.750284Z"
    },
    "papermill": {
     "duration": 0.032609,
     "end_time": "2022-12-25T00:33:18.754712",
     "exception": false,
     "start_time": "2022-12-25T00:33:18.722103",
     "status": "completed"
    },
    "tags": []
   },
   "outputs": [
    {
     "name": "stdout",
     "output_type": "stream",
     "text": [
      "Feature'shape (195, 22)\n",
      "Target'shape  (195,)\n"
     ]
    }
   ],
   "source": [
    "#### define features and target ####\n",
    "features=np.array( data.drop(columns=[\"name\",\"status\"],axis=1) ) # 22\n",
    "target  =np.array( data[\"status\"] )   # 1\n",
    "\n",
    "print(f\"Feature'shape {features.shape}\")\n",
    "print(f\"Target'shape  {target.shape}\"  )"
   ]
  },
  {
   "cell_type": "markdown",
   "id": "bdc6f7d2",
   "metadata": {
    "papermill": {
     "duration": 0.017143,
     "end_time": "2022-12-25T00:33:18.790514",
     "exception": false,
     "start_time": "2022-12-25T00:33:18.773371",
     "status": "completed"
    },
    "tags": []
   },
   "source": [
    "# SHOWING DATA"
   ]
  },
  {
   "cell_type": "code",
   "execution_count": 7,
   "id": "17c8f227",
   "metadata": {
    "execution": {
     "iopub.execute_input": "2022-12-25T00:33:18.827451Z",
     "iopub.status.busy": "2022-12-25T00:33:18.826715Z",
     "iopub.status.idle": "2022-12-25T00:33:21.678369Z",
     "shell.execute_reply": "2022-12-25T00:33:21.677029Z"
    },
    "papermill": {
     "duration": 2.874331,
     "end_time": "2022-12-25T00:33:21.682319",
     "exception": false,
     "start_time": "2022-12-25T00:33:18.807988",
     "status": "completed"
    },
    "tags": []
   },
   "outputs": [
    {
     "data": {
      "image/png": "[encoded data removed]",
      "text/plain": [
       "<Figure size 7200x288 with 22 Axes>"
      ]
     },
     "metadata": {
      "needs_background": "light"
     },
     "output_type": "display_data"
    }
   ],
   "source": [
    "#### DATA SCATTER ####\n",
    "fig,ax=plt.subplots(1, 22, figsize=(100, 4))\n",
    "\n",
    "for i in range(len(ax)):\n",
    "    ax[i].scatter(target,features[:,i])\n",
    "    ax[i].set_ylabel(f\"X{i+1}\")\n",
    "    ax[i].set_xlabel(\"TARGET\")\n",
    "plt.show()"
   ]
  },
  {
   "cell_type": "markdown",
   "id": "eb8865c8",
   "metadata": {
    "papermill": {
     "duration": 0.01914,
     "end_time": "2022-12-25T00:33:21.721909",
     "exception": false,
     "start_time": "2022-12-25T00:33:21.702769",
     "status": "completed"
    },
    "tags": []
   },
   "source": [
    "# Scalling The Data  "
   ]
  },
  {
   "cell_type": "code",
   "execution_count": 8,
   "id": "1d4e4d05",
   "metadata": {
    "execution": {
     "iopub.execute_input": "2022-12-25T00:33:21.763171Z",
     "iopub.status.busy": "2022-12-25T00:33:21.762740Z",
     "iopub.status.idle": "2022-12-25T00:33:21.852274Z",
     "shell.execute_reply": "2022-12-25T00:33:21.851084Z"
    },
    "papermill": {
     "duration": 0.113805,
     "end_time": "2022-12-25T00:33:21.855510",
     "exception": false,
     "start_time": "2022-12-25T00:33:21.741705",
     "status": "completed"
    },
    "tags": []
   },
   "outputs": [],
   "source": [
    "### Scale/normalize the features to between 0 and 1\n",
    "from sklearn.preprocessing import MinMaxScaler\n",
    "scaler=MinMaxScaler()\n",
    "N_features0=scaler.fit_transform(features)\n",
    "N_target0=target"
   ]
  },
  {
   "cell_type": "markdown",
   "id": "aed0917a",
   "metadata": {
    "papermill": {
     "duration": 0.01942,
     "end_time": "2022-12-25T00:33:21.895359",
     "exception": false,
     "start_time": "2022-12-25T00:33:21.875939",
     "status": "completed"
    },
    "tags": []
   },
   "source": [
    "# **Problem 1**"
   ]
  },
  {
   "cell_type": "markdown",
   "id": "7bf4aed6",
   "metadata": {
    "papermill": {
     "duration": 0.01905,
     "end_time": "2022-12-25T00:33:21.933869",
     "exception": false,
     "start_time": "2022-12-25T00:33:21.914819",
     "status": "completed"
    },
    "tags": []
   },
   "source": [
    "> Over Fitting In\n",
    "\n",
    ">>- Decesion Tree\n",
    ">>- Support Vector Classifier\n",
    "\n",
    ">![](/kaggle/input/resources/3.png)\n",
    "\n",
    ">![](/kaggle/input/resources/2.png)\n",
    "\n",
    ">And No Over Fitting IN\n",
    ">>- Logistic Regression\n",
    ">>- K Nearest Neighbor\n",
    "\n",
    ">![](/kaggle/input/resources/1.png)\n",
    ">![](/kaggle/input/resources/4.png)"
   ]
  },
  {
   "cell_type": "code",
   "execution_count": 9,
   "id": "08407ffc",
   "metadata": {
    "execution": {
     "iopub.execute_input": "2022-12-25T00:33:21.975268Z",
     "iopub.status.busy": "2022-12-25T00:33:21.974047Z",
     "iopub.status.idle": "2022-12-25T00:33:22.513601Z",
     "shell.execute_reply": "2022-12-25T00:33:22.512302Z"
    },
    "papermill": {
     "duration": 0.563426,
     "end_time": "2022-12-25T00:33:22.516476",
     "exception": false,
     "start_time": "2022-12-25T00:33:21.953050",
     "status": "completed"
    },
    "tags": []
   },
   "outputs": [
    {
     "data": {
      "image/png": "[encoded data removed]",
      "text/plain": [
       "<Figure size 432x288 with 1 Axes>"
      ]
     },
     "metadata": {
      "needs_background": "light"
     },
     "output_type": "display_data"
    }
   ],
   "source": [
    "from sklearn.ensemble import ExtraTreesClassifier\n",
    "\n",
    "# feature extraction\n",
    "model = ExtraTreesClassifier(n_estimators=10)\n",
    "model.fit(N_features0, N_target0)\n",
    "\n",
    "\n",
    "# Calculate feature importances\n",
    "importances = model.feature_importances_\n",
    "indices = np.argsort(importances)[::-1]\n",
    "\n",
    "# Barplot: Add bars\n",
    "plt.bar(range(N_features0.shape[1]), importances[indices])\n",
    "# Add feature names as x-axis labels\n",
    "plt.xticks(range(N_features0.shape[1]), rotation=20, fontsize = 8)\n",
    "# Create plot title\n",
    "plt.title(\"Feature Importance\")\n",
    "# Show plot\n",
    "plt.show()"
   ]
  },
  {
   "cell_type": "markdown",
   "id": "fb68761e",
   "metadata": {
    "papermill": {
     "duration": 0.019755,
     "end_time": "2022-12-25T00:33:22.556743",
     "exception": false,
     "start_time": "2022-12-25T00:33:22.536988",
     "status": "completed"
    },
    "tags": []
   },
   "source": [
    "# ----------------------------------------------------------------"
   ]
  },
  {
   "cell_type": "markdown",
   "id": "7e49b976",
   "metadata": {
    "papermill": {
     "duration": 0.019979,
     "end_time": "2022-12-25T00:33:22.596843",
     "exception": false,
     "start_time": "2022-12-25T00:33:22.576864",
     "status": "completed"
    },
    "tags": []
   },
   "source": [
    "# Solve Problem Of Support Vector Classifier"
   ]
  },
  {
   "cell_type": "code",
   "execution_count": 10,
   "id": "324ee437",
   "metadata": {
    "execution": {
     "iopub.execute_input": "2022-12-25T00:33:22.639428Z",
     "iopub.status.busy": "2022-12-25T00:33:22.638680Z",
     "iopub.status.idle": "2022-12-25T00:33:22.644484Z",
     "shell.execute_reply": "2022-12-25T00:33:22.643574Z"
    },
    "papermill": {
     "duration": 0.029365,
     "end_time": "2022-12-25T00:33:22.646588",
     "exception": false,
     "start_time": "2022-12-25T00:33:22.617223",
     "status": "completed"
    },
    "tags": []
   },
   "outputs": [],
   "source": [
    "### Scale/normalize the features\n",
    "from sklearn.preprocessing import StandardScaler\n",
    "scaler=StandardScaler()\n",
    "N_features1=scaler.fit_transform(features)\n",
    "N_target1=target"
   ]
  },
  {
   "cell_type": "markdown",
   "id": "29d6d508",
   "metadata": {
    "papermill": {
     "duration": 0.019319,
     "end_time": "2022-12-25T00:33:22.685614",
     "exception": false,
     "start_time": "2022-12-25T00:33:22.666295",
     "status": "completed"
    },
    "tags": []
   },
   "source": [
    ">![](/kaggle/input/resources/6.png)"
   ]
  },
  {
   "cell_type": "code",
   "execution_count": 11,
   "id": "bccb5a81",
   "metadata": {
    "execution": {
     "iopub.execute_input": "2022-12-25T00:33:22.727220Z",
     "iopub.status.busy": "2022-12-25T00:33:22.726305Z",
     "iopub.status.idle": "2022-12-25T00:33:22.963266Z",
     "shell.execute_reply": "2022-12-25T00:33:22.962008Z"
    },
    "papermill": {
     "duration": 0.260593,
     "end_time": "2022-12-25T00:33:22.965743",
     "exception": false,
     "start_time": "2022-12-25T00:33:22.705150",
     "status": "completed"
    },
    "tags": []
   },
   "outputs": [
    {
     "data": {
      "image/png": "[encoded data removed]",
      "text/plain": [
       "<Figure size 432x288 with 1 Axes>"
      ]
     },
     "metadata": {
      "needs_background": "light"
     },
     "output_type": "display_data"
    }
   ],
   "source": [
    "from sklearn.ensemble import ExtraTreesClassifier\n",
    "\n",
    "# feature extraction\n",
    "model = ExtraTreesClassifier(n_estimators=10)\n",
    "model.fit(N_features1, N_target1)\n",
    "\n",
    "\n",
    "# Calculate feature importances\n",
    "importances = model.feature_importances_\n",
    "indices = np.argsort(importances)[::-1]\n",
    "\n",
    "# Barplot: Add bars\n",
    "plt.bar(range(N_features1.shape[1]), importances[indices])\n",
    "# Add feature names as x-axis labels\n",
    "plt.xticks(range(N_features1.shape[1]), rotation=20, fontsize = 8)\n",
    "# Create plot title\n",
    "plt.title(\"Feature Importance\")\n",
    "# Show plot\n",
    "plt.show()"
   ]
  },
  {
   "cell_type": "code",
   "execution_count": 12,
   "id": "140bb531",
   "metadata": {
    "execution": {
     "iopub.execute_input": "2022-12-25T00:33:23.008098Z",
     "iopub.status.busy": "2022-12-25T00:33:23.007595Z",
     "iopub.status.idle": "2022-12-25T00:33:23.128942Z",
     "shell.execute_reply": "2022-12-25T00:33:23.127243Z"
    },
    "papermill": {
     "duration": 0.145619,
     "end_time": "2022-12-25T00:33:23.131622",
     "exception": false,
     "start_time": "2022-12-25T00:33:22.986003",
     "status": "completed"
    },
    "tags": []
   },
   "outputs": [
    {
     "name": "stderr",
     "output_type": "stream",
     "text": [
      "/opt/conda/lib/python3.7/site-packages/seaborn/_decorators.py:43: FutureWarning: Pass the following variable as a keyword arg: x. From version 0.12, the only valid positional argument will be `data`, and passing other arguments without an explicit keyword will result in an error or misinterpretation.\n",
      "  FutureWarning\n"
     ]
    },
    {
     "data": {
      "text/plain": [
       "<AxesSubplot:>"
      ]
     },
     "execution_count": 12,
     "metadata": {},
     "output_type": "execute_result"
    },
    {
     "data": {
      "image/png": "[encoded data removed]",
      "text/plain": [
       "<Figure size 432x288 with 1 Axes>"
      ]
     },
     "metadata": {
      "needs_background": "light"
     },
     "output_type": "display_data"
    }
   ],
   "source": [
    "sns.boxplot(N_features0)"
   ]
  },
  {
   "cell_type": "code",
   "execution_count": 13,
   "id": "941719aa",
   "metadata": {
    "execution": {
     "iopub.execute_input": "2022-12-25T00:33:23.189444Z",
     "iopub.status.busy": "2022-12-25T00:33:23.188728Z",
     "iopub.status.idle": "2022-12-25T00:33:23.361650Z",
     "shell.execute_reply": "2022-12-25T00:33:23.360698Z"
    },
    "papermill": {
     "duration": 0.201191,
     "end_time": "2022-12-25T00:33:23.364100",
     "exception": false,
     "start_time": "2022-12-25T00:33:23.162909",
     "status": "completed"
    },
    "tags": []
   },
   "outputs": [
    {
     "data": {
      "text/plain": [
       "<AxesSubplot:>"
      ]
     },
     "execution_count": 13,
     "metadata": {},
     "output_type": "execute_result"
    },
    {
     "data": {
      "image/png": "[encoded data removed]",
      "text/plain": [
       "<Figure size 432x288 with 1 Axes>"
      ]
     },
     "metadata": {
      "needs_background": "light"
     },
     "output_type": "display_data"
    }
   ],
   "source": [
    "sns.boxplot(x=N_features1)"
   ]
  },
  {
   "cell_type": "code",
   "execution_count": 14,
   "id": "382c7d5e",
   "metadata": {
    "execution": {
     "iopub.execute_input": "2022-12-25T00:33:23.407615Z",
     "iopub.status.busy": "2022-12-25T00:33:23.407171Z",
     "iopub.status.idle": "2022-12-25T00:33:23.412409Z",
     "shell.execute_reply": "2022-12-25T00:33:23.411142Z"
    },
    "papermill": {
     "duration": 0.029607,
     "end_time": "2022-12-25T00:33:23.414824",
     "exception": false,
     "start_time": "2022-12-25T00:33:23.385217",
     "status": "completed"
    },
    "tags": []
   },
   "outputs": [],
   "source": [
    "# from datasist.structdata import detect_outliers\n",
    "\n",
    "# outliers = detect_outliers(df,0)\n",
    "# len(outliers)"
   ]
  },
  {
   "cell_type": "markdown",
   "id": "4af818a4",
   "metadata": {
    "papermill": {
     "duration": 0.020891,
     "end_time": "2022-12-25T00:33:23.457188",
     "exception": false,
     "start_time": "2022-12-25T00:33:23.436297",
     "status": "completed"
    },
    "tags": []
   },
   "source": [
    "# ---------------------------------------------------------------------------------------"
   ]
  },
  {
   "cell_type": "markdown",
   "id": "a9964674",
   "metadata": {
    "papermill": {
     "duration": 0.021331,
     "end_time": "2022-12-25T00:33:23.499986",
     "exception": false,
     "start_time": "2022-12-25T00:33:23.478655",
     "status": "completed"
    },
    "tags": []
   },
   "source": [
    "#### Some Data To Predict"
   ]
  },
  {
   "cell_type": "code",
   "execution_count": 15,
   "id": "72d02da4",
   "metadata": {
    "execution": {
     "iopub.execute_input": "2022-12-25T00:33:23.543070Z",
     "iopub.status.busy": "2022-12-25T00:33:23.542536Z",
     "iopub.status.idle": "2022-12-25T00:33:23.556605Z",
     "shell.execute_reply": "2022-12-25T00:33:23.555667Z"
    },
    "papermill": {
     "duration": 0.03857,
     "end_time": "2022-12-25T00:33:23.559027",
     "exception": false,
     "start_time": "2022-12-25T00:33:23.520457",
     "status": "completed"
    },
    "tags": []
   },
   "outputs": [],
   "source": [
    "Positive=[[176.858,205.56,75.344,0.00747,0.00004,0.00418,0.0042,0.01254,0.04795,0.435,0.02679,0.03022,0.0351,0.08037,0.0547,13.893,0.556494,0.729586,-5.288912,0.343073,3.099301,0.242119],\n",
    "          [178.222,202.45,141.047,0.00321,0.00002,0.00163,0.00194,0.00488,0.03759,0.327,0.02073,0.02415,0.02784,0.06219,0.03151,15.924,0.598714,0.712199,-6.366916,0.335753,2.654271,0.144614],\n",
    "          [173.898,211.35,74.677,0.00448,0.00003,0.00237,0.00254,0.0071,0.06727,0.65,0.03788,0.04254,0.04802,0.11363,0.04214,14.739,0.599371,0.743937,-5.783272,0.299793,3.007096,0.194052],\n",
    "          [125.036,143.946,116.187,0.0128,0.0001,0.00743,0.00623,0.02228,0.03886,0.342,0.02135,0.02174,0.03088,0.06406,0.08151,15.338,0.629574,0.714485,-4.020042,0.265315,2.671825,0.340623],\n",
    "          [125.641,141.068,116.346,0.03316,0.00026,0.02144,0.01522,0.06433,0.09178,0.891,0.05358,0.04791,0.06196,0.16074,0.31482,8.867,0.671299,0.656846,-3.700544,0.260481,2.991063,0.370961]  ]\n",
    "\n",
    "Negative=[[129.336,139.867,118.604,0.0049,0.00004,0.00165,0.00183,0.00495,0.02498,0.228,0.01396,0.01219,0.01947,0.04188,0.00484,25.429,0.420383,0.785714,-6.836811,0.269866,2.223719,0.147491],\n",
    "          [128.001,138.052,122.08,0.00436,0.00003,0.00137,0.00166,0.00411,0.02297,0.21,0.01323,0.01072,0.01677,0.03969,0.00481,24.692,0.459766,0.766204,-7.072419,0.220434,1.972297,0.119308],\n",
    "          [122.188,128.611,115.765,0.00524,0.00004,0.00169,0.00203,0.00507,0.01613,0.143,0.00855,0.00776,0.01433,0.02566,0.00839,23.162,0.579597,0.733659,-6.439398,0.266392,2.079922,0.133867],\n",
    "          [245.51,262.09,231.848,0.00235,0.00001,0.00127,0.00148,0.0038,0.01608,0.141,0.00906,0.00977,0.01149,0.02719,0.00476,24.602,0.467489,0.631653,-7.156076,0.127642,2.392122,0.097336],\n",
    "          [243.439,250.912,232.435,0.0021,0.000009,0.00109,0.00137,0.00327,0.01419,0.126,0.00777,0.00898,0.01033,0.0233,0.00454,25.368,0.438296,0.635285,-7.057869,0.091608,2.330716,0.09147]   ]"
   ]
  },
  {
   "cell_type": "markdown",
   "id": "b9b612bf",
   "metadata": {
    "papermill": {
     "duration": 0.020763,
     "end_time": "2022-12-25T00:33:23.601030",
     "exception": false,
     "start_time": "2022-12-25T00:33:23.580267",
     "status": "completed"
    },
    "tags": []
   },
   "source": [
    "# Load Models to use if (Saved)"
   ]
  },
  {
   "cell_type": "code",
   "execution_count": 16,
   "id": "b67a7bea",
   "metadata": {
    "execution": {
     "iopub.execute_input": "2022-12-25T00:33:23.650165Z",
     "iopub.status.busy": "2022-12-25T00:33:23.649697Z",
     "iopub.status.idle": "2022-12-25T00:33:23.654183Z",
     "shell.execute_reply": "2022-12-25T00:33:23.653140Z"
    },
    "papermill": {
     "duration": 0.032587,
     "end_time": "2022-12-25T00:33:23.656312",
     "exception": false,
     "start_time": "2022-12-25T00:33:23.623725",
     "status": "completed"
    },
    "tags": []
   },
   "outputs": [],
   "source": [
    "# LRModel  =load('LogisticRegression.joblib')\n",
    "# SVCModel =load('SupporVectorClassification.joblib')\n",
    "# KNNModel =load('k-NearestNeighbor.joblib')\n",
    "# DTModel  =load('DecisionTree.joblib')"
   ]
  },
  {
   "cell_type": "markdown",
   "id": "a0bddc91",
   "metadata": {
    "papermill": {
     "duration": 0.020557,
     "end_time": "2022-12-25T00:33:23.697682",
     "exception": false,
     "start_time": "2022-12-25T00:33:23.677125",
     "status": "completed"
    },
    "tags": []
   },
   "source": [
    "# MAKE A MODEL TO PREDETION"
   ]
  },
  {
   "cell_type": "markdown",
   "id": "ee89da4d",
   "metadata": {
    "papermill": {
     "duration": 0.020427,
     "end_time": "2022-12-25T00:33:23.738998",
     "exception": false,
     "start_time": "2022-12-25T00:33:23.718571",
     "status": "completed"
    },
    "tags": []
   },
   "source": [
    "# Logistic Regression"
   ]
  },
  {
   "cell_type": "markdown",
   "id": "9abf6a2f",
   "metadata": {
    "papermill": {
     "duration": 0.021176,
     "end_time": "2022-12-25T00:33:23.780793",
     "exception": false,
     "start_time": "2022-12-25T00:33:23.759617",
     "status": "completed"
    },
    "tags": []
   },
   "source": [
    "# Fisrt Way (Recommended)"
   ]
  },
  {
   "cell_type": "code",
   "execution_count": 17,
   "id": "44548fa1",
   "metadata": {
    "execution": {
     "iopub.execute_input": "2022-12-25T00:33:23.824704Z",
     "iopub.status.busy": "2022-12-25T00:33:23.823682Z",
     "iopub.status.idle": "2022-12-25T00:33:23.915308Z",
     "shell.execute_reply": "2022-12-25T00:33:23.914018Z"
    },
    "papermill": {
     "duration": 0.116244,
     "end_time": "2022-12-25T00:33:23.918049",
     "exception": false,
     "start_time": "2022-12-25T00:33:23.801805",
     "status": "completed"
    },
    "tags": []
   },
   "outputs": [],
   "source": [
    "from sklearn.model_selection import train_test_split\n",
    "from sklearn.linear_model import LogisticRegression\n",
    "from sklearn.metrics import accuracy_score, precision_score, recall_score, f1_score\n",
    "\n",
    "LR_matrices = {\"accuracy\" : [], \"precision\" : [], \"recall\" : [], \"f1-score\" : []}\n",
    "size = .5\n",
    "\n",
    "while size >= .1:\n",
    "\n",
    "    x_train,x_test,y_train,y_test=train_test_split(N_features0, N_target0, test_size=size, shuffle=False)\n",
    "    \n",
    "    LRModel=LogisticRegression()\n",
    "\n",
    "    LRModel.fit(x_train,y_train)\n",
    "\n",
    "    y_pred=LRModel.predict(x_test)\n",
    "\n",
    "\n",
    "    accuracy = accuracy_score(y_test, y_pred)\n",
    "    LR_matrices[\"accuracy\"].append(accuracy * 100)\n",
    "        \n",
    "    precision = precision_score(y_test, y_pred)\n",
    "    LR_matrices[\"precision\"].append(precision * 100)\n",
    "    \n",
    "    recall = recall_score(y_test, y_pred)\n",
    "    LR_matrices[\"recall\"].append(recall * 100)\n",
    "    \n",
    "    f1Score = f1_score(y_test, y_pred)\n",
    "    LR_matrices[\"f1-score\"].append(f1Score * 100)\n",
    "    \n",
    "    \n",
    "    size -= .05"
   ]
  },
  {
   "cell_type": "code",
   "execution_count": 18,
   "id": "aa212636",
   "metadata": {
    "execution": {
     "iopub.execute_input": "2022-12-25T00:33:23.961644Z",
     "iopub.status.busy": "2022-12-25T00:33:23.961205Z",
     "iopub.status.idle": "2022-12-25T00:33:24.228841Z",
     "shell.execute_reply": "2022-12-25T00:33:24.227294Z"
    },
    "papermill": {
     "duration": 0.2925,
     "end_time": "2022-12-25T00:33:24.231561",
     "exception": false,
     "start_time": "2022-12-25T00:33:23.939061",
     "status": "completed"
    },
    "tags": []
   },
   "outputs": [
    {
     "data": {
      "image/png": "[encoded data removed]",
      "text/plain": [
       "<Figure size 432x288 with 1 Axes>"
      ]
     },
     "metadata": {
      "needs_background": "light"
     },
     "output_type": "display_data"
    }
   ],
   "source": [
    "training_size = [\"50%\",\"55%\",\"60%\", \"65%\", \"70%\", \"75%\", \"80%\", \"85%\", \"90%\"]\n",
    "\n",
    "\n",
    "plt.plot(training_size , LR_matrices['accuracy'], label=\"Accuracy\")\n",
    "plt.plot(training_size , LR_matrices['precision'], label=\"Precision\")\n",
    "plt.plot(training_size , LR_matrices['recall'], label=\"Recall\")\n",
    "plt.plot(training_size , LR_matrices['f1-score'], label=\"F1-Score\")\n",
    "\n",
    "plt.ylabel(\"%\")\n",
    "plt.xlabel(\"Training Size\")\n",
    "plt.legend(loc=\"upper left\")\n",
    "plt.grid(linestyle='--', linewidth=1)"
   ]
  },
  {
   "cell_type": "markdown",
   "id": "28737463",
   "metadata": {
    "papermill": {
     "duration": 0.021309,
     "end_time": "2022-12-25T00:33:24.275022",
     "exception": false,
     "start_time": "2022-12-25T00:33:24.253713",
     "status": "completed"
    },
    "tags": []
   },
   "source": [
    "# Second Way"
   ]
  },
  {
   "cell_type": "markdown",
   "id": "bbd0312f",
   "metadata": {
    "papermill": {
     "duration": 0.021314,
     "end_time": "2022-12-25T00:33:24.317950",
     "exception": false,
     "start_time": "2022-12-25T00:33:24.296636",
     "status": "completed"
    },
    "tags": []
   },
   "source": [
    "## SPLITTING DATA"
   ]
  },
  {
   "cell_type": "code",
   "execution_count": 19,
   "id": "d9b156b0",
   "metadata": {
    "execution": {
     "iopub.execute_input": "2022-12-25T00:33:24.363003Z",
     "iopub.status.busy": "2022-12-25T00:33:24.362535Z",
     "iopub.status.idle": "2022-12-25T00:33:24.369021Z",
     "shell.execute_reply": "2022-12-25T00:33:24.367811Z"
    },
    "papermill": {
     "duration": 0.031674,
     "end_time": "2022-12-25T00:33:24.371298",
     "exception": false,
     "start_time": "2022-12-25T00:33:24.339624",
     "status": "completed"
    },
    "tags": []
   },
   "outputs": [],
   "source": [
    "from sklearn.model_selection import train_test_split\n",
    "x_train,x_test,y_train,y_test=train_test_split(N_features0, N_target0, test_size=0.3, shuffle=False)"
   ]
  },
  {
   "cell_type": "markdown",
   "id": "3b3ace47",
   "metadata": {
    "papermill": {
     "duration": 0.02148,
     "end_time": "2022-12-25T00:33:24.414589",
     "exception": false,
     "start_time": "2022-12-25T00:33:24.393109",
     "status": "completed"
    },
    "tags": []
   },
   "source": [
    "## MAKE A MODEL TO PREDETION"
   ]
  },
  {
   "cell_type": "code",
   "execution_count": 20,
   "id": "77a6e4d0",
   "metadata": {
    "execution": {
     "iopub.execute_input": "2022-12-25T00:33:24.460253Z",
     "iopub.status.busy": "2022-12-25T00:33:24.459808Z",
     "iopub.status.idle": "2022-12-25T00:33:24.475200Z",
     "shell.execute_reply": "2022-12-25T00:33:24.473963Z"
    },
    "papermill": {
     "duration": 0.041682,
     "end_time": "2022-12-25T00:33:24.478183",
     "exception": false,
     "start_time": "2022-12-25T00:33:24.436501",
     "status": "completed"
    },
    "tags": []
   },
   "outputs": [
    {
     "name": "stdout",
     "output_type": "stream",
     "text": [
      "Logistic Regression Model Train Score is :  83.09 %\n",
      "Logistic Regression Model Test Score Is : 83.05 %\n"
     ]
    }
   ],
   "source": [
    "from sklearn.linear_model import LogisticRegression\n",
    "\n",
    "LRModel=LogisticRegression()\n",
    "\n",
    "LRModel.fit(x_train,y_train)\n",
    "\n",
    "y_pred=LRModel.predict(x_test)\n",
    "\n",
    "#Calculating Details\n",
    "\n",
    "print('Logistic Regression Model Train Score is : ' , round((LRModel.score(x_train,y_train)*100),2),'%')\n",
    "print(f\"Logistic Regression Model Test Score Is : {round((LRModel.score(x_test,y_test)*100),2)} %\")"
   ]
  },
  {
   "cell_type": "markdown",
   "id": "cae05694",
   "metadata": {
    "papermill": {
     "duration": 0.02264,
     "end_time": "2022-12-25T00:33:24.524989",
     "exception": false,
     "start_time": "2022-12-25T00:33:24.502349",
     "status": "completed"
    },
    "tags": []
   },
   "source": [
    "## Predect New Data"
   ]
  },
  {
   "cell_type": "code",
   "execution_count": 21,
   "id": "ee0c2ea1",
   "metadata": {
    "execution": {
     "iopub.execute_input": "2022-12-25T00:33:24.569771Z",
     "iopub.status.busy": "2022-12-25T00:33:24.569333Z",
     "iopub.status.idle": "2022-12-25T00:33:24.576675Z",
     "shell.execute_reply": "2022-12-25T00:33:24.575341Z"
    },
    "papermill": {
     "duration": 0.032784,
     "end_time": "2022-12-25T00:33:24.579228",
     "exception": false,
     "start_time": "2022-12-25T00:33:24.546444",
     "status": "completed"
    },
    "tags": []
   },
   "outputs": [],
   "source": [
    "INPUT_DATA=(Positive[0])\n",
    "# INPUT_DATA=(Negative[0])\n",
    "\n",
    "INPUT_DATA_NP=np.asarray(INPUT_DATA)\n",
    "INPUT_DATA_NP_RE=INPUT_DATA_NP.reshape(1,-1)\n",
    "FINAL_DATA=scaler.transform(INPUT_DATA_NP_RE)\n",
    "\n",
    "PREDICTION=LRModel.predict(FINAL_DATA)"
   ]
  },
  {
   "cell_type": "code",
   "execution_count": 22,
   "id": "26bb6cd7",
   "metadata": {
    "execution": {
     "iopub.execute_input": "2022-12-25T00:33:24.624704Z",
     "iopub.status.busy": "2022-12-25T00:33:24.624243Z",
     "iopub.status.idle": "2022-12-25T00:33:24.631168Z",
     "shell.execute_reply": "2022-12-25T00:33:24.629359Z"
    },
    "papermill": {
     "duration": 0.032593,
     "end_time": "2022-12-25T00:33:24.633687",
     "exception": false,
     "start_time": "2022-12-25T00:33:24.601094",
     "status": "completed"
    },
    "tags": []
   },
   "outputs": [
    {
     "name": "stdout",
     "output_type": "stream",
     "text": [
      "Positive , Parkinson's Found\n"
     ]
    }
   ],
   "source": [
    "if PREDICTION ==1:\n",
    "    print(\"Positive , Parkinson's Found\")\n",
    "else :\n",
    "    print(\"Negative , No Parkinson's Found\")"
   ]
  },
  {
   "cell_type": "markdown",
   "id": "64f111d4",
   "metadata": {
    "papermill": {
     "duration": 0.022235,
     "end_time": "2022-12-25T00:33:24.678089",
     "exception": false,
     "start_time": "2022-12-25T00:33:24.655854",
     "status": "completed"
    },
    "tags": []
   },
   "source": [
    "# ---------------------------------------------------------------------------------------"
   ]
  },
  {
   "cell_type": "markdown",
   "id": "5c26876d",
   "metadata": {
    "papermill": {
     "duration": 0.021323,
     "end_time": "2022-12-25T00:33:24.721418",
     "exception": false,
     "start_time": "2022-12-25T00:33:24.700095",
     "status": "completed"
    },
    "tags": []
   },
   "source": [
    "# SVC  "
   ]
  },
  {
   "cell_type": "markdown",
   "id": "769c2729",
   "metadata": {
    "papermill": {
     "duration": 0.021304,
     "end_time": "2022-12-25T00:33:24.764835",
     "exception": false,
     "start_time": "2022-12-25T00:33:24.743531",
     "status": "completed"
    },
    "tags": []
   },
   "source": [
    "# First Way (Recomended)"
   ]
  },
  {
   "cell_type": "code",
   "execution_count": 23,
   "id": "2f565ff4",
   "metadata": {
    "execution": {
     "iopub.execute_input": "2022-12-25T00:33:24.810200Z",
     "iopub.status.busy": "2022-12-25T00:33:24.809756Z",
     "iopub.status.idle": "2022-12-25T00:33:24.896537Z",
     "shell.execute_reply": "2022-12-25T00:33:24.895144Z"
    },
    "papermill": {
     "duration": 0.112741,
     "end_time": "2022-12-25T00:33:24.899465",
     "exception": false,
     "start_time": "2022-12-25T00:33:24.786724",
     "status": "completed"
    },
    "tags": []
   },
   "outputs": [],
   "source": [
    "from sklearn.model_selection import train_test_split\n",
    "from sklearn.svm import SVC\n",
    "from sklearn.metrics import accuracy_score, precision_score, recall_score, f1_score\n",
    "\n",
    "SVC_matrices = {\"accuracy\" : [], \"precision\" : [], \"recall\" : [], \"f1-score\" : []}\n",
    "size = .5\n",
    "\n",
    "while size >= .1:\n",
    "\n",
    "    x_train,x_test,y_train,y_test=train_test_split(N_features1, N_target1, test_size=size, shuffle=False)\n",
    "    \n",
    "    SVCModel = SVC(kernel= 'sigmoid', max_iter=200, C=1,gamma='auto', probability=True)\n",
    "\n",
    "    SVCModel.fit(x_train, y_train)\n",
    "\n",
    "    y_pred  = SVCModel.predict(x_test)\n",
    "\n",
    "\n",
    "    accuracy = accuracy_score(y_test, y_pred)\n",
    "    SVC_matrices[\"accuracy\"].append(accuracy * 100)\n",
    "        \n",
    "    precision = precision_score(y_test, y_pred)\n",
    "    SVC_matrices[\"precision\"].append(precision * 100)\n",
    "    \n",
    "    recall = recall_score(y_test, y_pred)\n",
    "    SVC_matrices[\"recall\"].append(recall * 100)\n",
    "    \n",
    "    f1Score = f1_score(y_test, y_pred)\n",
    "    SVC_matrices[\"f1-score\"].append(f1Score * 100)\n",
    "    \n",
    "    \n",
    "    size -= .05"
   ]
  },
  {
   "cell_type": "code",
   "execution_count": 24,
   "id": "2875aac1",
   "metadata": {
    "execution": {
     "iopub.execute_input": "2022-12-25T00:33:24.945914Z",
     "iopub.status.busy": "2022-12-25T00:33:24.944733Z",
     "iopub.status.idle": "2022-12-25T00:33:25.217066Z",
     "shell.execute_reply": "2022-12-25T00:33:25.215912Z"
    },
    "papermill": {
     "duration": 0.29876,
     "end_time": "2022-12-25T00:33:25.220072",
     "exception": false,
     "start_time": "2022-12-25T00:33:24.921312",
     "status": "completed"
    },
    "tags": []
   },
   "outputs": [
    {
     "data": {
      "image/png": "[encoded data removed]",
      "text/plain": [
       "<Figure size 432x288 with 1 Axes>"
      ]
     },
     "metadata": {
      "needs_background": "light"
     },
     "output_type": "display_data"
    }
   ],
   "source": [
    "training_size = [\"50%\",\"55%\",\"60%\", \"65%\", \"70%\", \"75%\", \"80%\", \"85%\", \"90%\"]\n",
    "\n",
    "\n",
    "plt.plot(training_size , SVC_matrices['accuracy'], label=\"Accuracy\")\n",
    "plt.plot(training_size , SVC_matrices['precision'], label=\"Precision\")\n",
    "plt.plot(training_size , SVC_matrices['recall'], label=\"Recall\")\n",
    "plt.plot(training_size , SVC_matrices['f1-score'], label=\"F1-Score\")\n",
    "\n",
    "plt.ylabel(\"%\")\n",
    "plt.xlabel(\"Training Size\")\n",
    "plt.legend(loc=\"upper left\")\n",
    "plt.grid(linestyle='--', linewidth=1)"
   ]
  },
  {
   "cell_type": "markdown",
   "id": "ffcfdcf4",
   "metadata": {
    "papermill": {
     "duration": 0.022784,
     "end_time": "2022-12-25T00:33:25.265657",
     "exception": false,
     "start_time": "2022-12-25T00:33:25.242873",
     "status": "completed"
    },
    "tags": []
   },
   "source": [
    "# Second Way"
   ]
  },
  {
   "cell_type": "markdown",
   "id": "a51e61f9",
   "metadata": {
    "papermill": {
     "duration": 0.022098,
     "end_time": "2022-12-25T00:33:25.310297",
     "exception": false,
     "start_time": "2022-12-25T00:33:25.288199",
     "status": "completed"
    },
    "tags": []
   },
   "source": [
    "## SPLITTING DATA"
   ]
  },
  {
   "cell_type": "code",
   "execution_count": 25,
   "id": "e0bd078f",
   "metadata": {
    "execution": {
     "iopub.execute_input": "2022-12-25T00:33:25.357637Z",
     "iopub.status.busy": "2022-12-25T00:33:25.356797Z",
     "iopub.status.idle": "2022-12-25T00:33:25.363369Z",
     "shell.execute_reply": "2022-12-25T00:33:25.362502Z"
    },
    "papermill": {
     "duration": 0.033103,
     "end_time": "2022-12-25T00:33:25.365785",
     "exception": false,
     "start_time": "2022-12-25T00:33:25.332682",
     "status": "completed"
    },
    "tags": []
   },
   "outputs": [],
   "source": [
    "from sklearn.model_selection import train_test_split\n",
    "x_train1,x_test1,y_train1,y_test1=train_test_split(N_features1,N_target1, test_size=0.33,shuffle=False)"
   ]
  },
  {
   "cell_type": "markdown",
   "id": "e808931a",
   "metadata": {
    "papermill": {
     "duration": 0.021949,
     "end_time": "2022-12-25T00:33:25.410673",
     "exception": false,
     "start_time": "2022-12-25T00:33:25.388724",
     "status": "completed"
    },
    "tags": []
   },
   "source": [
    "## MAKE A MODEL TO PREDETION"
   ]
  },
  {
   "cell_type": "code",
   "execution_count": 26,
   "id": "10a7a298",
   "metadata": {
    "execution": {
     "iopub.execute_input": "2022-12-25T00:33:25.458682Z",
     "iopub.status.busy": "2022-12-25T00:33:25.457832Z",
     "iopub.status.idle": "2022-12-25T00:33:25.474432Z",
     "shell.execute_reply": "2022-12-25T00:33:25.472975Z"
    },
    "papermill": {
     "duration": 0.043487,
     "end_time": "2022-12-25T00:33:25.477033",
     "exception": false,
     "start_time": "2022-12-25T00:33:25.433546",
     "status": "completed"
    },
    "tags": []
   },
   "outputs": [
    {
     "name": "stdout",
     "output_type": "stream",
     "text": [
      "SVC Model Train Score Is :  84.62 %\n",
      "SVC Model Test Score Is : 83.08 %\n"
     ]
    }
   ],
   "source": [
    "from sklearn.svm import SVC\n",
    "\n",
    "SVCModel = SVC(kernel= 'sigmoid', max_iter=200, C=1,gamma='auto', probability=True)\n",
    "\n",
    "SVCModel.fit(x_train1, y_train1)\n",
    "\n",
    "y_pred1  = SVCModel.predict(x_test1)\n",
    "\n",
    "#Calculating Details\n",
    "\n",
    "print('SVC Model Train Score Is : ' ,round((SVCModel.score(x_train1,y_train1)*100),2),'%')\n",
    "print(f\"SVC Model Test Score Is : {round((SVCModel.score(x_test1,y_test1)*100),2)} %\")"
   ]
  },
  {
   "cell_type": "markdown",
   "id": "d116ae26",
   "metadata": {
    "papermill": {
     "duration": 0.022904,
     "end_time": "2022-12-25T00:33:25.522646",
     "exception": false,
     "start_time": "2022-12-25T00:33:25.499742",
     "status": "completed"
    },
    "tags": []
   },
   "source": [
    "## Predect New Data"
   ]
  },
  {
   "cell_type": "code",
   "execution_count": 27,
   "id": "88d63b3e",
   "metadata": {
    "execution": {
     "iopub.execute_input": "2022-12-25T00:33:25.569975Z",
     "iopub.status.busy": "2022-12-25T00:33:25.569145Z",
     "iopub.status.idle": "2022-12-25T00:33:25.576507Z",
     "shell.execute_reply": "2022-12-25T00:33:25.575217Z"
    },
    "papermill": {
     "duration": 0.033513,
     "end_time": "2022-12-25T00:33:25.578709",
     "exception": false,
     "start_time": "2022-12-25T00:33:25.545196",
     "status": "completed"
    },
    "tags": []
   },
   "outputs": [],
   "source": [
    "INPUT_DATA1=(Positive[0])\n",
    "# INPUT_DATA1=(Negative[0])\n",
    "INPUT_DATA_NP1=np.asarray(INPUT_DATA1)\n",
    "INPUT_DATA_NP_RE1=INPUT_DATA_NP.reshape(1,-1)\n",
    "FINAL_DATA1=scaler.transform(INPUT_DATA_NP_RE1)\n",
    "\n",
    "PREDICTION1=SVCModel.predict(FINAL_DATA1)"
   ]
  },
  {
   "cell_type": "code",
   "execution_count": 28,
   "id": "dd59a432",
   "metadata": {
    "execution": {
     "iopub.execute_input": "2022-12-25T00:33:25.630025Z",
     "iopub.status.busy": "2022-12-25T00:33:25.629342Z",
     "iopub.status.idle": "2022-12-25T00:33:25.635990Z",
     "shell.execute_reply": "2022-12-25T00:33:25.634486Z"
    },
    "papermill": {
     "duration": 0.037261,
     "end_time": "2022-12-25T00:33:25.639310",
     "exception": false,
     "start_time": "2022-12-25T00:33:25.602049",
     "status": "completed"
    },
    "scrolled": true,
    "tags": []
   },
   "outputs": [
    {
     "name": "stdout",
     "output_type": "stream",
     "text": [
      "Positive , Parkinson's Found\n"
     ]
    }
   ],
   "source": [
    "if PREDICTION1 ==1:\n",
    "    print(\"Positive , Parkinson's Found\")\n",
    "else :\n",
    "    print(\"Negative , No Parkinson's Found\")"
   ]
  },
  {
   "cell_type": "markdown",
   "id": "46b67e62",
   "metadata": {
    "papermill": {
     "duration": 0.022617,
     "end_time": "2022-12-25T00:33:25.685192",
     "exception": false,
     "start_time": "2022-12-25T00:33:25.662575",
     "status": "completed"
    },
    "tags": []
   },
   "source": [
    "# ---------------------------------------------------------------------------------------"
   ]
  },
  {
   "cell_type": "markdown",
   "id": "e35b3a05",
   "metadata": {
    "papermill": {
     "duration": 0.022965,
     "end_time": "2022-12-25T00:33:25.730743",
     "exception": false,
     "start_time": "2022-12-25T00:33:25.707778",
     "status": "completed"
    },
    "tags": []
   },
   "source": [
    "# KNN"
   ]
  },
  {
   "cell_type": "markdown",
   "id": "24f19a22",
   "metadata": {
    "papermill": {
     "duration": 0.02251,
     "end_time": "2022-12-25T00:33:25.777340",
     "exception": false,
     "start_time": "2022-12-25T00:33:25.754830",
     "status": "completed"
    },
    "tags": []
   },
   "source": [
    "# First Way (Recomended)"
   ]
  },
  {
   "cell_type": "code",
   "execution_count": 29,
   "id": "85221333",
   "metadata": {
    "execution": {
     "iopub.execute_input": "2022-12-25T00:33:25.824248Z",
     "iopub.status.busy": "2022-12-25T00:33:25.823758Z",
     "iopub.status.idle": "2022-12-25T00:33:25.882578Z",
     "shell.execute_reply": "2022-12-25T00:33:25.881371Z"
    },
    "papermill": {
     "duration": 0.085533,
     "end_time": "2022-12-25T00:33:25.885327",
     "exception": false,
     "start_time": "2022-12-25T00:33:25.799794",
     "status": "completed"
    },
    "tags": []
   },
   "outputs": [],
   "source": [
    "from sklearn.model_selection import train_test_split\n",
    "from sklearn.neighbors import KNeighborsClassifier \n",
    "from sklearn.metrics import accuracy_score, precision_score, recall_score, f1_score\n",
    "\n",
    "KNN_matrices = {\"accuracy\" : [], \"precision\" : [], \"recall\" : [], \"f1-score\" : []}\n",
    "size = .5\n",
    "\n",
    "while size >= .1:\n",
    "\n",
    "    x_train,x_test,y_train,y_test=train_test_split(N_features0, N_target0, test_size=size, shuffle=False)\n",
    "    \n",
    "    KNNModel= KNeighborsClassifier()\n",
    "\n",
    "    KNNModel.fit(x_train,y_train)\n",
    "\n",
    "    y_pred = KNNModel.predict(x_test)\n",
    "\n",
    "\n",
    "    accuracy = accuracy_score(y_test, y_pred)\n",
    "    KNN_matrices[\"accuracy\"].append(accuracy * 100)\n",
    "        \n",
    "    precision = precision_score(y_test, y_pred)\n",
    "    KNN_matrices[\"precision\"].append(precision * 100)\n",
    "    \n",
    "    recall = recall_score(y_test, y_pred)\n",
    "    KNN_matrices[\"recall\"].append(recall * 100)\n",
    "    \n",
    "    f1Score = f1_score(y_test, y_pred)\n",
    "    KNN_matrices[\"f1-score\"].append(f1Score * 100)\n",
    "    \n",
    "    \n",
    "    size -= .05"
   ]
  },
  {
   "cell_type": "code",
   "execution_count": 30,
   "id": "eaa708a9",
   "metadata": {
    "execution": {
     "iopub.execute_input": "2022-12-25T00:33:25.935210Z",
     "iopub.status.busy": "2022-12-25T00:33:25.934769Z",
     "iopub.status.idle": "2022-12-25T00:33:26.214844Z",
     "shell.execute_reply": "2022-12-25T00:33:26.213616Z"
    },
    "papermill": {
     "duration": 0.307398,
     "end_time": "2022-12-25T00:33:26.217581",
     "exception": false,
     "start_time": "2022-12-25T00:33:25.910183",
     "status": "completed"
    },
    "tags": []
   },
   "outputs": [
    {
     "data": {
      "image/png": "[encoded data removed]",
      "text/plain": [
       "<Figure size 432x288 with 1 Axes>"
      ]
     },
     "metadata": {
      "needs_background": "light"
     },
     "output_type": "display_data"
    }
   ],
   "source": [
    "training_size = [\"50%\",\"55%\",\"60%\", \"65%\", \"70%\", \"75%\", \"80%\", \"85%\", \"90%\"]\n",
    "\n",
    "\n",
    "plt.plot(training_size , KNN_matrices['accuracy'], label=\"Accuracy\")\n",
    "plt.plot(training_size , KNN_matrices['precision'], label=\"Precision\")\n",
    "plt.plot(training_size , KNN_matrices['recall'], label=\"Recall\")\n",
    "plt.plot(training_size , KNN_matrices['f1-score'], label=\"F1-Score\")\n",
    "\n",
    "plt.ylabel(\"%\")\n",
    "plt.xlabel(\"Training Size\")\n",
    "plt.legend(loc=\"upper left\")\n",
    "plt.grid(linestyle='--', linewidth=1)"
   ]
  },
  {
   "cell_type": "markdown",
   "id": "2c7192b4",
   "metadata": {
    "papermill": {
     "duration": 0.024301,
     "end_time": "2022-12-25T00:33:26.265818",
     "exception": false,
     "start_time": "2022-12-25T00:33:26.241517",
     "status": "completed"
    },
    "tags": []
   },
   "source": [
    "# Second Way"
   ]
  },
  {
   "cell_type": "markdown",
   "id": "22c52d30",
   "metadata": {
    "papermill": {
     "duration": 0.02303,
     "end_time": "2022-12-25T00:33:26.312437",
     "exception": false,
     "start_time": "2022-12-25T00:33:26.289407",
     "status": "completed"
    },
    "tags": []
   },
   "source": [
    "## SPLITTING DATA"
   ]
  },
  {
   "cell_type": "code",
   "execution_count": 31,
   "id": "899731f3",
   "metadata": {
    "execution": {
     "iopub.execute_input": "2022-12-25T00:33:26.361535Z",
     "iopub.status.busy": "2022-12-25T00:33:26.360836Z",
     "iopub.status.idle": "2022-12-25T00:33:26.366683Z",
     "shell.execute_reply": "2022-12-25T00:33:26.365845Z"
    },
    "papermill": {
     "duration": 0.03329,
     "end_time": "2022-12-25T00:33:26.369137",
     "exception": false,
     "start_time": "2022-12-25T00:33:26.335847",
     "status": "completed"
    },
    "tags": []
   },
   "outputs": [],
   "source": [
    "from sklearn.model_selection import train_test_split\n",
    "x_train2,x_test2,y_train2,y_test2=train_test_split(N_features0,N_target0, test_size=0.1,shuffle=False)"
   ]
  },
  {
   "cell_type": "markdown",
   "id": "952d7239",
   "metadata": {
    "papermill": {
     "duration": 0.024337,
     "end_time": "2022-12-25T00:33:26.418101",
     "exception": false,
     "start_time": "2022-12-25T00:33:26.393764",
     "status": "completed"
    },
    "tags": []
   },
   "source": [
    "## MAKE A MODEL TO PREDETION"
   ]
  },
  {
   "cell_type": "code",
   "execution_count": 32,
   "id": "f70256be",
   "metadata": {
    "execution": {
     "iopub.execute_input": "2022-12-25T00:33:26.469496Z",
     "iopub.status.busy": "2022-12-25T00:33:26.469061Z",
     "iopub.status.idle": "2022-12-25T00:33:26.503603Z",
     "shell.execute_reply": "2022-12-25T00:33:26.501947Z"
    },
    "papermill": {
     "duration": 0.064665,
     "end_time": "2022-12-25T00:33:26.508057",
     "exception": false,
     "start_time": "2022-12-25T00:33:26.443392",
     "status": "completed"
    },
    "tags": []
   },
   "outputs": [
    {
     "name": "stdout",
     "output_type": "stream",
     "text": [
      "KNN Model Train Score Is :  96.0 %\n",
      "KNN Model Test Score Is : 90.0 %\n"
     ]
    }
   ],
   "source": [
    "from sklearn.neighbors import KNeighborsClassifier\n",
    "\n",
    "KNNModel= KNeighborsClassifier()\n",
    "\n",
    "KNNModel.fit(x_train2,y_train2)\n",
    "\n",
    "y_pred2 = KNNModel.predict(x_test2)\n",
    "\n",
    "#Calculating Details\n",
    "\n",
    "print('KNN Model Train Score Is : ' ,round((KNNModel.score(x_train,y_train)*100),2),'%')\n",
    "print(f\"KNN Model Test Score Is : {round((KNNModel.score(x_test,y_test)*100),2)} %\")"
   ]
  },
  {
   "cell_type": "markdown",
   "id": "0917c0f1",
   "metadata": {
    "papermill": {
     "duration": 0.044212,
     "end_time": "2022-12-25T00:33:26.614707",
     "exception": false,
     "start_time": "2022-12-25T00:33:26.570495",
     "status": "completed"
    },
    "tags": []
   },
   "source": [
    "## Predect New Data"
   ]
  },
  {
   "cell_type": "code",
   "execution_count": 33,
   "id": "e3e3e13e",
   "metadata": {
    "execution": {
     "iopub.execute_input": "2022-12-25T00:33:26.679351Z",
     "iopub.status.busy": "2022-12-25T00:33:26.677616Z",
     "iopub.status.idle": "2022-12-25T00:33:26.688172Z",
     "shell.execute_reply": "2022-12-25T00:33:26.686953Z"
    },
    "papermill": {
     "duration": 0.047137,
     "end_time": "2022-12-25T00:33:26.691492",
     "exception": false,
     "start_time": "2022-12-25T00:33:26.644355",
     "status": "completed"
    },
    "tags": []
   },
   "outputs": [],
   "source": [
    "INPUT_DATA2=(Positive[0])\n",
    "# INPUT_DATA2=(Negative[0])\n",
    "INPUT_DATA_NP2=np.asarray(INPUT_DATA2)\n",
    "\n",
    "INPUT_DATA_NP_RE2=INPUT_DATA_NP2.reshape(1,-1)\n",
    "\n",
    "FINAL_DATA2=scaler.transform(INPUT_DATA_NP_RE2)\n",
    "\n",
    "PREDICTION2=KNNModel.predict(FINAL_DATA2)"
   ]
  },
  {
   "cell_type": "code",
   "execution_count": 34,
   "id": "a015797a",
   "metadata": {
    "execution": {
     "iopub.execute_input": "2022-12-25T00:33:26.753731Z",
     "iopub.status.busy": "2022-12-25T00:33:26.753060Z",
     "iopub.status.idle": "2022-12-25T00:33:26.759824Z",
     "shell.execute_reply": "2022-12-25T00:33:26.758233Z"
    },
    "papermill": {
     "duration": 0.03611,
     "end_time": "2022-12-25T00:33:26.762165",
     "exception": false,
     "start_time": "2022-12-25T00:33:26.726055",
     "status": "completed"
    },
    "tags": []
   },
   "outputs": [
    {
     "name": "stdout",
     "output_type": "stream",
     "text": [
      "Positive , Parkinson's Found\n"
     ]
    }
   ],
   "source": [
    "if PREDICTION2 ==1:\n",
    "    print(\"Positive , Parkinson's Found\")\n",
    "else :\n",
    "    print(\"Negative , No Parkinson's Found\")"
   ]
  },
  {
   "cell_type": "markdown",
   "id": "64e13712",
   "metadata": {
    "papermill": {
     "duration": 0.02356,
     "end_time": "2022-12-25T00:33:26.810047",
     "exception": false,
     "start_time": "2022-12-25T00:33:26.786487",
     "status": "completed"
    },
    "tags": []
   },
   "source": [
    "# ---------------------------------------------------------------------------------------"
   ]
  },
  {
   "cell_type": "markdown",
   "id": "6a16277a",
   "metadata": {
    "papermill": {
     "duration": 0.023527,
     "end_time": "2022-12-25T00:33:26.857451",
     "exception": false,
     "start_time": "2022-12-25T00:33:26.833924",
     "status": "completed"
    },
    "tags": []
   },
   "source": [
    "# DECISION TREE"
   ]
  },
  {
   "cell_type": "markdown",
   "id": "b762e01e",
   "metadata": {
    "papermill": {
     "duration": 0.023448,
     "end_time": "2022-12-25T00:33:26.904659",
     "exception": false,
     "start_time": "2022-12-25T00:33:26.881211",
     "status": "completed"
    },
    "tags": []
   },
   "source": [
    "# First Wat (Recomended)"
   ]
  },
  {
   "cell_type": "code",
   "execution_count": 35,
   "id": "83580acd",
   "metadata": {
    "execution": {
     "iopub.execute_input": "2022-12-25T00:33:26.954103Z",
     "iopub.status.busy": "2022-12-25T00:33:26.953657Z",
     "iopub.status.idle": "2022-12-25T00:33:27.000181Z",
     "shell.execute_reply": "2022-12-25T00:33:26.998731Z"
    },
    "papermill": {
     "duration": 0.074861,
     "end_time": "2022-12-25T00:33:27.003335",
     "exception": false,
     "start_time": "2022-12-25T00:33:26.928474",
     "status": "completed"
    },
    "tags": []
   },
   "outputs": [],
   "source": [
    "from sklearn.model_selection import train_test_split\n",
    "from sklearn.tree import DecisionTreeClassifier \n",
    "from sklearn.metrics import accuracy_score, precision_score, recall_score, f1_score\n",
    "\n",
    "DT_matrices = {\"accuracy\" : [], \"precision\" : [], \"recall\" : [], \"f1-score\" : []}\n",
    "size = .5\n",
    "\n",
    "while size >= .1:\n",
    "\n",
    "    x_train,x_test,y_train,y_test=train_test_split(N_features0, N_target0, test_size=size, shuffle=False)\n",
    "    \n",
    "    DTModel=DecisionTreeClassifier(max_depth=4) \n",
    "    \n",
    "    DTModel.fit(x_train,y_train)\n",
    "\n",
    "    y_pred=DTModel.predict(x_test)\n",
    "\n",
    "\n",
    "    accuracy = accuracy_score(y_test, y_pred)\n",
    "    DT_matrices[\"accuracy\"].append(accuracy * 100)\n",
    "        \n",
    "    precision = precision_score(y_test, y_pred)\n",
    "    DT_matrices[\"precision\"].append(precision * 100)\n",
    "    \n",
    "    recall = recall_score(y_test, y_pred)\n",
    "    DT_matrices[\"recall\"].append(recall * 100)\n",
    "    \n",
    "    f1Score = f1_score(y_test, y_pred)\n",
    "    DT_matrices[\"f1-score\"].append(f1Score * 100)\n",
    "    \n",
    "    \n",
    "    size -= .05"
   ]
  },
  {
   "cell_type": "code",
   "execution_count": 36,
   "id": "1538b8e9",
   "metadata": {
    "execution": {
     "iopub.execute_input": "2022-12-25T00:33:27.056799Z",
     "iopub.status.busy": "2022-12-25T00:33:27.056123Z",
     "iopub.status.idle": "2022-12-25T00:33:27.317495Z",
     "shell.execute_reply": "2022-12-25T00:33:27.316284Z"
    },
    "papermill": {
     "duration": 0.292479,
     "end_time": "2022-12-25T00:33:27.320099",
     "exception": false,
     "start_time": "2022-12-25T00:33:27.027620",
     "status": "completed"
    },
    "tags": []
   },
   "outputs": [
    {
     "data": {
      "image/png": "[encoded data removed]",
      "text/plain": [
       "<Figure size 432x288 with 1 Axes>"
      ]
     },
     "metadata": {
      "needs_background": "light"
     },
     "output_type": "display_data"
    }
   ],
   "source": [
    "training_size = [\"50%\",\"55%\",\"60%\", \"65%\", \"70%\", \"75%\", \"80%\", \"85%\", \"90%\"]\n",
    "\n",
    "\n",
    "plt.plot(training_size , DT_matrices['accuracy'], label=\"Accuracy\")\n",
    "plt.plot(training_size , DT_matrices['precision'], label=\"Precision\")\n",
    "plt.plot(training_size , DT_matrices['recall'], label=\"Recall\")\n",
    "plt.plot(training_size , DT_matrices['f1-score'], label=\"F1-Score\")\n",
    "\n",
    "plt.ylabel(\"%\")\n",
    "plt.xlabel(\"Training Size\")\n",
    "plt.legend(loc=\"upper left\")\n",
    "plt.grid(linestyle='--', linewidth=1)"
   ]
  },
  {
   "cell_type": "markdown",
   "id": "d044170e",
   "metadata": {
    "papermill": {
     "duration": 0.0249,
     "end_time": "2022-12-25T00:33:27.370159",
     "exception": false,
     "start_time": "2022-12-25T00:33:27.345259",
     "status": "completed"
    },
    "tags": []
   },
   "source": [
    "# Second Way"
   ]
  },
  {
   "cell_type": "markdown",
   "id": "325e2ef2",
   "metadata": {
    "papermill": {
     "duration": 0.025386,
     "end_time": "2022-12-25T00:33:27.420726",
     "exception": false,
     "start_time": "2022-12-25T00:33:27.395340",
     "status": "completed"
    },
    "tags": []
   },
   "source": [
    "## SPLITTING DATA"
   ]
  },
  {
   "cell_type": "code",
   "execution_count": 37,
   "id": "45e390ee",
   "metadata": {
    "execution": {
     "iopub.execute_input": "2022-12-25T00:33:27.473248Z",
     "iopub.status.busy": "2022-12-25T00:33:27.472721Z",
     "iopub.status.idle": "2022-12-25T00:33:27.478263Z",
     "shell.execute_reply": "2022-12-25T00:33:27.477457Z"
    },
    "papermill": {
     "duration": 0.034948,
     "end_time": "2022-12-25T00:33:27.480536",
     "exception": false,
     "start_time": "2022-12-25T00:33:27.445588",
     "status": "completed"
    },
    "tags": []
   },
   "outputs": [],
   "source": [
    "from sklearn.model_selection import train_test_split\n",
    "x_train3,x_test3,y_train3,y_test3=train_test_split(N_features0,N_target0, test_size=0.1,shuffle=False)"
   ]
  },
  {
   "cell_type": "markdown",
   "id": "a0464dd6",
   "metadata": {
    "papermill": {
     "duration": 0.026295,
     "end_time": "2022-12-25T00:33:27.531938",
     "exception": false,
     "start_time": "2022-12-25T00:33:27.505643",
     "status": "completed"
    },
    "tags": []
   },
   "source": [
    "## MAKE A MODEL TO PREDETION"
   ]
  },
  {
   "cell_type": "code",
   "execution_count": 38,
   "id": "98b22d31",
   "metadata": {
    "execution": {
     "iopub.execute_input": "2022-12-25T00:33:27.587258Z",
     "iopub.status.busy": "2022-12-25T00:33:27.586260Z",
     "iopub.status.idle": "2022-12-25T00:33:27.597065Z",
     "shell.execute_reply": "2022-12-25T00:33:27.595330Z"
    },
    "papermill": {
     "duration": 0.04083,
     "end_time": "2022-12-25T00:33:27.599413",
     "exception": false,
     "start_time": "2022-12-25T00:33:27.558583",
     "status": "completed"
    },
    "scrolled": true,
    "tags": []
   },
   "outputs": [
    {
     "name": "stdout",
     "output_type": "stream",
     "text": [
      "Decision Tree Model Train Score Is : 99.43 %\n",
      "Decision Tree Model Test Score Is : 90.0 %\n"
     ]
    }
   ],
   "source": [
    "from sklearn.tree import DecisionTreeClassifier\n",
    "\n",
    "DTModel=DecisionTreeClassifier(max_depth=4) \n",
    "\n",
    "DTModel.fit(x_train3,y_train3)\n",
    "\n",
    "y_pred3=DTModel.predict(x_test3)\n",
    "\n",
    "\n",
    "#Calculating Details\n",
    "\n",
    "print(f\"Decision Tree Model Train Score Is : {round((DTModel.score(x_train3,y_train3)*100),2)} %\")\n",
    "print(f\"Decision Tree Model Test Score Is : {round((DTModel.score(x_test3,y_test3)*100),2)} %\")"
   ]
  },
  {
   "cell_type": "markdown",
   "id": "a09f6dfc",
   "metadata": {
    "papermill": {
     "duration": 0.024695,
     "end_time": "2022-12-25T00:33:27.649153",
     "exception": false,
     "start_time": "2022-12-25T00:33:27.624458",
     "status": "completed"
    },
    "tags": []
   },
   "source": [
    "## Predect New Data"
   ]
  },
  {
   "cell_type": "code",
   "execution_count": 39,
   "id": "95dd935b",
   "metadata": {
    "execution": {
     "iopub.execute_input": "2022-12-25T00:33:27.702309Z",
     "iopub.status.busy": "2022-12-25T00:33:27.701910Z",
     "iopub.status.idle": "2022-12-25T00:33:27.709423Z",
     "shell.execute_reply": "2022-12-25T00:33:27.708067Z"
    },
    "papermill": {
     "duration": 0.036785,
     "end_time": "2022-12-25T00:33:27.711626",
     "exception": false,
     "start_time": "2022-12-25T00:33:27.674841",
     "status": "completed"
    },
    "tags": []
   },
   "outputs": [],
   "source": [
    "INPUT_DATA3=(Positive[0])\n",
    "# INPUT_DATA3=(Negative[0])\n",
    "\n",
    "INPUT_DATA_NP3=np.asarray(INPUT_DATA3)\n",
    "\n",
    "INPUT_DATA_NP_RE3=INPUT_DATA_NP3.reshape(1,-1)\n",
    "\n",
    "FINAL_DATA3=scaler.transform(INPUT_DATA_NP_RE3)\n",
    "\n",
    "PREDICTION3=KNNModel.predict(FINAL_DATA3)"
   ]
  },
  {
   "cell_type": "code",
   "execution_count": 40,
   "id": "cd8f82de",
   "metadata": {
    "execution": {
     "iopub.execute_input": "2022-12-25T00:33:27.767176Z",
     "iopub.status.busy": "2022-12-25T00:33:27.765833Z",
     "iopub.status.idle": "2022-12-25T00:33:27.772348Z",
     "shell.execute_reply": "2022-12-25T00:33:27.770968Z"
    },
    "papermill": {
     "duration": 0.035813,
     "end_time": "2022-12-25T00:33:27.774775",
     "exception": false,
     "start_time": "2022-12-25T00:33:27.738962",
     "status": "completed"
    },
    "tags": []
   },
   "outputs": [
    {
     "name": "stdout",
     "output_type": "stream",
     "text": [
      "Positive , Parkinson's Found\n"
     ]
    }
   ],
   "source": [
    "if PREDICTION3 ==1:\n",
    "    print(\"Positive , Parkinson's Found\")\n",
    "else :\n",
    "    print(\"Negative , No Parkinson's Found\")"
   ]
  },
  {
   "cell_type": "markdown",
   "id": "80ee6a42",
   "metadata": {
    "papermill": {
     "duration": 0.025864,
     "end_time": "2022-12-25T00:33:27.826555",
     "exception": false,
     "start_time": "2022-12-25T00:33:27.800691",
     "status": "completed"
    },
    "tags": []
   },
   "source": [
    "# ==================================================="
   ]
  },
  {
   "cell_type": "markdown",
   "id": "12f96e0f",
   "metadata": {
    "papermill": {
     "duration": 0.024777,
     "end_time": "2022-12-25T00:33:27.877297",
     "exception": false,
     "start_time": "2022-12-25T00:33:27.852520",
     "status": "completed"
    },
    "tags": []
   },
   "source": [
    "# SCORE OF ERROR"
   ]
  },
  {
   "cell_type": "markdown",
   "id": "eefc2e24",
   "metadata": {
    "papermill": {
     "duration": 0.025107,
     "end_time": "2022-12-25T00:33:27.928339",
     "exception": false,
     "start_time": "2022-12-25T00:33:27.903232",
     "status": "completed"
    },
    "tags": []
   },
   "source": [
    "## Zero One Lose"
   ]
  },
  {
   "cell_type": "code",
   "execution_count": 41,
   "id": "baeb6715",
   "metadata": {
    "execution": {
     "iopub.execute_input": "2022-12-25T00:33:27.979711Z",
     "iopub.status.busy": "2022-12-25T00:33:27.979305Z",
     "iopub.status.idle": "2022-12-25T00:33:27.990620Z",
     "shell.execute_reply": "2022-12-25T00:33:27.988638Z"
    },
    "papermill": {
     "duration": 0.040964,
     "end_time": "2022-12-25T00:33:27.994195",
     "exception": false,
     "start_time": "2022-12-25T00:33:27.953231",
     "status": "completed"
    },
    "scrolled": true,
    "tags": []
   },
   "outputs": [
    {
     "name": "stdout",
     "output_type": "stream",
     "text": [
      "Logistic Regression\n",
      "Zero One Loss Value :  2\n",
      "\n",
      "SVC\n",
      "Zero One Loss Value :  11\n",
      "\n",
      "KNN\n",
      "Zero One Loss Value :  2\n",
      "\n",
      "Decision TREE\n",
      "Zero One Loss Value :  2\n"
     ]
    }
   ],
   "source": [
    "from sklearn.metrics import zero_one_loss\n",
    "#----------------------------------------------------\n",
    "print('Logistic Regression')\n",
    "Z_O_L = zero_one_loss(y_test,y_pred,normalize=False) \n",
    "print('Zero One Loss Value : ', Z_O_L )\n",
    "#----------------------------------------------------\n",
    "print('\\nSVC')\n",
    "\n",
    "Z_O_L1 = zero_one_loss(y_test1,y_pred1,normalize=False) \n",
    "print('Zero One Loss Value : ', Z_O_L1 )\n",
    "#----------------------------------------------------\n",
    "print('\\nKNN')\n",
    "\n",
    "Z_O_L2 = zero_one_loss(y_test2,y_pred2,normalize=False) \n",
    "print('Zero One Loss Value : ', Z_O_L2 )\n",
    "#----------------------------------------------------\n",
    "print(\"\\nDecision TREE\")\n",
    "\n",
    "Z_O_L3 = zero_one_loss(y_test3,y_pred3,normalize=False)\n",
    "print('Zero One Loss Value : ', Z_O_L3 )"
   ]
  },
  {
   "cell_type": "markdown",
   "id": "57ba0450",
   "metadata": {
    "papermill": {
     "duration": 0.025507,
     "end_time": "2022-12-25T00:33:28.045909",
     "exception": false,
     "start_time": "2022-12-25T00:33:28.020402",
     "status": "completed"
    },
    "tags": []
   },
   "source": [
    "## ROC & AUC"
   ]
  },
  {
   "cell_type": "code",
   "execution_count": 42,
   "id": "e5573911",
   "metadata": {
    "execution": {
     "iopub.execute_input": "2022-12-25T00:33:28.100766Z",
     "iopub.status.busy": "2022-12-25T00:33:28.100371Z",
     "iopub.status.idle": "2022-12-25T00:33:28.105795Z",
     "shell.execute_reply": "2022-12-25T00:33:28.104601Z"
    },
    "papermill": {
     "duration": 0.036367,
     "end_time": "2022-12-25T00:33:28.108318",
     "exception": false,
     "start_time": "2022-12-25T00:33:28.071951",
     "status": "completed"
    },
    "tags": []
   },
   "outputs": [],
   "source": [
    "from sklearn.metrics import roc_curve, roc_auc_score"
   ]
  },
  {
   "cell_type": "code",
   "execution_count": 43,
   "id": "efc4ca69",
   "metadata": {
    "execution": {
     "iopub.execute_input": "2022-12-25T00:33:28.162909Z",
     "iopub.status.busy": "2022-12-25T00:33:28.161724Z",
     "iopub.status.idle": "2022-12-25T00:33:28.180646Z",
     "shell.execute_reply": "2022-12-25T00:33:28.179290Z"
    },
    "papermill": {
     "duration": 0.048277,
     "end_time": "2022-12-25T00:33:28.183379",
     "exception": false,
     "start_time": "2022-12-25T00:33:28.135102",
     "status": "completed"
    },
    "tags": []
   },
   "outputs": [],
   "source": [
    "y_pred_proba    = LRModel.predict_proba(x_test)[::,1]\n",
    "fpr, tpr, _     = roc_curve(y_test,  y_pred_proba)\n",
    "auc             = roc_auc_score(y_test, y_pred_proba)\n",
    "#-------------------------------------------------------------\n",
    "\n",
    "y_pred_proba1   = SVCModel.predict_proba(x_test1)[::,1]\n",
    "fpr1, tpr1, _   = roc_curve(y_test1,  y_pred_proba1)\n",
    "auc1            = roc_auc_score(y_test1, y_pred_proba1)\n",
    "\n",
    "#-------------------------------------------------------------\n",
    "\n",
    "y_pred_proba2   = KNNModel.predict_proba(x_test2)[::,1]\n",
    "fpr2, tpr2, _   = roc_curve(y_test2,  y_pred_proba2)\n",
    "auc2            = roc_auc_score(y_test2, y_pred_proba2)\n",
    "                                     \n",
    "#-------------------------------------------------------------\n",
    "\n",
    "y_pred_proba3   = LRModel.predict_proba(x_test3)[::,1]\n",
    "fpr3, tpr3, _   = roc_curve(y_test3,  y_pred_proba3)\n",
    "auc3            = roc_auc_score(y_test3, y_pred_proba3)\n"
   ]
  },
  {
   "cell_type": "code",
   "execution_count": 44,
   "id": "c3364ede",
   "metadata": {
    "execution": {
     "iopub.execute_input": "2022-12-25T00:33:28.237321Z",
     "iopub.status.busy": "2022-12-25T00:33:28.236836Z",
     "iopub.status.idle": "2022-12-25T00:33:28.824206Z",
     "shell.execute_reply": "2022-12-25T00:33:28.822910Z"
    },
    "papermill": {
     "duration": 0.617829,
     "end_time": "2022-12-25T00:33:28.827057",
     "exception": false,
     "start_time": "2022-12-25T00:33:28.209228",
     "status": "completed"
    },
    "tags": []
   },
   "outputs": [
    {
     "data": {
      "image/png": "[encoded data removed]",
      "text/plain": [
       "<Figure size 864x864 with 4 Axes>"
      ]
     },
     "metadata": {
      "needs_background": "light"
     },
     "output_type": "display_data"
    }
   ],
   "source": [
    "plt.figure(figsize=(12,12))\n",
    "\n",
    "plt.subplot(2,2,1)\n",
    "plt.plot(fpr,tpr,label=\"AUC=\"+str(auc))\n",
    "\n",
    "plt.title ('ROC Curve for Logistic Regression Model')\n",
    "plt.xlabel('False Positive Rate')\n",
    "plt.ylabel('True Positive Rate')\n",
    "plt.grid(linestyle = '--', linewidth = 1)\n",
    "plt.legend(loc='lower right')\n",
    "\n",
    "\n",
    "plt.subplot(2,2,2)\n",
    "plt.plot(fpr1,tpr1,label=\"AUC=\"+str(auc1))\n",
    "\n",
    "plt.title ('ROC Curve for SVC Model')\n",
    "plt.xlabel('False Positive Rate')\n",
    "plt.ylabel('True Positive Rate')\n",
    "plt.grid(linestyle = '--', linewidth = 1)\n",
    "plt.legend(loc='lower right')\n",
    "\n",
    "\n",
    "plt.subplot(2,2,3)\n",
    "plt.plot(fpr2,tpr2,label=\"AUC=\"+str(auc2))\n",
    "\n",
    "plt.title ('ROC Curve for KNN Model')\n",
    "plt.xlabel('False Positive Rate')\n",
    "plt.ylabel('True Positive Rate')\n",
    "plt.grid(linestyle = '--', linewidth = 1)\n",
    "plt.legend(loc='lower right')\n",
    "\n",
    "\n",
    "plt.subplot(2,2,4)\n",
    "plt.plot(fpr3,tpr3,label=f\"AUC={str(auc3)}\")\n",
    "\n",
    "plt.title ('ROC Curve for Decision Tree Model')\n",
    "plt.xlabel('False Positive Rate')\n",
    "plt.ylabel('True Positive Rate')\n",
    "plt.grid(linestyle = '--', linewidth = 1)\n",
    "plt.legend(loc='lower right')\n",
    "\n",
    "\n",
    "plt.show()\n"
   ]
  },
  {
   "cell_type": "markdown",
   "id": "8160065b",
   "metadata": {
    "papermill": {
     "duration": 0.02604,
     "end_time": "2022-12-25T00:33:28.880289",
     "exception": false,
     "start_time": "2022-12-25T00:33:28.854249",
     "status": "completed"
    },
    "tags": []
   },
   "source": [
    "## Confusion Matrix"
   ]
  },
  {
   "cell_type": "code",
   "execution_count": 45,
   "id": "b00a7b75",
   "metadata": {
    "execution": {
     "iopub.execute_input": "2022-12-25T00:33:28.935176Z",
     "iopub.status.busy": "2022-12-25T00:33:28.934705Z",
     "iopub.status.idle": "2022-12-25T00:33:28.940056Z",
     "shell.execute_reply": "2022-12-25T00:33:28.938920Z"
    },
    "papermill": {
     "duration": 0.035282,
     "end_time": "2022-12-25T00:33:28.942403",
     "exception": false,
     "start_time": "2022-12-25T00:33:28.907121",
     "status": "completed"
    },
    "tags": []
   },
   "outputs": [],
   "source": [
    "#Import Libraries\n",
    "from sklearn.metrics import confusion_matrix\n",
    "import seaborn as sns"
   ]
  },
  {
   "cell_type": "code",
   "execution_count": 46,
   "id": "b2062625",
   "metadata": {
    "execution": {
     "iopub.execute_input": "2022-12-25T00:33:28.996791Z",
     "iopub.status.busy": "2022-12-25T00:33:28.996338Z",
     "iopub.status.idle": "2022-12-25T00:33:29.766719Z",
     "shell.execute_reply": "2022-12-25T00:33:29.765855Z"
    },
    "papermill": {
     "duration": 0.800559,
     "end_time": "2022-12-25T00:33:29.769319",
     "exception": false,
     "start_time": "2022-12-25T00:33:28.968760",
     "status": "completed"
    },
    "tags": []
   },
   "outputs": [
    {
     "data": {
      "image/png": "[encoded data removed]",
      "text/plain": [
       "<Figure size 864x864 with 8 Axes>"
      ]
     },
     "metadata": {
      "needs_background": "light"
     },
     "output_type": "display_data"
    }
   ],
   "source": [
    "plt.figure(figsize=(12,12))\n",
    "\n",
    "plt.subplot(2,2,1)\n",
    "CM = confusion_matrix(y_test,y_pred) #Calculating Confusion Matrix\n",
    "# drawing confusion matrix\n",
    "sns.heatmap(CM,annot=True ,cmap='binary')  #CM/np.sum(CM),fmt='.1%'\n",
    "plt.title(\"Logistic Regression\")\n",
    "\n",
    "plt.subplot(2,2,2)\n",
    "\n",
    "CM = confusion_matrix(y_test1,y_pred1) #Calculating Confusion Matrix\n",
    "# drawing confusion matrix\n",
    "sns.heatmap(CM,annot=True ,cmap='binary')  #CM/np.sum(CM),fmt='.1%'\n",
    "plt.title(\"SVC\")\n",
    "\n",
    "plt.subplot(2,2,3)\n",
    "\n",
    "CM = confusion_matrix(y_test2,y_pred2) #Calculating Confusion Matrix\n",
    "# drawing confusion matrix\n",
    "sns.heatmap(CM,annot=True ,cmap='binary')  #CM/np.sum(CM),fmt='.1%'\n",
    "plt.title(\"KNN\")\n",
    "\n",
    "plt.subplot(2,2,4)\n",
    "\n",
    "CM = confusion_matrix(y_test3,y_pred3) #Calculating Confusion Matrix\n",
    "# drawing confusion matrix\n",
    "sns.heatmap(CM,annot=True ,cmap='binary')  #CM/np.sum(CM),fmt='.1%'\n",
    "plt.title(\"Decision Tree\")\n",
    "\n",
    "plt.show()"
   ]
  },
  {
   "cell_type": "markdown",
   "id": "736ca72d",
   "metadata": {
    "papermill": {
     "duration": 0.026024,
     "end_time": "2022-12-25T00:33:29.822059",
     "exception": false,
     "start_time": "2022-12-25T00:33:29.796035",
     "status": "completed"
    },
    "tags": []
   },
   "source": [
    "# Classification Report (( Percision, Recall, F1-Score ))"
   ]
  },
  {
   "cell_type": "code",
   "execution_count": 47,
   "id": "50703f56",
   "metadata": {
    "execution": {
     "iopub.execute_input": "2022-12-25T00:33:29.879306Z",
     "iopub.status.busy": "2022-12-25T00:33:29.878586Z",
     "iopub.status.idle": "2022-12-25T00:33:29.889910Z",
     "shell.execute_reply": "2022-12-25T00:33:29.888336Z"
    },
    "papermill": {
     "duration": 0.043948,
     "end_time": "2022-12-25T00:33:29.892479",
     "exception": false,
     "start_time": "2022-12-25T00:33:29.848531",
     "status": "completed"
    },
    "tags": []
   },
   "outputs": [
    {
     "name": "stdout",
     "output_type": "stream",
     "text": [
      "Accuracy 90.0\n",
      "Precision 100.0\n",
      "Recall 86.66666666666667\n",
      "F1-Score 92.85714285714286\n"
     ]
    }
   ],
   "source": [
    "from sklearn.metrics import accuracy_score, precision_score, recall_score, f1_score\n",
    "#LG\n",
    "accuracy =accuracy_score(y_test,y_pred) *100\n",
    "precision=precision_score(y_test,y_pred)*100\n",
    "recall   =recall_score(y_test,y_pred)   *100\n",
    "F1_score =f1_score(y_test,y_pred)       *100\n",
    "\n",
    "print(f\"Accuracy {accuracy}\\nPrecision {precision}\\nRecall {recall}\\nF1-Score {F1_score}\")"
   ]
  },
  {
   "cell_type": "code",
   "execution_count": 48,
   "id": "ea1387e0",
   "metadata": {
    "execution": {
     "iopub.execute_input": "2022-12-25T00:33:29.949067Z",
     "iopub.status.busy": "2022-12-25T00:33:29.947963Z",
     "iopub.status.idle": "2022-12-25T00:33:29.960180Z",
     "shell.execute_reply": "2022-12-25T00:33:29.958349Z"
    },
    "papermill": {
     "duration": 0.044404,
     "end_time": "2022-12-25T00:33:29.964216",
     "exception": false,
     "start_time": "2022-12-25T00:33:29.919812",
     "status": "completed"
    },
    "tags": []
   },
   "outputs": [
    {
     "name": "stdout",
     "output_type": "stream",
     "text": [
      "Accuracy 83.07692307692308\n",
      "Precision 91.83673469387756\n",
      "Recall 86.53846153846155\n",
      "F1-Score 89.10891089108911\n"
     ]
    }
   ],
   "source": [
    "from sklearn.metrics import accuracy_score, precision_score, recall_score, f1_score\n",
    "#SVC \n",
    "accuracy1 =accuracy_score(y_test1,y_pred1)   *100 \n",
    "precision1=precision_score(y_test1,y_pred1)  *100\n",
    "recall1   =recall_score(y_test1,y_pred1)     *100\n",
    "f1_score1 =f1_score(y_test1,y_pred1)         *100\n",
    "\n",
    "print(f\"Accuracy {accuracy1}\\nPrecision {precision1}\\nRecall {recall1}\\nF1-Score {f1_score1}\")"
   ]
  },
  {
   "cell_type": "code",
   "execution_count": 49,
   "id": "35d02831",
   "metadata": {
    "execution": {
     "iopub.execute_input": "2022-12-25T00:33:30.022083Z",
     "iopub.status.busy": "2022-12-25T00:33:30.021638Z",
     "iopub.status.idle": "2022-12-25T00:33:30.035867Z",
     "shell.execute_reply": "2022-12-25T00:33:30.034052Z"
    },
    "papermill": {
     "duration": 0.046216,
     "end_time": "2022-12-25T00:33:30.038639",
     "exception": false,
     "start_time": "2022-12-25T00:33:29.992423",
     "status": "completed"
    },
    "tags": []
   },
   "outputs": [
    {
     "name": "stdout",
     "output_type": "stream",
     "text": [
      "Accuracy 90.0\n",
      "Precision 100.0\n",
      "Recall 86.66666666666667\n",
      "F1-Score 92.85714285714286\n"
     ]
    }
   ],
   "source": [
    "from sklearn.metrics import accuracy_score, precision_score, recall_score, f1_score\n",
    "#KNN\n",
    "accuracy2 =accuracy_score(y_test2,y_pred2)   *100\n",
    "precision2=precision_score(y_test2,y_pred2)  *100 \n",
    "recall2   =recall_score(y_test2,y_pred2)     *100\n",
    "f1_score2 =f1_score(y_test2,y_pred2)         *100\n",
    "\n",
    "\n",
    "print(f\"Accuracy {accuracy2}\\nPrecision {precision2}\\nRecall {recall2}\\nF1-Score {f1_score2}\")"
   ]
  },
  {
   "cell_type": "code",
   "execution_count": 50,
   "id": "66fd73b7",
   "metadata": {
    "execution": {
     "iopub.execute_input": "2022-12-25T00:33:30.096543Z",
     "iopub.status.busy": "2022-12-25T00:33:30.095902Z",
     "iopub.status.idle": "2022-12-25T00:33:30.107302Z",
     "shell.execute_reply": "2022-12-25T00:33:30.105563Z"
    },
    "papermill": {
     "duration": 0.043799,
     "end_time": "2022-12-25T00:33:30.110598",
     "exception": false,
     "start_time": "2022-12-25T00:33:30.066799",
     "status": "completed"
    },
    "tags": []
   },
   "outputs": [
    {
     "name": "stdout",
     "output_type": "stream",
     "text": [
      "Accuracy 90.0\n",
      "Precision 100.0\n",
      "Recall 86.66666666666667\n",
      "F1-Score 92.85714285714286\n"
     ]
    }
   ],
   "source": [
    "from sklearn.metrics import accuracy_score, precision_score, recall_score, f1_score\n",
    "#Decision Tree\n",
    "accuracy3 =accuracy_score(y_test3,y_pred3)   *100\n",
    "precision3=precision_score(y_test3,y_pred3)  *100\n",
    "recall3   =recall_score(y_test3,y_pred3)     *100\n",
    "f1_score3 =f1_score(y_test3,y_pred3)         *100\n",
    "\n",
    "\n",
    "print(f\"Accuracy {accuracy3}\\nPrecision {precision3}\\nRecall {recall3}\\nF1-Score {f1_score3}\")"
   ]
  },
  {
   "cell_type": "markdown",
   "id": "fd90c00a",
   "metadata": {
    "papermill": {
     "duration": 0.027729,
     "end_time": "2022-12-25T00:33:30.167029",
     "exception": false,
     "start_time": "2022-12-25T00:33:30.139300",
     "status": "completed"
    },
    "tags": []
   },
   "source": [
    "# Save Models"
   ]
  },
  {
   "cell_type": "code",
   "execution_count": 51,
   "id": "f7dded21",
   "metadata": {
    "execution": {
     "iopub.execute_input": "2022-12-25T00:33:30.227525Z",
     "iopub.status.busy": "2022-12-25T00:33:30.226377Z",
     "iopub.status.idle": "2022-12-25T00:33:30.231917Z",
     "shell.execute_reply": "2022-12-25T00:33:30.230962Z"
    },
    "papermill": {
     "duration": 0.038819,
     "end_time": "2022-12-25T00:33:30.234270",
     "exception": false,
     "start_time": "2022-12-25T00:33:30.195451",
     "status": "completed"
    },
    "tags": []
   },
   "outputs": [],
   "source": [
    "# dump(LRModel, 'LogisticRegression.joblib')\n",
    "# dump(SVCModel,'SupporVectorClassification.joblib')\n",
    "# dump(KNNModel,'k-NearestNeighbor.joblib')\n",
    "# dump(DTModel,'DecisionTree.joblib')"
   ]
  },
  {
   "cell_type": "markdown",
   "id": "08076aef",
   "metadata": {
    "papermill": {
     "duration": 0.027283,
     "end_time": "2022-12-25T00:33:30.289141",
     "exception": false,
     "start_time": "2022-12-25T00:33:30.261858",
     "status": "completed"
    },
    "tags": []
   },
   "source": [
    "# END"
   ]
  }
 ],
 "metadata": {
  "kernelspec": {
   "display_name": "Python 3",
   "language": "python",
   "name": "python3"
  },
  "language_info": {
   "codemirror_mode": {
    "name": "ipython",
    "version": 3
   },
   "file_extension": ".py",
   "mimetype": "text/x-python",
   "name": "python",
   "nbconvert_exporter": "python",
   "pygments_lexer": "ipython3",
   "version": "3.7.12"
  },
  "papermill": {
   "default_parameters": {},
   "duration": 25.005588,
   "end_time": "2022-12-25T00:33:31.239783",
   "environment_variables": {},
   "exception": null,
   "input_path": "__notebook__.ipynb",
   "output_path": "__notebook__.ipynb",
   "parameters": {},
   "start_time": "2022-12-25T00:33:06.234195",
   "version": "2.3.4"
  }
 },
 "nbformat": 4,
 "nbformat_minor": 5
}
